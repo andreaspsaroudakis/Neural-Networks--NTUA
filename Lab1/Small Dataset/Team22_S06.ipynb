{
  "nbformat": 4,
  "nbformat_minor": 0,
  "metadata": {
    "colab": {
      "name": "Team22_S06.ipynb",
      "provenance": [],
      "collapsed_sections": [
        "06SFHqQVUB0p",
        "gLywWeboUfjq",
        "DIHnQmI3_Ep5",
        "WZmFgzNaUCy4"
      ]
    },
    "kernelspec": {
      "display_name": "Python 3",
      "name": "python3"
    }
  },
  "cells": [
    {
      "cell_type": "markdown",
      "metadata": {
        "id": "H-7DxGM90CS5"
      },
      "source": [
        "# Εγκατάσταση και ενημέρωση βιβλιοθηκών"
      ]
    },
    {
      "cell_type": "code",
      "metadata": {
        "colab": {
          "base_uri": "https://localhost:8080/"
        },
        "id": "0sQiezHLkPcs",
        "outputId": "6daafc3a-b105-4cfc-a669-4042070196d6"
      },
      "source": [
        "!pip install --upgrade pip                #upgrade pip package installer\n",
        "!pip install scikit-learn --upgrade       #upgrade scikit-learn package\n",
        "!pip install numpy --upgrade              #upgrade numpy package\n",
        "!pip install pandas --upgrade             #--upgrade #upgrade pandas package\n",
        "!pip install --upgrade imbalanced-learn"
      ],
      "execution_count": null,
      "outputs": [
        {
          "output_type": "stream",
          "text": [
            "Requirement already satisfied: pip in /usr/local/lib/python3.6/dist-packages (20.3.1)\n",
            "Requirement already satisfied: scikit-learn in /usr/local/lib/python3.6/dist-packages (0.23.2)\n",
            "Requirement already satisfied: threadpoolctl>=2.0.0 in /usr/local/lib/python3.6/dist-packages (from scikit-learn) (2.1.0)\n",
            "Requirement already satisfied: scipy>=0.19.1 in /usr/local/lib/python3.6/dist-packages (from scikit-learn) (1.4.1)\n",
            "Requirement already satisfied: joblib>=0.11 in /usr/local/lib/python3.6/dist-packages (from scikit-learn) (0.17.0)\n",
            "Requirement already satisfied: numpy>=1.13.3 in /usr/local/lib/python3.6/dist-packages (from scikit-learn) (1.19.4)\n",
            "Requirement already satisfied: numpy>=1.13.3 in /usr/local/lib/python3.6/dist-packages (from scikit-learn) (1.19.4)\n",
            "Requirement already satisfied: numpy in /usr/local/lib/python3.6/dist-packages (1.19.4)\n",
            "Requirement already satisfied: pandas in /usr/local/lib/python3.6/dist-packages (1.1.5)\n",
            "Requirement already satisfied: numpy>=1.15.4 in /usr/local/lib/python3.6/dist-packages (from pandas) (1.19.4)\n",
            "Requirement already satisfied: pytz>=2017.2 in /usr/local/lib/python3.6/dist-packages (from pandas) (2018.9)\n",
            "Requirement already satisfied: python-dateutil>=2.7.3 in /usr/local/lib/python3.6/dist-packages (from pandas) (2.8.1)\n",
            "Requirement already satisfied: six>=1.5 in /usr/local/lib/python3.6/dist-packages (from python-dateutil>=2.7.3->pandas) (1.15.0)\n",
            "Requirement already satisfied: imbalanced-learn in /usr/local/lib/python3.6/dist-packages (0.7.0)\n",
            "Requirement already satisfied: joblib>=0.11 in /usr/local/lib/python3.6/dist-packages (from imbalanced-learn) (0.17.0)\n",
            "Requirement already satisfied: scikit-learn>=0.23 in /usr/local/lib/python3.6/dist-packages (from imbalanced-learn) (0.23.2)\n",
            "Requirement already satisfied: scipy>=0.19.1 in /usr/local/lib/python3.6/dist-packages (from imbalanced-learn) (1.4.1)\n",
            "Requirement already satisfied: numpy>=1.13.3 in /usr/local/lib/python3.6/dist-packages (from imbalanced-learn) (1.19.4)\n",
            "Requirement already satisfied: joblib>=0.11 in /usr/local/lib/python3.6/dist-packages (from imbalanced-learn) (0.17.0)\n",
            "Requirement already satisfied: scipy>=0.19.1 in /usr/local/lib/python3.6/dist-packages (from imbalanced-learn) (1.4.1)\n",
            "Requirement already satisfied: numpy>=1.13.3 in /usr/local/lib/python3.6/dist-packages (from imbalanced-learn) (1.19.4)\n",
            "Requirement already satisfied: threadpoolctl>=2.0.0 in /usr/local/lib/python3.6/dist-packages (from scikit-learn>=0.23->imbalanced-learn) (2.1.0)\n",
            "Requirement already satisfied: numpy>=1.13.3 in /usr/local/lib/python3.6/dist-packages (from imbalanced-learn) (1.19.4)\n"
          ],
          "name": "stdout"
        }
      ]
    },
    {
      "cell_type": "markdown",
      "metadata": {
        "id": "LSU3C9CdJ9za"
      },
      "source": [
        "# Στοιχεία ομάδας"
      ]
    },
    {
      "cell_type": "markdown",
      "metadata": {
        "id": "VF0dwNwJnHfG"
      },
      "source": [
        "**Αριθμός ομάδας**: 22\r\n",
        "\r\n",
        "**Πρώτο μέλος**:  \r\n",
        "Ονοματεπώνυμο: Ψαρουδάκης Ανδρέας <br>\r\n",
        "Αριθμός μητρώου: 03116001 <br>\r\n",
        "Email:  andreaspsaroudakis@gmail.com <br>\r\n",
        "\r\n",
        "**Δεύτερο μέλος**: <br>\r\n",
        "Ονοματεπώνυμο: Τζε Χριστίνα-Ουρανία <br>\r\n",
        "Αριθμός μητρώου: 03116079 <br>\r\n",
        "Email: xristina.rania.tze@gmail.com"
      ]
    },
    {
      "cell_type": "markdown",
      "metadata": {
        "id": "r-nI5B7s0v22"
      },
      "source": [
        "# Βασικές Πληροφορίες\n"
      ]
    },
    {
      "cell_type": "markdown",
      "metadata": {
        "id": "T6STipz20Yv4"
      },
      "source": [
        "## 1) Σύντομη παρουσίαση του dataset"
      ]
    },
    {
      "cell_type": "markdown",
      "metadata": {
        "id": "a1VfP-gIeD5A"
      },
      "source": [
        "Το μικρό dataset που αντιστοιχεί στην ομάδα μας είναι το [Japanese Credit Screening Data Set](http://archive.ics.uci.edu/ml/datasets/Japanese+Credit+Screening) (S06). Δημιουργήθηκε ρωτώντας ανθρώπους σε μια Ιαπωνική Εταιρεία η οποία χορηγεί χρηματικές πιστώσεις. Συνιστά ένα σύνολο δεδομένων ιδιαίτερα σημαντικό για τους υπεύθυνους λήψης οικονομικών αποφάσεων καθώς αφορά εφαρμογές πιστωτικών καρτών. Αποτελείται από 690 δείγματα, τα οποία κατηγοριοποιούνται σε 2 κλάσεις. Μεταξύ των samples, τα 383 ανήκουν στην κατηγορία \"-\" ενώ τα υπόλοιπα 307 στην κατηγορία \"+\". Τα \"αρνητικά\" δείγματα αφορούν περιπτώσεις ανθρώπων που δεν τους χορηγήθηκε χρηματική πίστωση σε αντίθεση με τα \"θετικά\" στα οποία οι άνθρωποι έλαβαν πίστωση. Πρόκειται επομένως, για ένα **binary classification** πρόβλημα. Κάθε δείγμα αποτελείται από 15 χαρακτηριστικά, από τα οποία τα 9 είναι κατηγορικά και τα 6 είναι αριθμητικά καθώς και από την ετικέτα κλάσης. Τα ονόματα αλλά και οι τιμές όλων των attributes έχουν κωδικοποιηθεί σε σύμβολα χωρίς κάποια σημασία για λόγους προστασίας προσωπικών δεδομένων."
      ]
    },
    {
      "cell_type": "code",
      "metadata": {
        "colab": {
          "base_uri": "https://localhost:8080/",
          "height": 417
        },
        "id": "Crry7kEBki9F",
        "outputId": "cec0a4ab-01de-4b57-e661-2d5e2fbec055"
      },
      "source": [
        "import pandas as pd                                         # Import pandas library \n",
        "\n",
        "df = pd.read_csv(\"crx.data\", na_values = '?', header=None)  # Read dataset from file\n",
        "df                                                          # Show dataset"
      ],
      "execution_count": null,
      "outputs": [
        {
          "output_type": "execute_result",
          "data": {
            "text/html": [
              "<div>\n",
              "<style scoped>\n",
              "    .dataframe tbody tr th:only-of-type {\n",
              "        vertical-align: middle;\n",
              "    }\n",
              "\n",
              "    .dataframe tbody tr th {\n",
              "        vertical-align: top;\n",
              "    }\n",
              "\n",
              "    .dataframe thead th {\n",
              "        text-align: right;\n",
              "    }\n",
              "</style>\n",
              "<table border=\"1\" class=\"dataframe\">\n",
              "  <thead>\n",
              "    <tr style=\"text-align: right;\">\n",
              "      <th></th>\n",
              "      <th>0</th>\n",
              "      <th>1</th>\n",
              "      <th>2</th>\n",
              "      <th>3</th>\n",
              "      <th>4</th>\n",
              "      <th>5</th>\n",
              "      <th>6</th>\n",
              "      <th>7</th>\n",
              "      <th>8</th>\n",
              "      <th>9</th>\n",
              "      <th>10</th>\n",
              "      <th>11</th>\n",
              "      <th>12</th>\n",
              "      <th>13</th>\n",
              "      <th>14</th>\n",
              "      <th>15</th>\n",
              "    </tr>\n",
              "  </thead>\n",
              "  <tbody>\n",
              "    <tr>\n",
              "      <th>0</th>\n",
              "      <td>b</td>\n",
              "      <td>30.83</td>\n",
              "      <td>0.000</td>\n",
              "      <td>u</td>\n",
              "      <td>g</td>\n",
              "      <td>w</td>\n",
              "      <td>v</td>\n",
              "      <td>1.25</td>\n",
              "      <td>t</td>\n",
              "      <td>t</td>\n",
              "      <td>1</td>\n",
              "      <td>f</td>\n",
              "      <td>g</td>\n",
              "      <td>202.0</td>\n",
              "      <td>0</td>\n",
              "      <td>+</td>\n",
              "    </tr>\n",
              "    <tr>\n",
              "      <th>1</th>\n",
              "      <td>a</td>\n",
              "      <td>58.67</td>\n",
              "      <td>4.460</td>\n",
              "      <td>u</td>\n",
              "      <td>g</td>\n",
              "      <td>q</td>\n",
              "      <td>h</td>\n",
              "      <td>3.04</td>\n",
              "      <td>t</td>\n",
              "      <td>t</td>\n",
              "      <td>6</td>\n",
              "      <td>f</td>\n",
              "      <td>g</td>\n",
              "      <td>43.0</td>\n",
              "      <td>560</td>\n",
              "      <td>+</td>\n",
              "    </tr>\n",
              "    <tr>\n",
              "      <th>2</th>\n",
              "      <td>a</td>\n",
              "      <td>24.50</td>\n",
              "      <td>0.500</td>\n",
              "      <td>u</td>\n",
              "      <td>g</td>\n",
              "      <td>q</td>\n",
              "      <td>h</td>\n",
              "      <td>1.50</td>\n",
              "      <td>t</td>\n",
              "      <td>f</td>\n",
              "      <td>0</td>\n",
              "      <td>f</td>\n",
              "      <td>g</td>\n",
              "      <td>280.0</td>\n",
              "      <td>824</td>\n",
              "      <td>+</td>\n",
              "    </tr>\n",
              "    <tr>\n",
              "      <th>3</th>\n",
              "      <td>b</td>\n",
              "      <td>27.83</td>\n",
              "      <td>1.540</td>\n",
              "      <td>u</td>\n",
              "      <td>g</td>\n",
              "      <td>w</td>\n",
              "      <td>v</td>\n",
              "      <td>3.75</td>\n",
              "      <td>t</td>\n",
              "      <td>t</td>\n",
              "      <td>5</td>\n",
              "      <td>t</td>\n",
              "      <td>g</td>\n",
              "      <td>100.0</td>\n",
              "      <td>3</td>\n",
              "      <td>+</td>\n",
              "    </tr>\n",
              "    <tr>\n",
              "      <th>4</th>\n",
              "      <td>b</td>\n",
              "      <td>20.17</td>\n",
              "      <td>5.625</td>\n",
              "      <td>u</td>\n",
              "      <td>g</td>\n",
              "      <td>w</td>\n",
              "      <td>v</td>\n",
              "      <td>1.71</td>\n",
              "      <td>t</td>\n",
              "      <td>f</td>\n",
              "      <td>0</td>\n",
              "      <td>f</td>\n",
              "      <td>s</td>\n",
              "      <td>120.0</td>\n",
              "      <td>0</td>\n",
              "      <td>+</td>\n",
              "    </tr>\n",
              "    <tr>\n",
              "      <th>...</th>\n",
              "      <td>...</td>\n",
              "      <td>...</td>\n",
              "      <td>...</td>\n",
              "      <td>...</td>\n",
              "      <td>...</td>\n",
              "      <td>...</td>\n",
              "      <td>...</td>\n",
              "      <td>...</td>\n",
              "      <td>...</td>\n",
              "      <td>...</td>\n",
              "      <td>...</td>\n",
              "      <td>...</td>\n",
              "      <td>...</td>\n",
              "      <td>...</td>\n",
              "      <td>...</td>\n",
              "      <td>...</td>\n",
              "    </tr>\n",
              "    <tr>\n",
              "      <th>685</th>\n",
              "      <td>b</td>\n",
              "      <td>21.08</td>\n",
              "      <td>10.085</td>\n",
              "      <td>y</td>\n",
              "      <td>p</td>\n",
              "      <td>e</td>\n",
              "      <td>h</td>\n",
              "      <td>1.25</td>\n",
              "      <td>f</td>\n",
              "      <td>f</td>\n",
              "      <td>0</td>\n",
              "      <td>f</td>\n",
              "      <td>g</td>\n",
              "      <td>260.0</td>\n",
              "      <td>0</td>\n",
              "      <td>-</td>\n",
              "    </tr>\n",
              "    <tr>\n",
              "      <th>686</th>\n",
              "      <td>a</td>\n",
              "      <td>22.67</td>\n",
              "      <td>0.750</td>\n",
              "      <td>u</td>\n",
              "      <td>g</td>\n",
              "      <td>c</td>\n",
              "      <td>v</td>\n",
              "      <td>2.00</td>\n",
              "      <td>f</td>\n",
              "      <td>t</td>\n",
              "      <td>2</td>\n",
              "      <td>t</td>\n",
              "      <td>g</td>\n",
              "      <td>200.0</td>\n",
              "      <td>394</td>\n",
              "      <td>-</td>\n",
              "    </tr>\n",
              "    <tr>\n",
              "      <th>687</th>\n",
              "      <td>a</td>\n",
              "      <td>25.25</td>\n",
              "      <td>13.500</td>\n",
              "      <td>y</td>\n",
              "      <td>p</td>\n",
              "      <td>ff</td>\n",
              "      <td>ff</td>\n",
              "      <td>2.00</td>\n",
              "      <td>f</td>\n",
              "      <td>t</td>\n",
              "      <td>1</td>\n",
              "      <td>t</td>\n",
              "      <td>g</td>\n",
              "      <td>200.0</td>\n",
              "      <td>1</td>\n",
              "      <td>-</td>\n",
              "    </tr>\n",
              "    <tr>\n",
              "      <th>688</th>\n",
              "      <td>b</td>\n",
              "      <td>17.92</td>\n",
              "      <td>0.205</td>\n",
              "      <td>u</td>\n",
              "      <td>g</td>\n",
              "      <td>aa</td>\n",
              "      <td>v</td>\n",
              "      <td>0.04</td>\n",
              "      <td>f</td>\n",
              "      <td>f</td>\n",
              "      <td>0</td>\n",
              "      <td>f</td>\n",
              "      <td>g</td>\n",
              "      <td>280.0</td>\n",
              "      <td>750</td>\n",
              "      <td>-</td>\n",
              "    </tr>\n",
              "    <tr>\n",
              "      <th>689</th>\n",
              "      <td>b</td>\n",
              "      <td>35.00</td>\n",
              "      <td>3.375</td>\n",
              "      <td>u</td>\n",
              "      <td>g</td>\n",
              "      <td>c</td>\n",
              "      <td>h</td>\n",
              "      <td>8.29</td>\n",
              "      <td>f</td>\n",
              "      <td>f</td>\n",
              "      <td>0</td>\n",
              "      <td>t</td>\n",
              "      <td>g</td>\n",
              "      <td>0.0</td>\n",
              "      <td>0</td>\n",
              "      <td>-</td>\n",
              "    </tr>\n",
              "  </tbody>\n",
              "</table>\n",
              "<p>690 rows × 16 columns</p>\n",
              "</div>"
            ],
            "text/plain": [
              "    0      1       2  3  4   5   6     7  8  9   10 11 12     13   14 15\n",
              "0    b  30.83   0.000  u  g   w   v  1.25  t  t   1  f  g  202.0    0  +\n",
              "1    a  58.67   4.460  u  g   q   h  3.04  t  t   6  f  g   43.0  560  +\n",
              "2    a  24.50   0.500  u  g   q   h  1.50  t  f   0  f  g  280.0  824  +\n",
              "3    b  27.83   1.540  u  g   w   v  3.75  t  t   5  t  g  100.0    3  +\n",
              "4    b  20.17   5.625  u  g   w   v  1.71  t  f   0  f  s  120.0    0  +\n",
              "..  ..    ...     ... .. ..  ..  ..   ... .. ..  .. .. ..    ...  ... ..\n",
              "685  b  21.08  10.085  y  p   e   h  1.25  f  f   0  f  g  260.0    0  -\n",
              "686  a  22.67   0.750  u  g   c   v  2.00  f  t   2  t  g  200.0  394  -\n",
              "687  a  25.25  13.500  y  p  ff  ff  2.00  f  t   1  t  g  200.0    1  -\n",
              "688  b  17.92   0.205  u  g  aa   v  0.04  f  f   0  f  g  280.0  750  -\n",
              "689  b  35.00   3.375  u  g   c   h  8.29  f  f   0  t  g    0.0    0  -\n",
              "\n",
              "[690 rows x 16 columns]"
            ]
          },
          "metadata": {
            "tags": []
          },
          "execution_count": 3
        }
      ]
    },
    {
      "cell_type": "markdown",
      "metadata": {
        "id": "IYd8fFJp09Ld"
      },
      "source": [
        "## 2) Αριθμός δειγμάτων και χαρακτηριστικών, είδος χαρακτηριστικών"
      ]
    },
    {
      "cell_type": "markdown",
      "metadata": {
        "id": "J-kuW5D2gY5z"
      },
      "source": [
        "Αρχικά, βρίσκουμε το πλήθος των δειγμάτων του dataset ως το σύνολο των γραμμών του df που περιέχει όλα τα samples. Υπολογίζουμε επίσης το πλήθος των χαρακτηριστικών κάθε δείγματος, το οποίο ισούται με τον αριθμό των στηλών του df μειωμένο κατά 1 (καθώς η τελευταία στήλη αντιπροσωπεύει την ετικέτα κάθε δείγματος)."
      ]
    },
    {
      "cell_type": "code",
      "metadata": {
        "colab": {
          "base_uri": "https://localhost:8080/"
        },
        "id": "QrZhjb-g1PxG",
        "outputId": "f48fb229-2656-4605-a614-7b14ab08d903"
      },
      "source": [
        "print(\"\\033[1mNumber of samples is: {}\".format(df.shape[0]))\n",
        "print(\"Number of features per sample is: {}\\n\".format(df.shape[1]-1))"
      ],
      "execution_count": null,
      "outputs": [
        {
          "output_type": "stream",
          "text": [
            "\u001b[1mNumber of samples is: 690\n",
            "Number of features per sample is: 15\n",
            "\n"
          ],
          "name": "stdout"
        }
      ]
    },
    {
      "cell_type": "markdown",
      "metadata": {
        "id": "ChwoO-ixhWF_"
      },
      "source": [
        "Στη συνέχεια τυπώνουμε τον τύπο και των 15 features κάθε δείγματος."
      ]
    },
    {
      "cell_type": "code",
      "metadata": {
        "colab": {
          "base_uri": "https://localhost:8080/"
        },
        "id": "J5VbIJ5imNgO",
        "outputId": "a8949553-4b5d-437f-cd2e-406b7a5ba0ce"
      },
      "source": [
        "print(\"\\033[1mFeature Types\\n\")\n",
        "print(df.iloc[:,:15].dtypes)"
      ],
      "execution_count": null,
      "outputs": [
        {
          "output_type": "stream",
          "text": [
            "\u001b[1mFeature Types\n",
            "\n",
            "0      object\n",
            "1     float64\n",
            "2     float64\n",
            "3      object\n",
            "4      object\n",
            "5      object\n",
            "6      object\n",
            "7     float64\n",
            "8      object\n",
            "9      object\n",
            "10      int64\n",
            "11     object\n",
            "12     object\n",
            "13    float64\n",
            "14      int64\n",
            "dtype: object\n"
          ],
          "name": "stdout"
        }
      ]
    },
    {
      "cell_type": "markdown",
      "metadata": {
        "id": "QwxG285ghg__"
      },
      "source": [
        "Παρατηρούμε ότι έχουμε συνολικά 9 κατηγορικά χαρακτηριστικά (τύπου **object**) και 6 αριθμητικά χαρακτηριστικά (4 τύπου **float64** και 2 τύπου **int64**). Να σημειωθεί πως η βιβλιοθήκη **pandas** αποθηκεύει τα **string** χαρακτηριστικά ως **obejcts** εφόσον δεν προσδιορίζεται κάποιο συγκεκριμένο μήκος συμβολοσειράς (variable length). Θα μπορούσαμε να μετατρέψουμε τα χαρακτηριστικά αυτά σε **strings**, ωστόσο τα στάδια προεπεξεργασίας των δεδομένων που ακολουθούν δεν επιβάλλουν κάποιo τέτοιο μετασχηματισμό, για αυτό και τα αφήνουμε ως έχουν. Όλα τα **αριθμητικά χαρακτηριστικά** του dataset είναι **διατετατγμένα** ενώ όλα τα **κατηγορικά χαρακτηριστικά** υποθέτουμε ότι είναι **μη διατεταγμένα** καθώς δεν γνωρίζουμε τι αντιπροσωπεύουν λόγω της κωδικοποίησης που έχει γίνει."
      ]
    },
    {
      "cell_type": "markdown",
      "metadata": {
        "id": "MaTR8qUJ3l2l"
      },
      "source": [
        "## 3) Επικεφαλίδες και αρίθμηση γραμμών"
      ]
    },
    {
      "cell_type": "markdown",
      "metadata": {
        "id": "jEF6ubLBnxHH"
      },
      "source": [
        "Ανοίγοντας το αρχείο δεδομένων μας σε έναν text editor, παρατηρούμε πως αυτό δεν διαθέτει επικεφαλίδες, καθώς η πρώτη γραμμή του δεν περιέχει ονόματα για τα χαρακτηριστικά των δειγμάτων αλλά το πρώτο δείγμα του dataset. Για το λόγο αυτό, κατά το διάβασμα του αρχείου, μέσω της συνάρτησης **read_csv** θέτουμε το **header** σε **None**. \n",
        "\n",
        "```python\n",
        "df = pd.read_csv(\"crx.data\", na_values = '?', header=None)  # Read dataset from file\n",
        "```\n",
        "\n",
        "Αυτό είναι αναγκαίο ώστε το πρώτο δείγμα του αρχείο να μην διαβαστεί ως επικεφαλίδα. Επίσης, το αρχείο δεν διαθέτει αρίθμηση γραμμών, ωστόσο αυτή προκύπτει άμεσα από τη μετατροπή του συνόλου δεδομένων σε dataframe της βιβλιοθήκης pandas."
      ]
    },
    {
      "cell_type": "markdown",
      "metadata": {
        "id": "As7IdnYC3zaL"
      },
      "source": [
        "## 4) Ετικέτες κλάσεων"
      ]
    },
    {
      "cell_type": "markdown",
      "metadata": {
        "id": "Ue3F5SRGsW-O"
      },
      "source": [
        "Σύμφωνα με το documentation, οι ετικέτες των κλάσεων βρίσκονται στην τελευταία κολόνα (κολόνα 15, δηλαδή στην 16η κολόνα αφού η αρίθμηση ξεκινάει από το 0) του dataframe και λαμβάνουν τιμές **\"+\"** και **\"-\"** ανάλογα με το αν έχει χορηγηθεί πίστωση ή όχι αντίστοιχα.\n"
      ]
    },
    {
      "cell_type": "markdown",
      "metadata": {
        "id": "kCEEV3jw4IMT"
      },
      "source": [
        "## 5) Προεπεξεργασία δεδομένων"
      ]
    },
    {
      "cell_type": "markdown",
      "metadata": {
        "id": "f8zmvnwO4vLM"
      },
      "source": [
        "Δεν χρειάζεται κάποια μετατροπή στα αρχεία text. Ωστόσο, στα βήματα που ακολουθούν διαχειριζόμαστε τις απουσιάζουσες τιμές του dataset και μετατρέπουμε με κατάλληλο τρόπο τα κατηγορικά χαρακτηριστικά σε αριθμητικά (τύπου float64)\n"
      ]
    },
    {
      "cell_type": "markdown",
      "metadata": {
        "id": "_cVA_RVS4yGY"
      },
      "source": [
        "## 6) Απουσιάζουσες τιμές"
      ]
    },
    {
      "cell_type": "markdown",
      "metadata": {
        "id": "ptutHUT7u1EW"
      },
      "source": [
        "Στο σύνολο δεδομένων μας υπάρχουν ορισμένες απουσιάζουσες τιμές χαρακτηριστικών, οι οποίες συμβολίζονται με **\"?\"**. Κατά το διάβασμα του αρχείου εισόδου, μέσω της εντολής **read_csv**, θέτουμε την τιμή της μεταβλητής **na_values** σε **\"?\"** έτσι ώστε οι απουσιάζουσες τιμές να αναγνωριστούν ως **NaN**.\n",
        "\n",
        "```python\n",
        "df = pd.read_csv(\"crx.data\", na_values = '?', header=None)  # Read dataset from file\n",
        "```\n",
        "\n",
        "Στη συνέχεια,με χρήση της συνάρτησης **DataFrame.isna** και της **DataFrame.any** βρίσκουμε τις γραμμές εκείνες στις οποίες εμφανίζεται μια τουλάχιστον απουσιάζουσα τιμή (NaN) και έπειτα υπολογίζουμε το πλήθος τους (με χρήση της **sum**). Τέλος, διαιρούμε το πλήθος αυτό με τον συνολικό αριθμό γραμμών του df έτσι ώστε να λάβουμε το ποσοστό των δειγμάτων με missing values επί του συνόλου. "
      ]
    },
    {
      "cell_type": "code",
      "metadata": {
        "colab": {
          "base_uri": "https://localhost:8080/"
        },
        "id": "JDQ_PnxP1kj3",
        "outputId": "059f08eb-1382-46ac-a72f-8b5cea31073c"
      },
      "source": [
        "rows_with_NaN = df.isna().any(axis=1).sum()    # Calculate number of rows with at least one 'NaN' value\n",
        "print(\"\\033[1mNumber of samples with at least one \\'NaN\\' feature value is {} out of {} \".format(rows_with_NaN,df.shape[0]))\n",
        "print(\"Percentage of samples with at least one \\'NaN\\' features is: {} %\".format((rows_with_NaN/df.shape[0])*100))"
      ],
      "execution_count": null,
      "outputs": [
        {
          "output_type": "stream",
          "text": [
            "\u001b[1mNumber of samples with at least one 'NaN' feature value is 37 out of 690 \n",
            "Percentage of samples with at least one 'NaN' features is: 5.36231884057971 %\n"
          ],
          "name": "stdout"
        }
      ]
    },
    {
      "cell_type": "markdown",
      "metadata": {
        "id": "E2psFdZhF3N_"
      },
      "source": [
        "## 7) Αριθμός κλάσεων και ποσοστά δειγμάτων επί του συνόλου"
      ]
    },
    {
      "cell_type": "markdown",
      "metadata": {
        "id": "KnHphbmZzQxU"
      },
      "source": [
        "Υπολογίζουμε τώρα τον αριθμό των κλάσεων με χρήση της συνάρτησης **unique**, μετρώντας το πλήθος των διαφορετικών τιμών που εμφανίζονται στην κολόνα 15 (δηλαδή στη στήλη με τις ετικέτες των κλάσεων). "
      ]
    },
    {
      "cell_type": "code",
      "metadata": {
        "colab": {
          "base_uri": "https://localhost:8080/"
        },
        "id": "hjLMKcqJGX8v",
        "outputId": "77c0a618-3bd4-4239-9bf9-50a496b64e5a"
      },
      "source": [
        "classes = len(pd.unique(df[15]))\n",
        "print(\"\\033[1mNumber of classes is {}\".format(classes))"
      ],
      "execution_count": null,
      "outputs": [
        {
          "output_type": "stream",
          "text": [
            "\u001b[1mNumber of classes is 2\n"
          ],
          "name": "stdout"
        }
      ]
    },
    {
      "cell_type": "markdown",
      "metadata": {
        "id": "pv2PFRymzwa_"
      },
      "source": [
        "Όπως ήταν αναμενόμενο προκύπτουν συνολικά 2 κλάσεις, η **\"+\"** και η **\"-\"**, όπως αναφέραμε και προηγουμένως. Aξιοποιούμε τη συνάρτηση **value_counts** ώστε να υπολογίσουμε το πλήθος των δειγμάτων κάθε κατηγορίας. Έπειτα, διαιρούμε κάθε πλήθος με το συνολικό αριθμό από samples, οπότε και λαμβάνουμε το ποσοστό δειγμάτων κάθε κλάσης."
      ]
    },
    {
      "cell_type": "code",
      "metadata": {
        "colab": {
          "base_uri": "https://localhost:8080/"
        },
        "id": "Tdifp7JnI3uC",
        "outputId": "74451699-416d-48a0-8112-df3205c2b46d"
      },
      "source": [
        "percentages = []\n",
        "for val, cnt in df[15].value_counts().iteritems():\n",
        "    print ('\\033[1m','Class \\'{}\\''.format(val[0]), 'has a total of', cnt, 'samples','(Percentage: {} %)'.format((cnt/df.shape[0])*100))\n",
        "    percentages.append(cnt)"
      ],
      "execution_count": null,
      "outputs": [
        {
          "output_type": "stream",
          "text": [
            "\u001b[1m Class '-' has a total of 383 samples (Percentage: 55.507246376811594 %)\n",
            "\u001b[1m Class '+' has a total of 307 samples (Percentage: 44.492753623188406 %)\n"
          ],
          "name": "stdout"
        }
      ]
    },
    {
      "cell_type": "markdown",
      "metadata": {
        "id": "o183NOf-I7yE"
      },
      "source": [
        "Τέλος, παίρνουμε το λόγο των δύο ποσοστών που προκύπτουν ώστε να εξετάσουμε κατά πόσο το dataset μας είναι ισορροπημένο ή όχι."
      ]
    },
    {
      "cell_type": "code",
      "metadata": {
        "colab": {
          "base_uri": "https://localhost:8080/"
        },
        "id": "4lpGZew72W--",
        "outputId": "70de8baf-0e13-475e-9034-1eb64053a983"
      },
      "source": [
        "print(\"\\n\\033[1m The ratio of number of samples between the two classes is: {}\".format(max(percentages)/min(percentages)))"
      ],
      "execution_count": null,
      "outputs": [
        {
          "output_type": "stream",
          "text": [
            "\n",
            "\u001b[1m The ratio of number of samples between the two classes is: 1.247557003257329\n"
          ],
          "name": "stdout"
        }
      ]
    },
    {
      "cell_type": "markdown",
      "metadata": {
        "id": "1oBKwt5a2Iwt"
      },
      "source": [
        "Παρατηρούμε πως το dataset είναι **ισορροπημένο** καθώς ο λόγος του αριθμού δειγμάτων της πολυπληθέστερης κλάσης (**\"-\"**) προς τον αριθμό δειγμάτων της άλλης κλάσης (**\"+\"**) είναι μικρότερος του 1,5.  Αυτό σημαίνει πως καμία εκ των δύο κλάσεων δεν είναι τουλάχιστον 1,5 φορά πιο συχνή από την άλλη (60% - 40%). Κατά συνέπεια, δεν απαιτείται η εφαρμογή κάποιας διαδικασίας εξισορρόπησης του dataset (π.χ. oversampling)."
      ]
    },
    {
      "cell_type": "markdown",
      "metadata": {
        "id": "d8toGcFRNzbj"
      },
      "source": [
        "## 8) Διαχωρισμός σε train και test set, διαχείριση απουσιάζουσων τιμών και μη διατεταγμένων χαρακτηριστικών"
      ]
    },
    {
      "cell_type": "markdown",
      "metadata": {
        "id": "pYOCayNLJs9T"
      },
      "source": [
        "Επειδή το ποσοστό δειγμάτων με τιμές που απουσιάζουν είναι σχετικά μικρό $(\\cong5.36 \\%)$ μπορούμε να αφαιρέσουμε τα συγκεκριμένα δείγματα από το dataset, χωρίς κάποια σημαντική απώλεια πληροφορίας. Η διαδικασία αυτή λαμβάνει χώρα πριν το το χωρισμό σε train και test set και πραγματοποιείται με χρήση της συνάρτησης **dropna**."
      ]
    },
    {
      "cell_type": "code",
      "metadata": {
        "id": "6wgMFoV6_bch"
      },
      "source": [
        "reduced_df = df.dropna(axis=0) # κρατάμε μόνο τα δείγματα με αριθμητικές τιμές"
      ],
      "execution_count": null,
      "outputs": []
    },
    {
      "cell_type": "markdown",
      "metadata": {
        "id": "BdE-lgqmLbuR"
      },
      "source": [
        "Έχοντας αφαιρέσαι πλήρως τα δείγματα με τις απουσιάζουσες τιμές, χωρίζουμε το αρχικό dataframe (που περιέχει όλο το dataset) σε δύο επιμέρους, ένα που περιέχει τα features των δειγμάτων και ονομάζεται **features_df** (πρώτες 15 κολόνες) και ένα που περιέχει τις ετικέτες των κλάσεων και ονομάζεται **labels_df** (16η κολόνα). Να σημειωθεί ότι πριν την αποθήκευση του dataframe-κολόνα **labels_df**  μετασχηματίζουμε τις συμβολοσειρές **\"+\"** και **\"-\"** σε **0** και **1** αντίστοιχα, με χρήση της συνάρητσης **map**, έχοντας πρωτίστως ορίσει το συγκεκριμένο mapping. "
      ]
    },
    {
      "cell_type": "code",
      "metadata": {
        "id": "_u34-CciLcTr"
      },
      "source": [
        "features_df = reduced_df.iloc[:, 0:15]\n",
        "class_mapping = {'+': 0, '-': 1}\n",
        "labels_df = reduced_df[15].map(class_mapping)  "
      ],
      "execution_count": null,
      "outputs": []
    },
    {
      "cell_type": "markdown",
      "metadata": {
        "id": "VNyb0kRNOlP6"
      },
      "source": [
        "Δίνουμε τώρα τα 2 νέα dataframes ως όρισμα στη συνάρτηση **train_test_split** της βιβλιοθήκης sklearn, για το χωρισμό σε train και test set. Χρησιμοποιούμε **20%** των δειγμάτων για **test set** και **80%** για **train set**."
      ]
    },
    {
      "cell_type": "code",
      "metadata": {
        "id": "p6doHml7KSyH"
      },
      "source": [
        "from sklearn.model_selection import train_test_split\n",
        "X_train, X_test, y_train, y_test = train_test_split(features_df, labels_df, test_size=0.20, random_state = 36)"
      ],
      "execution_count": null,
      "outputs": []
    },
    {
      "cell_type": "markdown",
      "metadata": {
        "id": "7D0R0-KTPpUq"
      },
      "source": [
        "Σε αυτό το στάδιο, αφότου έχουμε χωρίσει σε train και test set, πρέπει να διαχειριστούμε τα κατηγορικά χαρακτηριστικά. Όπως αναφέρθηκε και νωρίτερα, αυτά είναι μη διατεταγμένα και επομένως δεν είναι δυνατόν κάθε διαφορετική τιμή που λαμβάνουν να αντικατασταθεί απλώς με μια αριθμητική, καθώς στην περίπτωση αυτή υποθέτουμε λανθασμένα ότι το σύνολο τιμών των κατηγορικών μεταβλητών είναι ordered και έτσι οδηγούμε τον ταξινομητή σε λάθη. Μετατρέπουμε λοιπόν, κάθε κατηγορικό χαρακτηριστικό με m τιμές σε m binary χαρακτηριστικά από τα οποία μόνο ένα είναι ενεργό κάθε φορά. Αυτό επιτυγχάνεται με χρήση της συνάρητσης **get_dummies**, προσδιορίζοντας τις κολόνες που περιέχουν τα κατηγορικά χαρακτηριστικά. "
      ]
    },
    {
      "cell_type": "code",
      "metadata": {
        "id": "-wbaeINANp8a"
      },
      "source": [
        "X_train_dummies = pd.get_dummies(X_train, columns=[0,3,4,5,6,8,9,11,12])\n",
        "X_test_dummies = pd.get_dummies(X_test, columns=[0,3,4,5,6,8,9,11,12])"
      ],
      "execution_count": null,
      "outputs": []
    },
    {
      "cell_type": "markdown",
      "metadata": {
        "id": "DjcPwk93SmMP"
      },
      "source": [
        "Μετά την εφαρμογή της συνάρτησης, ενδέχεται το train και το test set να μην έχουν τον ίδιο αριθμό από κολόνες, για το λόγο του ότι μια τιμή ενός κατηγορικού χαρακτηριστικού μπορεί να μην εμφανίζεται και στα δύο σύνολα (π.χ. ένα string attribute, που συνολικά λαμβάνει 3 διαφορετικές τιμές, υπάρχει περίπτωση σε κάποιο σύνολο, έστω στο test, να λαμάνει μόνο 1 ή 2 εξ' αυτών ενώ στο train να λαμβάνει και τις 3). Κάτι τέτοιο δημιουργεί μια ανισορροπία μεταξύ του train και του test set. Για να εξαλείψουμε το συγκεκριμένο πρόβλημα, καλούμε τη συνάρτηση **align**, η οποία συμπληρώνει με τις απαραίτητες κολόνες, γεμίζοντας τες με 0, έτσι ώστε τα attributes που είχαν χαθεί να επανέλθουν αλλά ταυτόχρονα να παραμείνουν ανενεργά."
      ]
    },
    {
      "cell_type": "code",
      "metadata": {
        "id": "LE6JfDGVTqyM"
      },
      "source": [
        "X_train_dummies,X_test_dummies = X_train_dummies.align(X_test_dummies, fill_value=0, join='outer', axis=1)"
      ],
      "execution_count": null,
      "outputs": []
    },
    {
      "cell_type": "markdown",
      "metadata": {
        "id": "U9ZzmYglVPdM"
      },
      "source": [
        "Τέλος, εφαρμόζουμε τη μέθοδο **values** στα dataframes **X_train_dummies**,  **X_test_dummies**,  **y_train** και **y_test** για τη μετατροπή τους σε numpy πίνακες."
      ]
    },
    {
      "cell_type": "code",
      "metadata": {
        "id": "NOiD-NtnVQGz"
      },
      "source": [
        "# Convert to numpy array\n",
        "\n",
        "X_train,X_test = X_train_dummies.values,X_test_dummies.values\n",
        "y_train,y_test = y_train.values,y_test.values"
      ],
      "execution_count": null,
      "outputs": []
    },
    {
      "cell_type": "markdown",
      "metadata": {
        "id": "43q2AftRV9hU"
      },
      "source": [
        "Eπαληθεύμε ότι όλοι οι πίνακες έχουν τις επιθυμητές διαστάσεις."
      ]
    },
    {
      "cell_type": "code",
      "metadata": {
        "colab": {
          "base_uri": "https://localhost:8080/"
        },
        "id": "LFtejBx0V8pY",
        "outputId": "cd087961-cb35-45ff-f480-3eb5a50c01b6"
      },
      "source": [
        "print(\"\\033[1m X_train shape is: {}\".format(X_train.shape))\n",
        "print(\"\\033[1m X_test shape is: {}\".format(X_test.shape))\n",
        "print(\"\\033[1m y_train shape is: {}\".format(y_train.shape))\n",
        "print(\"\\033[1m y_test shape is: {}\".format(y_test.shape))"
      ],
      "execution_count": null,
      "outputs": [
        {
          "output_type": "stream",
          "text": [
            "\u001b[1m X_train shape is: (522, 46)\n",
            "\u001b[1m X_test shape is: (131, 46)\n",
            "\u001b[1m y_train shape is: (522,)\n",
            "\u001b[1m y_test shape is: (131,)\n"
          ],
          "name": "stdout"
        }
      ]
    },
    {
      "cell_type": "markdown",
      "metadata": {
        "id": "RJd7uIt5qRMC"
      },
      "source": [
        "# Ταξινόμηση\n"
      ]
    },
    {
      "cell_type": "markdown",
      "metadata": {
        "id": "ZYMu93mTiSeS"
      },
      "source": [
        "Στο σημείο αυτό εξετάζουμε τους ταξινομητές **Dummy**, **Gaussian Naive Bayes** και **kNN**. Συγκεκριμένα, τους αρχικοποιούμε με τις default τιμές τους και τους εκπαιδεύουμε στο train dataset. Στη συνέχεια, κάνουμε την εκτίμηση στο test set και για κάθε έναν από αυτούς τυπώνουμε τα εξής: **confusion matrix**, **f1-micro average** και **f1-macro average**.\n"
      ]
    },
    {
      "cell_type": "code",
      "metadata": {
        "id": "YUWwup_M8K-E"
      },
      "source": [
        "from sklearn.dummy import DummyClassifier\n",
        "from sklearn.metrics import confusion_matrix \n",
        "from sklearn.metrics import plot_confusion_matrix\n",
        "import matplotlib.pyplot as plt\n",
        "import numpy as np\n",
        "from sklearn.metrics import precision_recall_fscore_support\n",
        "from sklearn.metrics import classification_report\n",
        "import itertools"
      ],
      "execution_count": null,
      "outputs": []
    },
    {
      "cell_type": "markdown",
      "metadata": {
        "id": "nmdAz7HLBL2D"
      },
      "source": [
        "### Υλοποίηση συνάρτησης απεικόνισης Πίνακα Σύγχυσης (Confusion Matrix)"
      ]
    },
    {
      "cell_type": "markdown",
      "metadata": {
        "id": "4uR4lESakn0G"
      },
      "source": [
        "Η βάση για τις μετρικές απόδοσης των ταξινομητών είναι ο πίνακας σύγχυσης $C$    (confusion matrix). Κάθε στοιχείο του $C_{i, j}$ είναι ίσο με τα δείγματα που ενώ ανήκουν στην κατηγορία $i$ ταξινομήθηκαν στην κατηγορία  $j$. Για την απεικόνισή του ορίζουμε την συνάρτηση **custom_plot_confusion_matrix**. Για την κλήση της συνάρτησης, απαιτείται προηγουμένως η αξιοποίηση της **confusion_matrix** της sklearn για τον υπολογισμό του πίνακα σύγχυσης, ο οποίος δίνεται σαν πρώτο όρισμα στην **custom_plot_confusion_matrix**."
      ]
    },
    {
      "cell_type": "code",
      "metadata": {
        "id": "SK1z8zIG_rCK"
      },
      "source": [
        "def custom_plot_confusion_matrix(cm, classes,\n",
        "                          title='Confusion matrix',\n",
        "                          cmap=plt.cm.Blues):\n",
        "    plt.imshow(cm, interpolation='nearest', cmap=cmap)\n",
        "    plt.title(title)\n",
        "    plt.colorbar()\n",
        "    tick_marks = np.arange(len(classes))\n",
        "    plt.xticks(tick_marks, classes, fontsize=12)\n",
        "    plt.yticks(tick_marks, classes,fontsize=12)\n",
        "\n",
        "    fmt = 'd'\n",
        "    for i, j in itertools.product(range(cm.shape[0]), range(cm.shape[1])):\n",
        "        plt.text(j, i, format(cm[i, j], fmt),\n",
        "                 horizontalalignment=\"center\",\n",
        "                 color=\"black\")\n",
        "\n",
        "    plt.ylabel('True label',fontsize=12)\n",
        "    plt.xlabel('Predicted label',fontsize=12)\n",
        "    plt.tight_layout()  \n",
        "    plt.show()"
      ],
      "execution_count": null,
      "outputs": []
    },
    {
      "cell_type": "markdown",
      "metadata": {
        "id": "ujDExmgTNcKn"
      },
      "source": [
        "Άλλες μετρικές που χρησιμοποιούνται συχνά για την αξιολόγηση των ταξινομητών είναι η ακρίβεια P (Precision), η ανάκληση R (Recall) και το F1 score. Αυτές ορίζονται ως εξής:\n",
        "\n",
        "\n",
        "*   Precision: είναι ο λόγος των true positives ($T_p$) ως προς τον αριθμό των true positives συν τον αριθμό των false positives ($F_p$). \n",
        "$$P = \\frac{T_p}{T_p+F_p}$$\n",
        "*   Recall: είναι ο λόγος των true positives ($T_p$) ως προς τον αριθμό των true positives συν τον αριθμό των false negatives ($F_n$). \n",
        "$$R = \\frac{T_p}{T_p + F_n}$$\n",
        "*   F1: είναι ο αρμονικός μέσος της ακρίβειας και της ανάκλησης. \n",
        "$$F1 = 2\\frac{P \\times R}{P+R}$$\n",
        "\n",
        "\n",
        "\n"
      ]
    },
    {
      "cell_type": "markdown",
      "metadata": {
        "id": "UaQsvbv7oZXB"
      },
      "source": [
        "Προτού ορίσουμε τα μοντέλα μας, αρχικοποιούμε τρία λεξικά, τα **accuracies**, **f1_micros** και **f1_macros**, τα οποία έχουν για κλειδιά τα ονόματα των ταξινομητών που μελετάμε και για τιμές την ακρίβεια, τη μετρική f1-micro average και την μετρική f1-macro average αντίστοιχα."
      ]
    },
    {
      "cell_type": "code",
      "metadata": {
        "id": "mBjdDnKS-a1M"
      },
      "source": [
        "# Ignore filter warnings \n",
        "\n",
        "from warnings import filterwarnings\n",
        "filterwarnings('ignore')\n",
        "\n",
        "# Initialize dictionaries\n",
        "\n",
        "accuracies = {}\n",
        "f1_micros ={}\n",
        "f1_macros = {}"
      ],
      "execution_count": null,
      "outputs": []
    },
    {
      "cell_type": "markdown",
      "metadata": {
        "id": "-mJ8kr8t3HIz"
      },
      "source": [
        "\n",
        "## 1) **Dummy Classifier**"
      ]
    },
    {
      "cell_type": "markdown",
      "metadata": {
        "id": "3py6ZE8nqDBO"
      },
      "source": [
        "Η κλάση **DummyClassifier** δέχεται μια παράμετρο που καθορίζει την τακτική της ταξινόμησης ως εξής:\n",
        "\n",
        "* **“uniform”**: προβλέπει τυχαία και ομοιόμορφα.\n",
        "* **“constant”**: προβλέπει πάντα μία κατηγορία που τη διαλέγει ο χρήστης.\n",
        "* **“most_frequent”**: προβλέπει πάντα την πιο συχνή κατηγορία στο training set.\n",
        "* **“stratified”**: κάνει προβλέψεις διατηρώντας την κατανομή των κλάσεων στο training set."
      ]
    },
    {
      "cell_type": "markdown",
      "metadata": {
        "id": "sdvc7Mb-7wb1"
      },
      "source": [
        "### i) Uniform"
      ]
    },
    {
      "cell_type": "markdown",
      "metadata": {
        "id": "8x41ZqJyrChv"
      },
      "source": [
        "Αρχικά, ορίζουμε το μοντέλο ταξινόμησης θέτοντας **uniform** την παράμετρο strategy. Με τη μέθοδο **fit** εκπαιδεύουμε τον ταξινομητή στο σύνολο εκπαίδευσης ενώ με την **predict** παράγουμε τις προβλέψεις για τα δεδομένα ελέγχου. Για τον υπολογισμό του accuracy χρησιμοποιούμε την μέθοδο **score** του αντικειμένου dummy classifier. Mέσω της συνάρτησης  **precision_recall_fscore_support** και θέτοντας την παράμετρο **average** σε **'micro'** ή **'macro'** βρίσκουμε αντίστοιχα τα ζητούμενα f1-micro και f1-macro ως το τρίτο στοιχείο (βρίσκεται στη θέση 2 αφού η αρίθμηση ξεκινάει από το μηδέν) από την επιστρεφόμενη τούπλα (precision, recall, fscore, support). Στο τέλος, για μια πιο ωραία και συνοπτική παρουσίαση των αποτελεσμάτων χρησιμοποιούμε την **classification_report** η οποία τυπώνει τα παραπάνω πρώτα για κάθε κλάση και μετά με μέσους όρους. Ακριβώς η ίδια διαδικασία επαναλαμβάνεται και για τους υπόλοιπους dummy ταξινομητές αφού πρώτα θέσουμε κατάλληλα την παράμετρο strategy."
      ]
    },
    {
      "cell_type": "code",
      "metadata": {
        "colab": {
          "base_uri": "https://localhost:8080/"
        },
        "id": "cog7qE_a8NOf",
        "outputId": "2b07e76b-e1c0-45d5-8652-e8d4aad98704"
      },
      "source": [
        "dc_uniform = DummyClassifier(strategy=\"uniform\")\n",
        "dc_uniform.fit(X_train, y_train)\n",
        "predictions = dc_uniform.predict(X_test)\n",
        "accuracies['uniform (random)'] = dc_uniform.score(X_test, y_test)\n",
        "f1_micros['uniform (random)'] = precision_recall_fscore_support(y_test, predictions, average='micro')[2]\n",
        "f1_macros['uniform (random)'] = precision_recall_fscore_support(y_test, predictions, average='macro')[2]\n",
        "print(\"F1-micro average score is: \\033[1m{} %\\033[0m\".format(f1_micros['uniform (random)']*100))\n",
        "print(\"F1-macro average score is: \\033[1m{} %\\033[0m\".format(f1_macros['uniform (random)']*100))"
      ],
      "execution_count": null,
      "outputs": [
        {
          "output_type": "stream",
          "text": [
            "F1-micro average score is: \u001b[1m54.19847328244275 %\u001b[0m\n",
            "F1-macro average score is: \u001b[1m53.98126463700235 %\u001b[0m\n"
          ],
          "name": "stdout"
        }
      ]
    },
    {
      "cell_type": "code",
      "metadata": {
        "colab": {
          "base_uri": "https://localhost:8080/",
          "height": 297
        },
        "id": "gF3utn-XA_h-",
        "outputId": "f1285d97-8c0f-4160-c7ac-98220f052b4c"
      },
      "source": [
        "cnf_matrix = confusion_matrix(y_test, predictions)\n",
        "custom_plot_confusion_matrix(cnf_matrix, [0,1])"
      ],
      "execution_count": null,
      "outputs": [
        {
          "output_type": "display_data",
          "data": {
            "image/png": "[encoded data removed]",
            "text/plain": [
              "<Figure size 432x288 with 2 Axes>"
            ]
          },
          "metadata": {
            "tags": [],
            "needs_background": "light"
          }
        }
      ]
    },
    {
      "cell_type": "code",
      "metadata": {
        "colab": {
          "base_uri": "https://localhost:8080/"
        },
        "id": "q5l-DqCP87W0",
        "outputId": "3a32dd4d-8a3f-4962-9c7e-0bdc38d0e0c8"
      },
      "source": [
        "print(classification_report(y_test, predictions, target_names=['0',\"1\"]))"
      ],
      "execution_count": null,
      "outputs": [
        {
          "output_type": "stream",
          "text": [
            "              precision    recall  f1-score   support\n",
            "\n",
            "           0       0.50      0.52      0.51        60\n",
            "           1       0.58      0.56      0.57        71\n",
            "\n",
            "    accuracy                           0.54       131\n",
            "   macro avg       0.54      0.54      0.54       131\n",
            "weighted avg       0.54      0.54      0.54       131\n",
            "\n"
          ],
          "name": "stdout"
        }
      ]
    },
    {
      "cell_type": "markdown",
      "metadata": {
        "id": "wON6u26TP4nV"
      },
      "source": [
        "Για τον συγκεκριμένο ταξινομητή δεν έχει ιδιαίτερο νόημα ο σχολιασμός των αποτελεσμάτων αφού η πρόβλεψη πραγματοποιείται τυχαία και ομοιόμορφα και επομένως σε κάθε τρέξιμο του κώδικα λαμβάνουμε διαφορετικές τιμές."
      ]
    },
    {
      "cell_type": "markdown",
      "metadata": {
        "id": "6FRGUOdP75Uc"
      },
      "source": [
        "### ii) Constant 0"
      ]
    },
    {
      "cell_type": "code",
      "metadata": {
        "colab": {
          "base_uri": "https://localhost:8080/"
        },
        "id": "6rO2gFZ48QV9",
        "outputId": "d6fb5d72-0749-45f4-c2a8-0e9e85aa0ef3"
      },
      "source": [
        "dc_constant_0 = DummyClassifier(strategy=\"constant\", constant=0)\n",
        "dc_constant_0.fit(X_train, y_train)\n",
        "predictions = dc_constant_0.predict(X_test)\n",
        "accuracies['Constant 0'] = dc_constant_0.score(X_test, y_test)\n",
        "f1_micros['Constant 0'] = precision_recall_fscore_support(y_test, predictions, average='micro')[2]\n",
        "f1_macros['Constant 0'] = precision_recall_fscore_support(y_test, predictions, average='macro')[2]\n",
        "print(\"F1-micro average score is: \\033[1m{} %\\033[0m\".format(f1_micros['Constant 0']*100))\n",
        "print(\"F1-macro average score is: \\033[1m{} %\\033[0m\".format(f1_macros['Constant 0']*100))"
      ],
      "execution_count": null,
      "outputs": [
        {
          "output_type": "stream",
          "text": [
            "F1-micro average score is: \u001b[1m45.80152671755725 %\u001b[0m\n",
            "F1-macro average score is: \u001b[1m31.413612565445025 %\u001b[0m\n"
          ],
          "name": "stdout"
        }
      ]
    },
    {
      "cell_type": "code",
      "metadata": {
        "colab": {
          "base_uri": "https://localhost:8080/",
          "height": 297
        },
        "id": "OtxK2U_7DP5B",
        "outputId": "b91660bd-040b-4ffd-846b-4ac7a2f6d81d"
      },
      "source": [
        "cnf_matrix = confusion_matrix(y_test, predictions)\n",
        "custom_plot_confusion_matrix(cnf_matrix, [0,1])"
      ],
      "execution_count": null,
      "outputs": [
        {
          "output_type": "display_data",
          "data": {
            "image/png": "[encoded data removed]",
            "text/plain": [
              "<Figure size 432x288 with 2 Axes>"
            ]
          },
          "metadata": {
            "tags": [],
            "needs_background": "light"
          }
        }
      ]
    },
    {
      "cell_type": "code",
      "metadata": {
        "colab": {
          "base_uri": "https://localhost:8080/"
        },
        "id": "rSad4MwvDYc3",
        "outputId": "61117022-78a4-4653-b2c8-8c8a8cc6e78c"
      },
      "source": [
        "print(classification_report(y_test, predictions, target_names=['0','1']))"
      ],
      "execution_count": null,
      "outputs": [
        {
          "output_type": "stream",
          "text": [
            "              precision    recall  f1-score   support\n",
            "\n",
            "           0       0.46      1.00      0.63        60\n",
            "           1       0.00      0.00      0.00        71\n",
            "\n",
            "    accuracy                           0.46       131\n",
            "   macro avg       0.23      0.50      0.31       131\n",
            "weighted avg       0.21      0.46      0.29       131\n",
            "\n"
          ],
          "name": "stdout"
        }
      ]
    },
    {
      "cell_type": "markdown",
      "metadata": {
        "id": "LuC7tH2tRuHy"
      },
      "source": [
        "Στους constant classifiers ισχύει ότι για το label που ταυτίζεται με την constant σταθερά (εδώ το '0') το recall είναι 1.00 . Επιπλέον, το precision είναι πάντα ίσο με τo ποσοστό των δειγμάτων του test set που ανήκουν στην συγκεκριμένη κατηγορία (εδώ το '0', δηλαδή την κατηγορία \"+\")."
      ]
    },
    {
      "cell_type": "markdown",
      "metadata": {
        "id": "7BhUS_Wi75iq"
      },
      "source": [
        "### iii) Constant 1"
      ]
    },
    {
      "cell_type": "code",
      "metadata": {
        "colab": {
          "base_uri": "https://localhost:8080/"
        },
        "id": "-M5cu-5Y8Roo",
        "outputId": "dddf35dc-86f3-403e-d217-d333128514ee"
      },
      "source": [
        "dc_constant_1 = DummyClassifier(strategy=\"constant\", constant=1)\n",
        "dc_constant_1.fit(X_train, y_train)\n",
        "predictions = dc_constant_1.predict(X_test)\n",
        "accuracies['Constant 1'] = dc_constant_1.score(X_test, y_test)\n",
        "f1_micros['Constant 1'] = precision_recall_fscore_support(y_test, predictions, average='micro')[2]\n",
        "f1_macros['Constant 1'] = precision_recall_fscore_support(y_test, predictions, average='macro')[2]\n",
        "print(\"F1-micro average score is: \\033[1m{} %\\033[0m\".format(f1_micros['Constant 1']*100))\n",
        "print(\"F1-macro average score is: \\033[1m{} %\\033[0m\".format(f1_macros['Constant 1']*100))"
      ],
      "execution_count": null,
      "outputs": [
        {
          "output_type": "stream",
          "text": [
            "F1-micro average score is: \u001b[1m54.19847328244275 %\u001b[0m\n",
            "F1-macro average score is: \u001b[1m35.148514851485146 %\u001b[0m\n"
          ],
          "name": "stdout"
        }
      ]
    },
    {
      "cell_type": "code",
      "metadata": {
        "colab": {
          "base_uri": "https://localhost:8080/",
          "height": 297
        },
        "id": "U8UVcys0D0jE",
        "outputId": "10f5f8ad-48ae-4509-cbb9-628e81f56a15"
      },
      "source": [
        "cnf_matrix = confusion_matrix(y_test, predictions)\n",
        "custom_plot_confusion_matrix(cnf_matrix, [0,1])"
      ],
      "execution_count": null,
      "outputs": [
        {
          "output_type": "display_data",
          "data": {
            "image/png": "[encoded data removed]",
            "text/plain": [
              "<Figure size 432x288 with 2 Axes>"
            ]
          },
          "metadata": {
            "tags": [],
            "needs_background": "light"
          }
        }
      ]
    },
    {
      "cell_type": "code",
      "metadata": {
        "colab": {
          "base_uri": "https://localhost:8080/"
        },
        "id": "mY4X5T2RD2rF",
        "outputId": "95886885-f83d-4cf4-86c4-9576e27f312d"
      },
      "source": [
        "print(classification_report(y_test, predictions, target_names=['0','1']))"
      ],
      "execution_count": null,
      "outputs": [
        {
          "output_type": "stream",
          "text": [
            "              precision    recall  f1-score   support\n",
            "\n",
            "           0       0.00      0.00      0.00        60\n",
            "           1       0.54      1.00      0.70        71\n",
            "\n",
            "    accuracy                           0.54       131\n",
            "   macro avg       0.27      0.50      0.35       131\n",
            "weighted avg       0.29      0.54      0.38       131\n",
            "\n"
          ],
          "name": "stdout"
        }
      ]
    },
    {
      "cell_type": "markdown",
      "metadata": {
        "id": "OuPaUecBUajo"
      },
      "source": [
        "Ισχύουν τα ίδια με τον Constant 0 με την διαφορά ότι έχει αντιστραφεί ο ρόλος των labels. Πράγματι, εδώ για την κατηγορία 1 (\"-\") το recall είναι ίσο με 1.00 ενώ για την 0 (\"+\") είναι 0.00. "
      ]
    },
    {
      "cell_type": "markdown",
      "metadata": {
        "id": "ZBfaeAXK75tR"
      },
      "source": [
        "### iv) Most frequent"
      ]
    },
    {
      "cell_type": "code",
      "metadata": {
        "colab": {
          "base_uri": "https://localhost:8080/"
        },
        "id": "sxR5GN-q8TWS",
        "outputId": "de71b0de-fab9-41b4-9c31-0492adc32119"
      },
      "source": [
        "dc_most_frequent = DummyClassifier(strategy=\"most_frequent\")\n",
        "dc_most_frequent.fit(X_train, y_train)\n",
        "predictions = dc_most_frequent.predict(X_test)\n",
        "accuracies['Most frequent label'] = dc_most_frequent.score(X_test, y_test)\n",
        "f1_micros['Most frequent label'] = precision_recall_fscore_support(y_test, predictions, average='micro')[2]\n",
        "f1_macros['Most frequent label'] = precision_recall_fscore_support(y_test, predictions, average='macro')[2]\n",
        "print(\"F1-micro average score is: \\033[1m{} %\\033[0m\".format(f1_micros['Most frequent label']*100))\n",
        "print(\"F1-macro average score is: \\033[1m{} %\\033[0m\".format(f1_macros['Most frequent label']*100))"
      ],
      "execution_count": null,
      "outputs": [
        {
          "output_type": "stream",
          "text": [
            "F1-micro average score is: \u001b[1m54.19847328244275 %\u001b[0m\n",
            "F1-macro average score is: \u001b[1m35.148514851485146 %\u001b[0m\n"
          ],
          "name": "stdout"
        }
      ]
    },
    {
      "cell_type": "code",
      "metadata": {
        "colab": {
          "base_uri": "https://localhost:8080/",
          "height": 297
        },
        "id": "rPRqcTxCD-AD",
        "outputId": "1a555739-594d-46ef-e050-8f99da264232"
      },
      "source": [
        "cnf_matrix = confusion_matrix(y_test, predictions)\n",
        "custom_plot_confusion_matrix(cnf_matrix, [0,1])"
      ],
      "execution_count": null,
      "outputs": [
        {
          "output_type": "display_data",
          "data": {
            "image/png": "[encoded data removed]",
            "text/plain": [
              "<Figure size 432x288 with 2 Axes>"
            ]
          },
          "metadata": {
            "tags": [],
            "needs_background": "light"
          }
        }
      ]
    },
    {
      "cell_type": "code",
      "metadata": {
        "colab": {
          "base_uri": "https://localhost:8080/"
        },
        "id": "1zxAncJ3EDl8",
        "outputId": "4417801e-c757-44d6-b234-27bac501df99"
      },
      "source": [
        "print(classification_report(y_test, predictions, target_names=['0','1']))"
      ],
      "execution_count": null,
      "outputs": [
        {
          "output_type": "stream",
          "text": [
            "              precision    recall  f1-score   support\n",
            "\n",
            "           0       0.00      0.00      0.00        60\n",
            "           1       0.54      1.00      0.70        71\n",
            "\n",
            "    accuracy                           0.54       131\n",
            "   macro avg       0.27      0.50      0.35       131\n",
            "weighted avg       0.29      0.54      0.38       131\n",
            "\n"
          ],
          "name": "stdout"
        }
      ]
    },
    {
      "cell_type": "markdown",
      "metadata": {
        "id": "xmuUjOMvVPoB"
      },
      "source": [
        "Ο Most Frequent Dummy Classifier ταξινομεί τα δείγματα στην πιο συχνή κατηγορία στο training set. Αν αυτή είναι η '0' τότε ο Most Frequent ταξινομητής συμπίπτει με τον Constant 0. Σε αντίθετη περίπτωση συμπίπτει με τον Constant 1."
      ]
    },
    {
      "cell_type": "markdown",
      "metadata": {
        "id": "YPJAG8QE8BJf"
      },
      "source": [
        "### v) Stratified"
      ]
    },
    {
      "cell_type": "code",
      "metadata": {
        "colab": {
          "base_uri": "https://localhost:8080/"
        },
        "id": "gyZrE5Gk8UeD",
        "outputId": "cf064d56-7acb-4dc1-e70a-894d328ce8e2"
      },
      "source": [
        "dc_stratified = DummyClassifier(strategy=\"stratified\")\n",
        "dc_stratified.fit(X_train, y_train)\n",
        "predictions = dc_stratified.predict(X_test)\n",
        "accuracies['Stratified'] = dc_stratified.score(X_test, y_test)\n",
        "f1_micros['Stratified'] = precision_recall_fscore_support(y_test, predictions, average='micro')[2]\n",
        "f1_macros['Stratified'] = precision_recall_fscore_support(y_test, predictions, average='macro')[2]\n",
        "print(\"F1-micro average score is: \\033[1m{} %\\033[0m\".format(f1_micros['Stratified']*100))\n",
        "print(\"F1-macro average score is: \\033[1m{} %\\033[0m\".format(f1_macros['Stratified']*100))"
      ],
      "execution_count": null,
      "outputs": [
        {
          "output_type": "stream",
          "text": [
            "F1-micro average score is: \u001b[1m48.854961832061065 %\u001b[0m\n",
            "F1-macro average score is: \u001b[1m48.66350821781599 %\u001b[0m\n"
          ],
          "name": "stdout"
        }
      ]
    },
    {
      "cell_type": "code",
      "metadata": {
        "colab": {
          "base_uri": "https://localhost:8080/",
          "height": 297
        },
        "id": "z76sZTqdEJfF",
        "outputId": "b4206959-e67d-4a03-a446-195001ce4345"
      },
      "source": [
        "cnf_matrix = confusion_matrix(y_test, predictions)\n",
        "custom_plot_confusion_matrix(cnf_matrix, [0,1])"
      ],
      "execution_count": null,
      "outputs": [
        {
          "output_type": "display_data",
          "data": {
            "image/png": "[encoded data removed]",
            "text/plain": [
              "<Figure size 432x288 with 2 Axes>"
            ]
          },
          "metadata": {
            "tags": [],
            "needs_background": "light"
          }
        }
      ]
    },
    {
      "cell_type": "code",
      "metadata": {
        "colab": {
          "base_uri": "https://localhost:8080/"
        },
        "id": "JhJz4izrEKlM",
        "outputId": "7213d7b7-c082-4f3f-9713-877b2172ded8"
      },
      "source": [
        "print(classification_report(y_test, predictions, target_names=['0','1']))"
      ],
      "execution_count": null,
      "outputs": [
        {
          "output_type": "stream",
          "text": [
            "              precision    recall  f1-score   support\n",
            "\n",
            "           0       0.44      0.47      0.46        60\n",
            "           1       0.53      0.51      0.52        71\n",
            "\n",
            "    accuracy                           0.49       131\n",
            "   macro avg       0.49      0.49      0.49       131\n",
            "weighted avg       0.49      0.49      0.49       131\n",
            "\n"
          ],
          "name": "stdout"
        }
      ]
    },
    {
      "cell_type": "markdown",
      "metadata": {
        "id": "sSvUMehUNH_n"
      },
      "source": [
        "Τα αποτελέσματα του recall και precision για τον stratified είναι πολύ κοντά στην ισορροπία του dataset, γεγονός αναμενόμενο αφού ο Stratified Dummy διατηρεί την κατανομή των κλάσεων στο training set (a-priori πιθανότητες)."
      ]
    },
    {
      "cell_type": "markdown",
      "metadata": {
        "id": "tKIi0FoW3J7H"
      },
      "source": [
        "## 2) **Gaussian Naive Bayes Classifier**"
      ]
    },
    {
      "cell_type": "markdown",
      "metadata": {
        "id": "xAZcUYE9x_so"
      },
      "source": [
        "Θα μελετήσουμε τώρα τον **Gaussian Naive Bayes Classifier**. H βασική ιδέα λειτουργίας ενός μπευζιανού ταξινομητή είναι ο γνωστός νόμος του Bayes: \\\\\n",
        " $$P(A\\mid B)={\\frac {P(B\\mid A)\\,P(A)}{P(B)}}$$\n",
        "\n",
        "Αν επιπλέον υποθέσουμε ότι τα χαρακτηριστικά είναι όλα ανεξάρτητα μεταξύ τους τότε προκύπτει ο γνωστός μας **Naive Bayes Classifier**. \n",
        "Με δεδομένα μια μεταβλητή κατηγορίας (κλάσης) $y$ και ένα εξαρτώμενο διάνυσμα χαρακτηριστικών $x_1$ μέχρι $x_n$, σύμφωνα με το θεώρημα του Bayes θα ισχύει \n",
        "$$P(y \\mid x_1, \\dots, x_n) = \\frac{P(y) P(x_1, \\dots x_n \\mid y)}{P(x_1, \\dots, x_n)}$$\n",
        "\n",
        "Ισχύει ότι $P(x_1, \\dots, x_i, \\dots, x_n \\mid y) =  \\prod_{i=1}^{n} P(x_i | y, x_1, \\dots, x_{i-1}, x_{i+1}, \\dots, x_n)$ και κάνουμε την αφελή (naive) υπόθεση ότι το χαρακτηριστικό $x_i$ για κάθε $i$ εξαρτάται μόνο από την κλάση $y$ και όχι από οποιοδήποτε άλλο χαρακτηριστικό. Αυτό οδηγεί στην απλοποίηση\n",
        "$$P(x_i | y, x_1, \\dots, x_{i-1}, x_{i+1}, \\dots, x_n) = P(x_i | y)$$\n",
        "και επομένως\n",
        "$$P(y \\mid x_1, \\dots, x_n) = \\frac{P(y) \\prod_{i=1}^{n} P(x_i \\mid y)}{P(x_1, \\dots, x_n)}$$\n",
        "Με δεδομένη είσοδο, το $P(x_1, \\dots, x_n)$ είναι σταθερό. Συνεπώς μπορούμε να χρησιμοποιήσουμε τον ακόλουθο κανόνα ταξινόμησης $$P(y \\mid x_1, \\dots, x_n) \\propto P(y) \\prod_{i=1}^{n} P(x_i \\mid y)$$\n",
        "$$\\Downarrow$$\n",
        "$$\\hat{y} = \\arg\\max_y P(y) \\prod_{i=1}^{n} P(x_i \\mid y)$$\n",
        "Το $P(y)$ είναι η υπόθεσή μας και ισούται με τη σχετική συχνότητα της κλάσης $y$ στο training set. To $P(x_i \\mid y)$ είναι η πιθανοφάνεια δηλαδή η πιθανότητα του δείγματος με δεδομένη την υπόθεσή μας και μπορεί επίσης να υπολογιστεί απλά από το training set. Οι διάφοροι Naive Bayes classifiers διαφοροποιούνται κυρίως από τις υποθέσεις που κάνουν ως προς την κατανομή $P(x_i \\mid y)$. Στην περίπτωση του **Gaussian Naive Bayes Classifier** θεωρούμε ότι τα χαρακτηριστικά $x_i$ $(i=1,2,\\dots,n)$ ενός δείγματος, δεδομένης μιας κλάσης $y$, ακολουθούν μια μονοδιάστατη Γκαουσιανή κατανομή, δηλαδή θεωρούμε ότι ισχύει:\n",
        "\\begin{equation}\n",
        "P(x_i \\mid y) = \\frac{1}{\\sqrt{2\\pi{\\sigma_{y}}^2}}\\cdot exp {\\left( -\\frac{\\left(x_i-\\mu_y\\right)^2}{2{\\sigma_y}^2}\\right)}\n",
        "\\end{equation}\n",
        "\n",
        "Τελικά, η κλάση $\\hat{y}$ που ανατίθεται σε ένα νέο δείγμα είναι αυτή που μεγιστοποιεί το γινόμενο $$P(y) \\prod_{i=1}^{n} P(x_i \\mid y)$$Πολλές φορές για να μειώσουμε την πολυπλοκότητα των πράξεων, αξιοποιούμε τις ιδιότητες της λογαριθμικής συνάρτησης $ln$ και επομένως η κλάση $\\hat{y}$ προκύπτει ως εξής:\n",
        "\n",
        "$$\\hat{y} = \\arg\\max_y (lnP(y) + \\sum_{i=1}^{n} lnP(x_i \\mid y))$$\n",
        "\n"
      ]
    },
    {
      "cell_type": "markdown",
      "metadata": {
        "id": "tUtLIq8A9e7V"
      },
      "source": [
        "Ορίζουμε αρχικά το μοντέλο μας ως ένα αντικείμενο της κλάσης **GaussianNB** της sklearn. Η διαδικασία εκπαίδευσης, πρόβλεψης και αξιολόγησης της επίδοσης είναι ακριβώς η ίδια με αυτήν που περιγράφεται στην ενότητα των Dummy Classifiers. "
      ]
    },
    {
      "cell_type": "code",
      "metadata": {
        "colab": {
          "base_uri": "https://localhost:8080/"
        },
        "id": "Yg6o4SspOvlX",
        "outputId": "8677abd0-f678-4378-c99d-165fc9e6f7cf"
      },
      "source": [
        "from sklearn.naive_bayes import GaussianNB\n",
        "\n",
        "gnb = GaussianNB()\n",
        "# κάνουμε εκπαίδευση (fit) δηλαδή ουσιαστικά υπολογίζουμε μέση τιμή και διακύμανση για όλα τα χαρακτηριστικά και κλάσεις στο training set\n",
        "gnb.fit(X_train, y_train)\n",
        "# η GaussianNB έχει builtin μέθοδο υπολογισμό accuracy. Αποθηκεύουμε την τιμή της στον πίνακά μας με τα αποτελέσματα από τα άλλα classifiers\n",
        "predictions = gnb.predict(X_test)\n",
        "accuracies['GaussianNB'] = gnb.score(X_test, y_test)\n",
        "f1_micros['GaussianNB'] = precision_recall_fscore_support(y_test, predictions, average='micro')[2]\n",
        "f1_macros['GaussianNB'] = precision_recall_fscore_support(y_test, predictions, average='macro')[2]\n",
        "print(\"F1-micro average score is: \\033[1m{} %\\033[0m\".format(f1_micros['GaussianNB']*100))\n",
        "print(\"F1-macro average score is: \\033[1m{} %\\033[0m\".format(f1_macros['GaussianNB']*100))"
      ],
      "execution_count": null,
      "outputs": [
        {
          "output_type": "stream",
          "text": [
            "F1-micro average score is: \u001b[1m81.67938931297711 %\u001b[0m\n",
            "F1-macro average score is: \u001b[1m81.28571428571428 %\u001b[0m\n"
          ],
          "name": "stdout"
        }
      ]
    },
    {
      "cell_type": "code",
      "metadata": {
        "colab": {
          "base_uri": "https://localhost:8080/",
          "height": 297
        },
        "id": "nNY1oomH4mB5",
        "outputId": "de39236c-6e9d-4fdb-9c37-04a626d64a5e"
      },
      "source": [
        "cnf_matrix = confusion_matrix(y_test, predictions)\n",
        "custom_plot_confusion_matrix(cnf_matrix, [0,1])"
      ],
      "execution_count": null,
      "outputs": [
        {
          "output_type": "display_data",
          "data": {
            "image/png": "[encoded data removed]",
            "text/plain": [
              "<Figure size 432x288 with 2 Axes>"
            ]
          },
          "metadata": {
            "tags": [],
            "needs_background": "light"
          }
        }
      ]
    },
    {
      "cell_type": "code",
      "metadata": {
        "colab": {
          "base_uri": "https://localhost:8080/"
        },
        "id": "ABf4o5u54pq0",
        "outputId": "3cde7bbd-31c4-477b-e717-a726e0f6d329"
      },
      "source": [
        "print(classification_report(y_test, predictions, target_names=['0','1']))"
      ],
      "execution_count": null,
      "outputs": [
        {
          "output_type": "stream",
          "text": [
            "              precision    recall  f1-score   support\n",
            "\n",
            "           0       0.85      0.73      0.79        60\n",
            "           1       0.80      0.89      0.84        71\n",
            "\n",
            "    accuracy                           0.82       131\n",
            "   macro avg       0.82      0.81      0.81       131\n",
            "weighted avg       0.82      0.82      0.82       131\n",
            "\n"
          ],
          "name": "stdout"
        }
      ]
    },
    {
      "cell_type": "markdown",
      "metadata": {
        "id": "1AcZ0_p43T-g"
      },
      "source": [
        "## 3) **kNN Classifier**"
      ]
    },
    {
      "cell_type": "markdown",
      "metadata": {
        "id": "d1VNQZYJ-hwb"
      },
      "source": [
        "O kNN είναι ένας ταξινομητής βασισμένος σε παραδείγματα (instance-based). Η αρχή λειτουργίας του είναι πολύ απλή. Για ένα νέο δείγμα προς ταξινόμηση, πρώτα υπολογίζουμε τους k πλησιέστερους γείτονές του (στον ν-διάστατο χώρο των χαρακτηριστικών εισόδου) με βάση κάποια συνάρτηση απόστασης, συνήθως την ευκλείδεια:\n",
        "\n",
        "$$d(x, x') = \\sqrt{\\left(x_1 - x'_1 \\right)^2 + \\left(x_2 - x'_2 \\right)^2 + \\dotsc + \\left(x_n - x'_n \\right)^2}$$\n",
        "\n",
        "Η κλάση του νέου δείγματος θα είναι η κλάση της πλειοψηφίας των k γειτόνων (διαλέγουμε k περιττό γενικά για να αποφύγουμε τυχόν 'ισοπαλίες'), είτε απλά υπολογισμένη (άθροισμα) είτε (αντίστροφα) ζυγισμένη με βάση την απόσταση του κάθε γείτονα. \n",
        "\n",
        "Ο kNN δεν έχει πρακτικά φάση εκπαίδευσης. Ωστόσο, για να ταξινομήσουμε ένα νέο δείγμα στην φάση test,  πρέπει να συγκρίνουμε την απόστασή του με κάθε δείγμα του train set. Αυτό σημαίνει ότι για την ταξινόμηση είναι απαραίτητα όλα τα δείγματα εκπαίδευσης (εξού και η ονομασία \"instance-based\", ενώ στον Naive Bayes χρειαζόμαστε μόνο τις παραμέτρους $μ$ και $σ^2$). Αυτό σημαίνει ότι ο kNN είναι πιο απαιτητικός και σε χώρο (αποθήκευση όλων των δειγμάτων) και σε χρόνο (υπολογισμός όλων των αποστάσεων για κάθε νέο δείγμα)."
      ]
    },
    {
      "cell_type": "code",
      "metadata": {
        "colab": {
          "base_uri": "https://localhost:8080/"
        },
        "id": "TbMw1x7HUQvh",
        "outputId": "1f93006b-f60d-40dc-de43-23b9e9b05ab7"
      },
      "source": [
        "from sklearn.neighbors import KNeighborsClassifier\n",
        "\n",
        "knn = KNeighborsClassifier()\n",
        "knn.fit(X_train, y_train)\n",
        "predictions = knn.predict(X_test)\n",
        "accuracies['Knn'] = knn.score(X_test, y_test)\n",
        "f1_micros['Knn'] = precision_recall_fscore_support(y_test, predictions, average='micro')[2]\n",
        "f1_macros['Knn'] = precision_recall_fscore_support(y_test, predictions, average='macro')[2]\n",
        "print(\"F1-micro average score is: \\033[1m{} %\\033[0m\".format(f1_micros['Knn']*100))\n",
        "print(\"F1-macro average score is: \\033[1m{} %\\033[0m\".format(f1_macros['Knn']*100))"
      ],
      "execution_count": null,
      "outputs": [
        {
          "output_type": "stream",
          "text": [
            "F1-micro average score is: \u001b[1m67.93893129770993 %\u001b[0m\n",
            "F1-macro average score is: \u001b[1m67.0933014354067 %\u001b[0m\n"
          ],
          "name": "stdout"
        }
      ]
    },
    {
      "cell_type": "code",
      "metadata": {
        "colab": {
          "base_uri": "https://localhost:8080/",
          "height": 297
        },
        "id": "jDUufGlXOC3p",
        "outputId": "c075db42-c972-499f-9272-cfe24c5dca51"
      },
      "source": [
        "cnf_matrix = confusion_matrix(y_test, predictions)\n",
        "custom_plot_confusion_matrix(cnf_matrix, [0,1])"
      ],
      "execution_count": null,
      "outputs": [
        {
          "output_type": "display_data",
          "data": {
            "image/png": "[encoded data removed]",
            "text/plain": [
              "<Figure size 432x288 with 2 Axes>"
            ]
          },
          "metadata": {
            "tags": [],
            "needs_background": "light"
          }
        }
      ]
    },
    {
      "cell_type": "code",
      "metadata": {
        "colab": {
          "base_uri": "https://localhost:8080/"
        },
        "id": "kJgK_gZQOFPi",
        "outputId": "301f3d64-5862-4417-ed2b-bbe10c1cedb0"
      },
      "source": [
        "print(classification_report(y_test, predictions, target_names=['0','1']))"
      ],
      "execution_count": null,
      "outputs": [
        {
          "output_type": "stream",
          "text": [
            "              precision    recall  f1-score   support\n",
            "\n",
            "           0       0.68      0.57      0.62        60\n",
            "           1       0.68      0.77      0.72        71\n",
            "\n",
            "    accuracy                           0.68       131\n",
            "   macro avg       0.68      0.67      0.67       131\n",
            "weighted avg       0.68      0.68      0.68       131\n",
            "\n"
          ],
          "name": "stdout"
        }
      ]
    },
    {
      "cell_type": "markdown",
      "metadata": {
        "id": "OM5uf2NX74Dm"
      },
      "source": [
        "## Μετρικές **f1-micro average** και **f1-macro average**"
      ]
    },
    {
      "cell_type": "markdown",
      "metadata": {
        "id": "h4yeydrxB5iD"
      },
      "source": [
        "Τα λεξικά **f1_micros** και **f1_macros** περιέχουν τώρα τo f1 score για κάθε ταξινομητή με average micro και macro αντίστοιχα. Για τη διαδικασία σύγκρισης τυπώνουμε το όνομα του κάθε ταξινομητή καθώς και το αντίστοιχο score του, ταξινομώντας τους σε φθίνουσα σειρά ακρίβειας."
      ]
    },
    {
      "cell_type": "code",
      "metadata": {
        "colab": {
          "base_uri": "https://localhost:8080/"
        },
        "id": "FMhR-hivFKTf",
        "outputId": "529b63f4-46eb-4b22-c289-5dedf12aaad4"
      },
      "source": [
        "print(\"\\033[1mClassification on the Japanese Credit Screening Data Set\\n\")\n",
        "print(\"------------------------ f1 micro average ------------------------\\n\")\n",
        "sorted_f1_micros = [(k, f1_micros[k]) for k in sorted(f1_micros, key=f1_micros.get, reverse=True)]\n",
        "for k, v in sorted_f1_micros:\n",
        "    print(\"\\033[1m\",k,\":\\033[0m\",v)\n",
        "print()\n",
        "print(\"\\033[1m------------------------ f1 macro average ------------------------\\n\")\n",
        "sorted_f1_macros = [(k, f1_macros[k]) for k in sorted(f1_macros, key=f1_macros.get, reverse=True)]\n",
        "for m, n in sorted_f1_macros:\n",
        "    print(\"\\033[1m\",m,\":\\033[0m\",n)"
      ],
      "execution_count": null,
      "outputs": [
        {
          "output_type": "stream",
          "text": [
            "\u001b[1mClassification on the Japanese Credit Screening Data Set\n",
            "\n",
            "------------------------ f1 micro average ------------------------\n",
            "\n",
            "\u001b[1m GaussianNB :\u001b[0m 0.816793893129771\n",
            "\u001b[1m Knn :\u001b[0m 0.6793893129770993\n",
            "\u001b[1m uniform (random) :\u001b[0m 0.5419847328244275\n",
            "\u001b[1m Constant 1 :\u001b[0m 0.5419847328244275\n",
            "\u001b[1m Most frequent label :\u001b[0m 0.5419847328244275\n",
            "\u001b[1m Stratified :\u001b[0m 0.48854961832061067\n",
            "\u001b[1m Constant 0 :\u001b[0m 0.4580152671755725\n",
            "\n",
            "\u001b[1m------------------------ f1 macro average ------------------------\n",
            "\n",
            "\u001b[1m GaussianNB :\u001b[0m 0.8128571428571428\n",
            "\u001b[1m Knn :\u001b[0m 0.670933014354067\n",
            "\u001b[1m uniform (random) :\u001b[0m 0.5398126463700235\n",
            "\u001b[1m Stratified :\u001b[0m 0.4866350821781599\n",
            "\u001b[1m Constant 1 :\u001b[0m 0.35148514851485146\n",
            "\u001b[1m Most frequent label :\u001b[0m 0.35148514851485146\n",
            "\u001b[1m Constant 0 :\u001b[0m 0.31413612565445026\n"
          ],
          "name": "stdout"
        }
      ]
    },
    {
      "cell_type": "markdown",
      "metadata": {
        "id": "mrUQ9yHcMjUq"
      },
      "source": [
        "## Bar plot σύγκρισης ταξινομητών"
      ]
    },
    {
      "cell_type": "markdown",
      "metadata": {
        "id": "LI7EaBDBnhzD"
      },
      "source": [
        "Για λόγους σύγκρισης και πάλι τυπώνουμε στο ίδιο bar plot τις τιμές του f1-score για κάθε averaged metric (micro / macro) όλων των ταξινομητών που μελετήσαμε προηγουμένως. "
      ]
    },
    {
      "cell_type": "code",
      "metadata": {
        "colab": {
          "base_uri": "https://localhost:8080/",
          "height": 513
        },
        "id": "Vu4OuY82Js72",
        "outputId": "af50cbe2-1e9e-4a89-e60c-6490034d2015"
      },
      "source": [
        "classifiers = list(accuracies.keys())\n",
        "x = np.arange(len(classifiers))\n",
        "width = 0.25\n",
        "\n",
        "fig, ax = plt.subplots(figsize=(12,7))\n",
        "rects1 = ax.bar(x - width/2, list(f1_micros.values()), width, label='f1_micro')\n",
        "rects2 = ax.bar(x + width/2, list(f1_macros.values()), width, label='f1_macro')\n",
        "\n",
        "ax.set_ylabel('Scores',fontsize=12)\n",
        "ax.set_title('Classifiers score according to f1-micro and f1-macro metric',fontsize=16)\n",
        "ax.set_xticks(x)\n",
        "ax.set_xticklabels(classifiers,fontsize=12)\n",
        "ax.legend(loc='upper left',fontsize=12)\n",
        "\n",
        "fig.tight_layout()\n",
        "plt.show()"
      ],
      "execution_count": null,
      "outputs": [
        {
          "output_type": "display_data",
          "data": {
            "image/png": "[encoded data removed]",
            "text/plain": [
              "<Figure size 864x504 with 1 Axes>"
            ]
          },
          "metadata": {
            "tags": [],
            "needs_background": "light"
          }
        }
      ]
    },
    {
      "cell_type": "markdown",
      "metadata": {
        "id": "1eeQDE-Cun5b"
      },
      "source": [
        "Παρατηρούμε ότι ο ταξινομητής GaussianNB παρά την μη-ρεαλιστική υπόθεση που κάνει για την ανεξαρτησία των χαρακτηριστικών κατηγοριοποιεί αρκετά ικανοποιητικά τα test δεδομένα. Δεδομένου και του γεγονότος ότι ο συγκεκριμένος ταξινομητής δεν διαθέτει παραμέτρους προς βελτιστοποίηση, αναμένουμε μικρή βελτίωση κατά την διαδικασία hyperparameter tuning σε επόμενο βήμα. Την δεύτερη υψηλότερη ακρίβεια εμφανίζει ο Knn. Τέλος, αναφορικά με τους dummy classifiers την καλύτερη επίδοση φαίνεται να έχει η στρατηγική Most frequent label (η οποία εδώ συμπίπτει με την Constant 1) κατά την οποία κάθε φορά επιλέγεται η πιο συχνή κλάση."
      ]
    },
    {
      "cell_type": "markdown",
      "metadata": {
        "id": "wDuj1iyA_Wdm"
      },
      "source": [
        "# Βελτιστοποίηση ταξινομητών"
      ]
    },
    {
      "cell_type": "markdown",
      "metadata": {
        "id": "4V_jewUK_74x"
      },
      "source": [
        "Για την βελτιστοποίηση των ταξινομητών και την ρύθμιση των υπερπαραμέτρων τους (εφόσον αυτοί έχουν) χρησιμοποιούμε τη μέθοδο της διασταυρούμενης επικύρωσης (**Cross Validation**). Στο Cross Validation αρχικά χωρίζουμε το training set σε έναν αριθμό \"πτυχών\" (folds). Για το συγκεκριμένο dataset δουλεύουμε με σχήμα **10-fold**. Στη συνέχεια, για κάθε k-fold, θεωρούμε ότι τα k μείον 1 folds είναι training set και ότι το fold που αφήσαμε έξω είναι το test set. Υπολογίζουμε τη μετρική σφάλματός μας στο test set που ορίζει το fold. Επαναλαμβάνουμε τη διαδικασία για τα k folds για κάθε τιμή των υπερπαραμέτρων και υπολογίζουμε τη μέση τιμή της μετρικής του σφάλματος. Με αυτό τον τρόπο, αφενός είμαστε αμερόληπτοι στην αξιολόγηση αφήνοντας τελείως έξω το test set και αφετέρου χρησιμοποιούμε αποτελεσματικά τα δεδομένα εκπαίδευσης: τα χρησιμοποιούμε όλα και παίρνοντας τη μέση τιμή εξαλείφουμε πιθανές ανωμαλίες στα δεδομένα.\n",
        "<center>\n",
        "<img src=\"https://sebastianraschka.com/images/faq/evaluate-a-model/k-fold.png\" alt=\"Cross Validation\" border=\"0\"  height=\"350\" width=\"600\">\n",
        "</center>\n"
      ]
    },
    {
      "cell_type": "markdown",
      "metadata": {
        "id": "jfD_qoQAEEC0"
      },
      "source": [
        "Για κάθε ταξινομητή, με εξαίρεση τους dummy, βελτιστοποιούμε την απόδοσή του στο training set μέσω της διαδικασίας προεπεξεργασίας και εύρεσης βέλτιστων υπερπαραμέτρων (τόσο των ταξινομητών όσο και των μετασχηματιστών). Συγκεκριμένα οι παράμετροι που βελτιστοποιούμε είναι:\n",
        "\n",
        "\n",
        "\n",
        "1.   **Παράμετροι μετασχηματιστών**: Το κατώφλι **threshold** για τον **VarianceThreshold** selector και ο αριθμός **n_components** για τον **PCA**.\n",
        "2.   **Παράμετροι ταξινομητών**: Μόνο ο **kNN** έχει υπερπαραμέτρους προς βελτιστοποίηση μεταξύ των οποίων εξετάζουμε μόνο τον αριθμό **n_neighbors** των κοντινότερων γειτόνων στο training set που λαμβάνουμε υπόψην για την ταξινόμηση ενός νέου δείγματος στο test set.\n",
        "\n",
        "\n",
        "\n"
      ]
    },
    {
      "cell_type": "code",
      "metadata": {
        "id": "f7kxP8WoOGuq"
      },
      "source": [
        "from imblearn.pipeline import Pipeline\n",
        "from sklearn.model_selection import cross_val_score\n",
        "\n",
        "# φέρνουμε τις γνωστές μας κλάσεις για preprocessing\n",
        "from sklearn.feature_selection import VarianceThreshold\n",
        "from sklearn.preprocessing import StandardScaler \n",
        "from sklearn.preprocessing import MinMaxScaler \n",
        "from sklearn.preprocessing import RobustScaler\n",
        "from sklearn.decomposition import PCA\n",
        "from sklearn.model_selection import GridSearchCV\n",
        "from imblearn.over_sampling import RandomOverSampler\n",
        "\n",
        "import time\n",
        "import re\n",
        "\n",
        "# αρχικοποιούμε τον εκτιμητή (ταξινομητής) και τους μετασχηματιστές χωρίς υπερ-παραμέτρους\n",
        "var_selector = VarianceThreshold()\n",
        "standard_scaler = StandardScaler()\n",
        "min_max_scaler = MinMaxScaler()\n",
        "pca = PCA()\n",
        "knn = KNeighborsClassifier()\n",
        "gnb = GaussianNB()"
      ],
      "execution_count": null,
      "outputs": []
    },
    {
      "cell_type": "markdown",
      "metadata": {
        "id": "dWdEkUm-I6Ml"
      },
      "source": [
        "Για την εύρεση των βέλτιστων παραμέτρων που αναφέραμε, ορίζουμε τη συνάρτηση **gridsearch**. Η συνάρτηση αυτή δέχεται ως όρισμα τον εκάστοτε ταξινομητή καθώς και όποιους μετασχηματιστές επιθυμούμε (μεταξύ των MinMax scaler, Standard scaler, Variance Threshold και PCA) μαζί με τις αντίστοιχες παραμέτρους, ενώ δέχεται και τη μετρική απόδοσης. Ανάλογα με τα δοθέντα ορίσματα, η συνάρτηση δημιουργεί την αρχιτεκτονική του pipeline μετασχηματιστών-εκτιμητή και αποθηκεύει σε ένα dictionary τις αντίστοιχες τιμές παραμέτρων. Με χρήση της συνάρτησης **Pipeline** της imblearn κατασκευάζεται το τελικό pipe, το οποίο μαζί με το dictionary παραμέτρων δίνονται ως ορίσματα στην **GridSearchCV** της βιβλιοθήκης sklearn. Στη συνάρτηση επίσης μεταβιβάζεται η μετρική απόδοσης scoring, ο αριθμός των folds του cv ενώ τίθεται η παράμετρος n_jobs=-1 ώστε να χρησιμοποιούνται όλοι οι πυρήνες του υπολογιστή (το default είναι 1). Η συνάρτηση εξετάζει όλους τους δυνατούς συνδυασμούς υπερπαραμέτρων εντοπίζοντας το καλύτερο μοντέλο. Τελικά, η **gridsearch** επιστρέφει ένα λεξικό με τα ονόματα και τις αντίστοιχες τιμές των βέλτιστων υπερπαραμέτρων. "
      ]
    },
    {
      "cell_type": "code",
      "metadata": {
        "id": "j7N5X6ZAHc6V"
      },
      "source": [
        "def gridsearch(clf,selector = None,selector_components = [],scaler = None,dim_reduct = None,dim_reduct_components = [], n_neighbors_components = [],scoring_metric = 'f1_macro'):\n",
        "    pipe_arch = []\n",
        "    grid_components = {}\n",
        "    if selector is not None:\n",
        "       pipe_arch.append(('selector',selector))\n",
        "       grid_components['selector__threshold'] = selector_components\n",
        "    if scaler is not None:\n",
        "       pipe_arch.append(('scaler',scaler))\n",
        "       if scaler == min_max_scaler: pipe_arch.reverse()\n",
        "    if dim_reduct is not None:\n",
        "       pipe_arch.append(('dim_reduct',dim_reduct))\n",
        "       grid_components['dim_reduct__n_components'] = dim_reduct_components\n",
        "    pipe_arch.append(('clf',clf))\n",
        "    if str(clf) == \"KNeighborsClassifier()\":\n",
        "        grid_components['clf__n_neighbors'] = n_neighbors_components\n",
        "    pipe = Pipeline(steps=pipe_arch)\n",
        "    estimator = GridSearchCV(pipe, grid_components, cv=10, scoring=scoring_metric, n_jobs=-1)\n",
        "    start_time = time.time()\n",
        "    estimator.fit(X_train, y_train)\n",
        "    print(\"Best parameters for optimal estimator are: \\033[1m{}\\033[0m\".format(estimator.best_params_))\n",
        "    print(\"Best mean cross validation score for optimal estimator is \\033[1m{} %\".format(estimator.best_score_*100))\n",
        "    pipeline_arch = '-'.join([str(elem[1]) for elem in pipe_arch]) \n",
        "    pipeline_arch = re.sub('[()]', '', pipeline_arch)\n",
        "    f1_scores[pipeline_arch] = estimator.best_score_*100\n",
        "    best_parameters[pipeline_arch] = estimator.best_params_\n",
        "    return estimator.best_params_"
      ],
      "execution_count": null,
      "outputs": []
    },
    {
      "cell_type": "markdown",
      "metadata": {
        "id": "29cXDt8FTC38"
      },
      "source": [
        "Οι μετρικές απόδοσης που χρησιμοποιούνται στο cross-validation για την εύρεση των βέλτιστων τιμών των υπερπαραμέτρων (ταξινομητών και μετασχηματιστών) είναι οι f1-micro και f1-macro. Ανάλογα με την μετρική προκύπτει διαφορετικό βέλτιστο μοντέλο. Βέβαια για μικρά datasets όπως το δικό μας αναμένουμε να καταλήξουμε σε παραπλήσιες (αν όχι ίδιες) βέλτιστες τιμές. Για κάθε μετρική ορίζουμε αρχικά δύο λεξικά **f1_scores** και **best_parameters** με κλειδιά όλες τις αρχιτεκτονικές pipeline που εξετάζουμε και τιμές τις μέσες τιμές των μετρικών απόδοσης των βέλτιστων ταξινομητών και τις παραμέτρους τους αντίστοιχα. Η συμπλήρωση των λεξικών αυτών γίνεται εντός της συνάρτησης **gridsearch** που περιγράφουμε παραπάνω. Επιπλέον, ορίζουμε για κάθε συνδυασμό μετρικής απόδοσης (f1-micro ή f1-macro) και ταξινομητή (Gaussian, kNN) μία λίστα η οποία πρόκειται να περιέχει τις τιμές των βέλτιστων υπερπαραμέτρων που θα προκύψουν.\n",
        "\n",
        "\n",
        "Στη συνέχεια, ακολουθείται μια **bottom-up** διαδικασία η οποία είναι ίδια για κάθε ταξινομητή και περιλαμβάνει τα ακόλουθα βήματα. Αρχικά, ξεκινάμε μόνο με τον εκτιμητή και στη συνέχεια προσθέτουμε μετασχηματιστές παρακολουθώντας την επίδραση τους στις επιδόσεις, πάντα με αναζήτηση πλέγματος με διασταυρούμενη επικύρωση. Συνολικά επομένως για κάθε μετρική απόδοσης (f1-micro/macro) επιλέγουμε διαφορετικές αρχιτεκτονικές pipeline τις οποίες εξετάζουμε σειριακά μέσω της gridsearch προκειμένου να βρούμε τις βέλτιστες παραμέτρους τους και το αντίστοιχο cross validation score. Στο πεδίο ορισμού των παραμέτρων, ξεκινάμε με μεγάλα διαστήματα και σχετικά μεγάλο βήμα. Για τις αρχιτεκτονικές εκείνες οι οποίες εμφανίζουν τα πιο υψηλά crossvalidation scores μικραίνουμε το διάστημα του grid search γύρω από τις προηγούμενες βέλτιστες τιμές και εφαρμόζουμε ένα σχετικά μικρό βήμα. Οι τιμές αυτές λαμβάνονται **παραμετρικά** από το λεξικό επιστροφής της αμέσως προηγούμενης κλήσης της συνάρτησης **gridsearch**. Με τον τρόπο αυτό εξασφαλίζουμε ότι είτε θα βελτιστοποιήσουμε περαιτέρω τον εκτιμητή είτε σε περίπτωση που αυτός δεν βελτιστοποιηθεί θα είμαστε σίγουροι ότι βρισκόμαστε σε ένα καλό τοπικό μέγιστο της συνάρτησης αξιολόγησης.\n",
        "\n",
        "Σημειώνουμε πως **δεν** προσδιορίσαμε κάποιο **random_state** κατά την κλήση της συνάρτησης **train_test_split**. Επομένως σε κάθε τρέξιμο του κώδικα γίνεται διαφορετικός διαμοιρασμός δειγμάτων σε train και test set και άρα ενδέχεται να διαφέρουν οι βέλτιστες αρχιτεκτονικές και οι υπερπαράμετροί τους. \n",
        "\n",
        "\n"
      ]
    },
    {
      "cell_type": "markdown",
      "metadata": {
        "id": "CSzlrNJrQlln"
      },
      "source": [
        "## 1) **Dummy Classifier**"
      ]
    },
    {
      "cell_type": "markdown",
      "metadata": {
        "id": "ht0Uy2tl44LR"
      },
      "source": [
        "Στην ενότητα αυτή δεν θα ασχοληθούμε με τους Dummy Classifiers καθώς πραγματοποιούν μια \"αφελή\" διαδικασία ταξινόμησης η οποία δεν επιδέχεται κάποιου είδους βελτιστοποίηση."
      ]
    },
    {
      "cell_type": "markdown",
      "metadata": {
        "id": "orsoTVdYRGOY"
      },
      "source": [
        " ## 2) **Gaussian Naive Bayes Classifier**"
      ]
    },
    {
      "cell_type": "markdown",
      "metadata": {
        "id": "Yb35kHLc5Ym5"
      },
      "source": [
        "Ο Gaussian Naive Bayes ταξινομητής **δεν** έχει υπερπαραμέτρους. Συνεπώς, στις αρχιτεκτονικές εκείνες οι οποίες περιέχουν μόνο τον ταξινομητή ή τον ταξινομητή μαζί με κάποιο μετασχηματιστή κανονικοποίησης των δεδομένων (Standrard / MinMax Scaler) **δεν** χρησιμοποιούμε την **gridsearch** καθώς δεν υπάρχουν υπερπαράμετροι προς βελτιστοποίηση. Ωστόσο, εφαρμόζουμε **cross- validation** μέσω της έτοιμης συνάρτησης **cross_val_score** της **sklearn** προκειμένου να λάβουμε μια πιο αντιπροσωπευτική τιμή για την απόδοση του μοντέλου μας καθώς αυτό αξιολογείται σε 10 διαφορετικά σύνολα δοκιμής. Αντιθέτως, όταν αξιολογούμε το μοντέλο σε ένα test set (το αρχικό που προκύπτει κατά τον διαχωρισμό των δεδομένων) λαμβάνουμε μία μετρική απόδοσης η οποία δεν είναι πλήρως αντιπροσωπευτική. Το αποτέλεσμα αυτό μπορεί να είναι τυχαίο ή να επηρεάζεται από bias των test δεδομένων. Επομένως, με χρήση του **cross-validation** επιτυγχάνουμε μία μεγαλύτερη συνοχή και ισορροπία στα δεδομένα μας και κατά συνέπεια εξασφαλίζουμε ένα μοντέλο που μπορεί να λύνει πιο αποτελεσματικά το γενικό πρόβλημα κατηγοριοποίησης. "
      ]
    },
    {
      "cell_type": "markdown",
      "metadata": {
        "id": "06SFHqQVUB0p"
      },
      "source": [
        "### Βελτιστοποίηση ταξινομητή με βάση τη μετρική F1-micro average"
      ]
    },
    {
      "cell_type": "code",
      "metadata": {
        "id": "y9QfhHAS85c2"
      },
      "source": [
        "f1_scores = {}\n",
        "best_parameters = {}\n",
        "best_gnb_f1_micro_parameters = []"
      ],
      "execution_count": null,
      "outputs": []
    },
    {
      "cell_type": "markdown",
      "metadata": {
        "id": "6tQu__vkOaqP"
      },
      "source": [
        "#### Gaussian Naive Bayes"
      ]
    },
    {
      "cell_type": "code",
      "metadata": {
        "colab": {
          "base_uri": "https://localhost:8080/"
        },
        "id": "Hkq203f98Lqt",
        "outputId": "3f6dd3c2-7309-4467-ff70-d6457fc52275"
      },
      "source": [
        "gnb = GaussianNB()\n",
        "scores = cross_val_score(gnb, X_train, y_train, cv=10, scoring='f1_micro')\n",
        "f1_scores['GaussianNB'] = scores.mean()*100\n",
        "print(\"Best mean cross validation score for estimator is \\033[1m{} % \\033[0m\".format(scores.mean()*100))"
      ],
      "execution_count": null,
      "outputs": [
        {
          "output_type": "stream",
          "text": [
            "Best mean cross validation score for estimator is \u001b[1m84.47387518142234 % \u001b[0m\n"
          ],
          "name": "stdout"
        }
      ]
    },
    {
      "cell_type": "markdown",
      "metadata": {
        "id": "i9Q6edmiKP0M"
      },
      "source": [
        "#### StandardScaler - Gaussian Naive Bayes"
      ]
    },
    {
      "cell_type": "code",
      "metadata": {
        "colab": {
          "base_uri": "https://localhost:8080/"
        },
        "id": "5iR0Ix5c9cJf",
        "outputId": "07768d91-3fc9-406b-fe33-1ff7d38a813b"
      },
      "source": [
        "scaler = StandardScaler()\n",
        "X_train_scaled = scaler.fit_transform(X_train)\n",
        "X_test_scaled = scaler.transform(X_test)\n",
        "scores = cross_val_score(GaussianNB(), X_train_scaled, y_train, cv=10, scoring='f1_micro')\n",
        "f1_scores['StandardScaler-GaussianNB'] = scores.mean() * 100\n",
        "print(\"Best mean cross validation score for estimator is \\033[1m{} % \\033[0m\".format(scores.mean()*100))"
      ],
      "execution_count": null,
      "outputs": [
        {
          "output_type": "stream",
          "text": [
            "Best mean cross validation score for estimator is \u001b[1m64.1799709724238 % \u001b[0m\n"
          ],
          "name": "stdout"
        }
      ]
    },
    {
      "cell_type": "markdown",
      "metadata": {
        "id": "00QZShaVKAYw"
      },
      "source": [
        "#### MinMaxScaler - Gaussian Naive Bayes"
      ]
    },
    {
      "cell_type": "code",
      "metadata": {
        "colab": {
          "base_uri": "https://localhost:8080/"
        },
        "id": "vn_XwQeb9crS",
        "outputId": "a9177ee4-86a0-4536-ec77-c251af198a9b"
      },
      "source": [
        "scaler = MinMaxScaler()\n",
        "X_train_scaled = scaler.fit_transform(X_train)\n",
        "X_test_scaled = scaler.transform(X_test)\n",
        "scores = cross_val_score(GaussianNB(), X_train_scaled, y_train, cv=10, scoring='f1_micro')\n",
        "f1_scores['MinMaxScaler-GaussianNB'] = scores.mean() * 100\n",
        "print(\"Best mean cross validation score for estimator is \\033[1m{} % \\033[0m\".format(scores.mean()*100))"
      ],
      "execution_count": null,
      "outputs": [
        {
          "output_type": "stream",
          "text": [
            "Best mean cross validation score for estimator is \u001b[1m66.47677793904208 % \u001b[0m\n"
          ],
          "name": "stdout"
        }
      ]
    },
    {
      "cell_type": "markdown",
      "metadata": {
        "id": "R0nuN37BK-WV"
      },
      "source": [
        "#### VarianceThreshold - Gaussian Naive Bayes"
      ]
    },
    {
      "cell_type": "code",
      "metadata": {
        "colab": {
          "base_uri": "https://localhost:8080/"
        },
        "id": "17ATkF-19ovg",
        "outputId": "80738cc3-6272-4831-ac34-486eeb67d73d"
      },
      "source": [
        "best_param = gridsearch(clf = GaussianNB(),\n",
        "                        selector = var_selector,\n",
        "                        selector_components = list(np.round(np.linspace(1e-3,1e-1,10),3)),\n",
        "                        scoring_metric = 'f1_micro')"
      ],
      "execution_count": null,
      "outputs": [
        {
          "output_type": "stream",
          "text": [
            "Best parameters for optimal estimator are: \u001b[1m{'selector__threshold': 0.023}\u001b[0m\n",
            "Best mean cross validation score for optimal estimator is \u001b[1m84.66618287373005 %\n"
          ],
          "name": "stdout"
        }
      ]
    },
    {
      "cell_type": "markdown",
      "metadata": {
        "id": "LJx85W_I_rLY"
      },
      "source": [
        "##### Progressive search"
      ]
    },
    {
      "cell_type": "code",
      "metadata": {
        "colab": {
          "base_uri": "https://localhost:8080/"
        },
        "id": "rM55nvTBEetl",
        "outputId": "947a05e8-2154-40aa-e8bb-89a6f0b76e57"
      },
      "source": [
        "thresh = best_param['selector__threshold']\n",
        "\n",
        "best_param = gridsearch(clf = GaussianNB(),\n",
        "                        selector = var_selector,\n",
        "                        selector_components = list(np.round(np.arange(max(thresh-10*thresh,0.004),thresh+10*thresh+thresh,thresh),3)),\n",
        "                        scoring_metric = 'f1_micro')"
      ],
      "execution_count": null,
      "outputs": [
        {
          "output_type": "stream",
          "text": [
            "Best parameters for optimal estimator are: \u001b[1m{'selector__threshold': 0.027}\u001b[0m\n",
            "Best mean cross validation score for optimal estimator is \u001b[1m84.66618287373005 %\n"
          ],
          "name": "stdout"
        }
      ]
    },
    {
      "cell_type": "markdown",
      "metadata": {
        "id": "h4kp_0MCHZED"
      },
      "source": [
        "#### StandardScaler - PCA - Gaussian Naive Bayes"
      ]
    },
    {
      "cell_type": "code",
      "metadata": {
        "colab": {
          "base_uri": "https://localhost:8080/"
        },
        "id": "VKMw8wED9pFM",
        "outputId": "0c3498d6-06d1-4522-e48e-71aac59ab595"
      },
      "source": [
        "best_param = gridsearch(clf = GaussianNB(),\n",
        "                        scaler = standard_scaler, \n",
        "                        dim_reduct = pca, \n",
        "                        dim_reduct_components = [10,20,30,40],\n",
        "                        scoring_metric = 'f1_micro')"
      ],
      "execution_count": null,
      "outputs": [
        {
          "output_type": "stream",
          "text": [
            "Best parameters for optimal estimator are: \u001b[1m{'dim_reduct__n_components': 10}\u001b[0m\n",
            "Best mean cross validation score for optimal estimator is \u001b[1m79.88388969521046 %\n"
          ],
          "name": "stdout"
        }
      ]
    },
    {
      "cell_type": "markdown",
      "metadata": {
        "id": "o4efQ8QlHB9F"
      },
      "source": [
        "#### MinMaxScaler - PCA - Gaussian Naive Bayes"
      ]
    },
    {
      "cell_type": "code",
      "metadata": {
        "colab": {
          "base_uri": "https://localhost:8080/"
        },
        "id": "Qtl_HAYQ-Oy0",
        "outputId": "573fd06c-c8bb-4861-df8e-b513a140b048"
      },
      "source": [
        "best_param = gridsearch(clf = GaussianNB(),\n",
        "                        scaler = min_max_scaler, \n",
        "                        dim_reduct = pca, \n",
        "                        dim_reduct_components = [10,20,30,40],\n",
        "                        scoring_metric = 'f1_micro')"
      ],
      "execution_count": null,
      "outputs": [
        {
          "output_type": "stream",
          "text": [
            "Best parameters for optimal estimator are: \u001b[1m{'dim_reduct__n_components': 10}\u001b[0m\n",
            "Best mean cross validation score for optimal estimator is \u001b[1m86.01959361393325 %\n"
          ],
          "name": "stdout"
        }
      ]
    },
    {
      "cell_type": "markdown",
      "metadata": {
        "id": "8Mtf-bfF_qDJ"
      },
      "source": [
        "##### Progressive search"
      ]
    },
    {
      "cell_type": "code",
      "metadata": {
        "colab": {
          "base_uri": "https://localhost:8080/"
        },
        "id": "f2Z8ZdXtA8S9",
        "outputId": "da6d70e9-f7c3-442f-ac02-da45e6246dd6"
      },
      "source": [
        "dim = best_param['dim_reduct__n_components']\n",
        "\n",
        "best_param = gridsearch(clf = GaussianNB(),\n",
        "                        scaler = min_max_scaler, \n",
        "                        dim_reduct = pca, \n",
        "                        dim_reduct_components = [dim-6,dim-4,dim-2,dim,min(dim+2,46),min(dim+4,46),min(dim+6,46)],\n",
        "                        scoring_metric = 'f1_micro')"
      ],
      "execution_count": null,
      "outputs": [
        {
          "output_type": "stream",
          "text": [
            "Best parameters for optimal estimator are: \u001b[1m{'dim_reduct__n_components': 8}\u001b[0m\n",
            "Best mean cross validation score for optimal estimator is \u001b[1m86.40420899854864 %\n"
          ],
          "name": "stdout"
        }
      ]
    },
    {
      "cell_type": "markdown",
      "metadata": {
        "id": "DrMOxpgPH1SP"
      },
      "source": [
        "#### VarianceThreshold - StandardScaler - Gaussian Naive Bayes"
      ]
    },
    {
      "cell_type": "code",
      "metadata": {
        "colab": {
          "base_uri": "https://localhost:8080/"
        },
        "id": "W985ig61-iJ6",
        "outputId": "55f119aa-77d4-4741-9b0d-14c77b793e13"
      },
      "source": [
        "best_param = gridsearch(clf = GaussianNB(),\n",
        "                        selector = var_selector,\n",
        "                        selector_components = list(np.round(np.linspace(1e-3,1e-1,10),3)),\n",
        "                        scaler = standard_scaler,\n",
        "                        scoring_metric = 'f1_micro')"
      ],
      "execution_count": null,
      "outputs": [
        {
          "output_type": "stream",
          "text": [
            "Best parameters for optimal estimator are: \u001b[1m{'selector__threshold': 0.045}\u001b[0m\n",
            "Best mean cross validation score for optimal estimator is \u001b[1m85.04354136429609 %\n"
          ],
          "name": "stdout"
        }
      ]
    },
    {
      "cell_type": "markdown",
      "metadata": {
        "id": "QXOmaDJ2_ohV"
      },
      "source": [
        "##### Progressive search"
      ]
    },
    {
      "cell_type": "code",
      "metadata": {
        "colab": {
          "base_uri": "https://localhost:8080/"
        },
        "id": "Vr34Pbt9B03l",
        "outputId": "2f6c8a19-a6cc-412e-8de4-8da214d98b0d"
      },
      "source": [
        "thresh = best_param['selector__threshold']\n",
        "\n",
        "best_param = gridsearch(clf = GaussianNB(),\n",
        "                        selector = var_selector,\n",
        "                        selector_components = list(np.round(np.arange(max(thresh-10*thresh,0.004),thresh+10*thresh+thresh,thresh),3)),\n",
        "                        scaler = standard_scaler,\n",
        "                        scoring_metric = 'f1_micro')"
      ],
      "execution_count": null,
      "outputs": [
        {
          "output_type": "stream",
          "text": [
            "Best parameters for optimal estimator are: \u001b[1m{'selector__threshold': 0.049}\u001b[0m\n",
            "Best mean cross validation score for optimal estimator is \u001b[1m84.6589259796807 %\n"
          ],
          "name": "stdout"
        }
      ]
    },
    {
      "cell_type": "markdown",
      "metadata": {
        "id": "5K6pW4EsJnpk"
      },
      "source": [
        "#### MinMaxScaler- VarianceThreshold  - Gaussian Naive Bayes"
      ]
    },
    {
      "cell_type": "code",
      "metadata": {
        "colab": {
          "base_uri": "https://localhost:8080/"
        },
        "id": "WxV35I60-vQ8",
        "outputId": "99f23b1f-a155-48be-c1ff-3c227393f848"
      },
      "source": [
        "best_param = gridsearch(clf = GaussianNB(),\n",
        "                         selector = var_selector,\n",
        "                         selector_components = list(np.round(np.linspace(1e-3,1e-1,10),3)),\n",
        "                         scaler = min_max_scaler, \n",
        "                         scoring_metric = 'f1_micro')"
      ],
      "execution_count": null,
      "outputs": [
        {
          "output_type": "stream",
          "text": [
            "Best parameters for optimal estimator are: \u001b[1m{'selector__threshold': 0.067}\u001b[0m\n",
            "Best mean cross validation score for optimal estimator is \u001b[1m87.16618287373004 %\n"
          ],
          "name": "stdout"
        }
      ]
    },
    {
      "cell_type": "markdown",
      "metadata": {
        "id": "l-4Abiz7_nqt"
      },
      "source": [
        "##### Progressive search"
      ]
    },
    {
      "cell_type": "code",
      "metadata": {
        "colab": {
          "base_uri": "https://localhost:8080/"
        },
        "id": "q-VyDmhHClQ2",
        "outputId": "ca04efa7-698b-4f8e-e533-9a8b7b8d8a3d"
      },
      "source": [
        "thresh = best_param['selector__threshold']\n",
        "\n",
        "best_param = gridsearch(clf = GaussianNB(),\n",
        "                         selector = var_selector,\n",
        "                         selector_components = list(np.round(np.arange(max(thresh-10*thresh,0.004),thresh+10*thresh+thresh,thresh),3)),\n",
        "                         scaler = min_max_scaler, \n",
        "                         scoring_metric = 'f1_micro')"
      ],
      "execution_count": null,
      "outputs": [
        {
          "output_type": "stream",
          "text": [
            "Best parameters for optimal estimator are: \u001b[1m{'selector__threshold': 0.071}\u001b[0m\n",
            "Best mean cross validation score for optimal estimator is \u001b[1m86.58925979680696 %\n"
          ],
          "name": "stdout"
        }
      ]
    },
    {
      "cell_type": "markdown",
      "metadata": {
        "id": "JzSPRM3lFpAa"
      },
      "source": [
        "#### VarianceThreshold - StandardScaler - PCA - Gaussian Naive Bayes"
      ]
    },
    {
      "cell_type": "code",
      "metadata": {
        "colab": {
          "base_uri": "https://localhost:8080/"
        },
        "id": "YKcdkWGl-v4m",
        "outputId": "a361497c-f5ba-456f-c376-ecdab1cacfbb"
      },
      "source": [
        "best_param = gridsearch(clf = GaussianNB(),\n",
        "                        selector = var_selector,\n",
        "                        selector_components = list(np.round(np.linspace(1e-3,1e-1,10),3)),\n",
        "                        scaler = standard_scaler, \n",
        "                        dim_reduct = pca, \n",
        "                        dim_reduct_components = [10,20,30,40],\n",
        "                        scoring_metric = 'f1_micro')"
      ],
      "execution_count": null,
      "outputs": [
        {
          "output_type": "stream",
          "text": [
            "Best parameters for optimal estimator are: \u001b[1m{'dim_reduct__n_components': 10, 'selector__threshold': 0.067}\u001b[0m\n",
            "Best mean cross validation score for optimal estimator is \u001b[1m84.6734397677794 %\n"
          ],
          "name": "stdout"
        }
      ]
    },
    {
      "cell_type": "markdown",
      "metadata": {
        "id": "G_XLENQG_mlh"
      },
      "source": [
        "##### Progressive search"
      ]
    },
    {
      "cell_type": "code",
      "metadata": {
        "colab": {
          "base_uri": "https://localhost:8080/"
        },
        "id": "pJaDY-dxDE4H",
        "outputId": "296b61b7-a745-4903-eb85-4dc378ba7dfb"
      },
      "source": [
        "dim = best_param['dim_reduct__n_components']\n",
        "thresh = best_param['selector__threshold']\n",
        "\n",
        "best_param = gridsearch(clf = GaussianNB(),\n",
        "                        selector = var_selector,\n",
        "                        selector_components = list(np.round(np.arange(max(thresh-10*thresh,0.004),thresh+10*thresh+thresh,thresh),3)),\n",
        "                        scaler = standard_scaler, \n",
        "                        dim_reduct = pca, \n",
        "                        dim_reduct_components = [dim-6,dim-4,dim-2,dim,min(dim+2,46),min(dim+4,46),min(dim+6,46)],\n",
        "                        scoring_metric = 'f1_micro')"
      ],
      "execution_count": null,
      "outputs": [
        {
          "output_type": "stream",
          "text": [
            "Best parameters for optimal estimator are: \u001b[1m{'dim_reduct__n_components': 6, 'selector__threshold': 0.205}\u001b[0m\n",
            "Best mean cross validation score for optimal estimator is \u001b[1m84.48113207547169 %\n"
          ],
          "name": "stdout"
        }
      ]
    },
    {
      "cell_type": "markdown",
      "metadata": {
        "id": "kCJgVT0hGr62"
      },
      "source": [
        "#### MinMaxScaler- VarianceThreshold - PCA - Gaussian Naive Bayes"
      ]
    },
    {
      "cell_type": "code",
      "metadata": {
        "colab": {
          "base_uri": "https://localhost:8080/"
        },
        "id": "Y-_TlP7Q_JzG",
        "outputId": "d0486058-b0e3-41aa-8308-80496e295406"
      },
      "source": [
        "best_param = gridsearch(clf = GaussianNB(),\n",
        "                         selector = var_selector,\n",
        "                         selector_components = list(np.round(np.linspace(1e-3,1e-1,10),3)),\n",
        "                         scaler = min_max_scaler, \n",
        "                         dim_reduct = pca, \n",
        "                         dim_reduct_components = [10,20,30,40],\n",
        "                         scoring_metric = 'f1_micro')"
      ],
      "execution_count": null,
      "outputs": [
        {
          "output_type": "stream",
          "text": [
            "Best parameters for optimal estimator are: \u001b[1m{'dim_reduct__n_components': 10, 'selector__threshold': 0.001}\u001b[0m\n",
            "Best mean cross validation score for optimal estimator is \u001b[1m86.01959361393325 %\n"
          ],
          "name": "stdout"
        }
      ]
    },
    {
      "cell_type": "markdown",
      "metadata": {
        "id": "A4sNxlvB_hJs"
      },
      "source": [
        "##### Progressive search"
      ]
    },
    {
      "cell_type": "code",
      "metadata": {
        "colab": {
          "base_uri": "https://localhost:8080/"
        },
        "id": "ftFL7wzZDl9Z",
        "outputId": "97e59576-df6f-4c29-c80d-27bea94e1254"
      },
      "source": [
        "dim = best_param['dim_reduct__n_components']\n",
        "thresh = best_param['selector__threshold']\n",
        "\n",
        "best_param = gridsearch(clf = GaussianNB(),\n",
        "                         selector = var_selector,\n",
        "                         selector_components = list(np.round(np.arange(max(thresh-10*thresh,0.004),thresh+10*thresh+thresh,thresh),3)),\n",
        "                         scaler = min_max_scaler, \n",
        "                         dim_reduct = pca, \n",
        "                         dim_reduct_components = [dim-6,dim-4,dim-2,dim,min(dim+2,46),min(dim+4,46),min(dim+6,46)],\n",
        "                         scoring_metric = 'f1_micro')"
      ],
      "execution_count": null,
      "outputs": [
        {
          "output_type": "stream",
          "text": [
            "Best parameters for optimal estimator are: \u001b[1m{'dim_reduct__n_components': 8, 'selector__threshold': 0.004}\u001b[0m\n",
            "Best mean cross validation score for optimal estimator is \u001b[1m86.40420899854864 %\n"
          ],
          "name": "stdout"
        }
      ]
    },
    {
      "cell_type": "markdown",
      "metadata": {
        "id": "fjlxm3kIWOmt"
      },
      "source": [
        "#### Επιλογή βέλτιστου ταξινομητή"
      ]
    },
    {
      "cell_type": "markdown",
      "metadata": {
        "id": "whMgULcsibnZ"
      },
      "source": [
        "Για την επιλογή του βέλτιστου ταξινομητή βρίσκουμε αρχικά την μέγιστη τιμή απόδοσης που περιέχεται στο λεξικό **f1_scores**. Στη συνέχεια, αποθηκεύουμε στην λίστα με τις καλύτερες αρχιτεκτονικές για τον συγκεκριμένο ταξινομητή όλα εκείνα τα pipelines για τα οποία η απόδοση ισούται με την τιμή αυτή. Για κάθε ένα από τα βέλτιστα αυτά pipelines τυπώνουμε τις παραμέτρους τους, οι οποίες βρίσκονται στο dictionary **best_parameters**."
      ]
    },
    {
      "cell_type": "code",
      "metadata": {
        "colab": {
          "base_uri": "https://localhost:8080/"
        },
        "id": "W6Ezb2EuWXOo",
        "outputId": "4f749d56-3396-4dfc-f4c1-5eda0cd8826b"
      },
      "source": [
        "best_f1_micro = max(f1_scores.values())            \n",
        "best_gnb_f1_micro_pipelines = [pipe for pipe,score in f1_scores.items() if score == best_f1_micro]    # getting all pipelines containing the maximum score\n",
        "print(\"The best pipeline/pipelines with \\033[1mf1_micro average {}% \\033[0mis/are:\\033[1m\\n\".format(best_f1_micro)) \n",
        "for pipeline in best_gnb_f1_micro_pipelines:\n",
        "    best_gnb_f1_micro_parameters.append(best_parameters[pipeline])\n",
        "    print(pipeline,\"\\033[0mwith parameters:\\033[1m\",best_parameters[pipeline])"
      ],
      "execution_count": null,
      "outputs": [
        {
          "output_type": "stream",
          "text": [
            "The best pipeline/pipelines with \u001b[1mf1_micro average 86.58925979680696% \u001b[0mis/are:\u001b[1m\n",
            "\n",
            "MinMaxScaler-VarianceThreshold-GaussianNB \u001b[0mwith parameters:\u001b[1m {'selector__threshold': 0.071}\n"
          ],
          "name": "stdout"
        }
      ]
    },
    {
      "cell_type": "markdown",
      "metadata": {
        "id": "gLywWeboUfjq"
      },
      "source": [
        "### Βελτιστοποίηση ταξινομητή με βάση τη μετρική F1-macro average"
      ]
    },
    {
      "cell_type": "code",
      "metadata": {
        "id": "G-MrMQNUb6SM"
      },
      "source": [
        "f1_scores = {}\n",
        "best_parameters = {}\n",
        "best_gnb_f1_macro_parameters = []"
      ],
      "execution_count": null,
      "outputs": []
    },
    {
      "cell_type": "markdown",
      "metadata": {
        "id": "N-B719vWrihs"
      },
      "source": [
        "#### Gaussian Naive Bayes"
      ]
    },
    {
      "cell_type": "code",
      "metadata": {
        "colab": {
          "base_uri": "https://localhost:8080/"
        },
        "id": "Vmd4-wQscN_-",
        "outputId": "1b5853a7-ce7b-41ff-ad6a-b375b67ff20e"
      },
      "source": [
        "gnb = GaussianNB()\n",
        "scores = cross_val_score(gnb, X_train, y_train, cv=10, scoring='f1_macro')\n",
        "f1_scores['GaussianNB'] = scores.mean()*100\n",
        "print(\"Best mean cross validation score for estimator is \\033[1m{} % \\033[0m\".format(scores.mean()*100))"
      ],
      "execution_count": null,
      "outputs": [
        {
          "output_type": "stream",
          "text": [
            "Best mean cross validation score for estimator is \u001b[1m84.0909706610226 % \u001b[0m\n"
          ],
          "name": "stdout"
        }
      ]
    },
    {
      "cell_type": "markdown",
      "metadata": {
        "id": "KdKNfsswqtXR"
      },
      "source": [
        "#### StandardScaler - Gaussian Naive Bayes"
      ]
    },
    {
      "cell_type": "code",
      "metadata": {
        "colab": {
          "base_uri": "https://localhost:8080/"
        },
        "id": "qVfzNyIhcZd_",
        "outputId": "98828b93-231d-41b7-faaa-b60c6a421733"
      },
      "source": [
        "scaler = StandardScaler()\n",
        "X_train_scaled = scaler.fit_transform(X_train)\n",
        "X_test_scaled = scaler.transform(X_test)\n",
        "scores = cross_val_score(GaussianNB(), X_train_scaled, y_train, cv=10, scoring='f1_macro')\n",
        "f1_scores['StandardScaler-GaussianNB'] = scores.mean() * 100\n",
        "print(\"Best mean cross validation score for estimator is \\033[1m{} % \\033[0m\".format(scores.mean()*100))"
      ],
      "execution_count": null,
      "outputs": [
        {
          "output_type": "stream",
          "text": [
            "Best mean cross validation score for estimator is \u001b[1m55.020777080762265 % \u001b[0m\n"
          ],
          "name": "stdout"
        }
      ]
    },
    {
      "cell_type": "markdown",
      "metadata": {
        "id": "IF4ZbGI1qlgK"
      },
      "source": [
        "#### MinMaxScaler - Gaussian Naive Bayes"
      ]
    },
    {
      "cell_type": "code",
      "metadata": {
        "colab": {
          "base_uri": "https://localhost:8080/"
        },
        "id": "ahLAALdjceg4",
        "outputId": "97433282-9380-4986-f8d5-ed8de664d5ae"
      },
      "source": [
        "scaler = MinMaxScaler()\n",
        "X_train_scaled = scaler.fit_transform(X_train)\n",
        "X_test_scaled = scaler.transform(X_test)\n",
        "scores = cross_val_score(GaussianNB(), X_train_scaled, y_train, cv=10, scoring='f1_macro')\n",
        "f1_scores['MinMaxScaler-GaussianNB'] = scores.mean() * 100\n",
        "print(\"Best mean cross validation score for estimator is \\033[1m{} % \\033[0m\".format(scores.mean()*100))"
      ],
      "execution_count": null,
      "outputs": [
        {
          "output_type": "stream",
          "text": [
            "Best mean cross validation score for estimator is \u001b[1m59.47767037220474 % \u001b[0m\n"
          ],
          "name": "stdout"
        }
      ]
    },
    {
      "cell_type": "markdown",
      "metadata": {
        "id": "SukUQLM0rJ9D"
      },
      "source": [
        "#### VarianceThreshold - Gaussian Naive Bayes"
      ]
    },
    {
      "cell_type": "code",
      "metadata": {
        "colab": {
          "base_uri": "https://localhost:8080/"
        },
        "id": "IiHRdUQTcmdD",
        "outputId": "42e2a11b-a409-444b-d68c-703be71cac7e"
      },
      "source": [
        "best_param = gridsearch(clf = GaussianNB(),\n",
        "                        selector = var_selector,\n",
        "                        selector_components = list(np.round(np.linspace(1e-3,1e-1,10),3)),\n",
        "                        scoring_metric = 'f1_macro')"
      ],
      "execution_count": null,
      "outputs": [
        {
          "output_type": "stream",
          "text": [
            "Best parameters for optimal estimator are: \u001b[1m{'selector__threshold': 0.023}\u001b[0m\n",
            "Best mean cross validation score for optimal estimator is \u001b[1m84.31189876774083 %\n"
          ],
          "name": "stdout"
        }
      ]
    },
    {
      "cell_type": "markdown",
      "metadata": {
        "id": "pbfiFyf5guaZ"
      },
      "source": [
        "##### Progressive search"
      ]
    },
    {
      "cell_type": "code",
      "metadata": {
        "colab": {
          "base_uri": "https://localhost:8080/"
        },
        "id": "lKG-El5QDNJA",
        "outputId": "67f97e45-1682-497f-aead-1bb566fdb964"
      },
      "source": [
        "thresh = best_param['selector__threshold']\n",
        "\n",
        "best_param = gridsearch(clf = GaussianNB(),\n",
        "                        selector = var_selector,\n",
        "                        selector_components = list(np.round(np.arange(max(thresh-10*thresh,0.004),thresh+10*thresh+thresh,thresh),3)),\n",
        "                        scoring_metric = 'f1_macro')"
      ],
      "execution_count": null,
      "outputs": [
        {
          "output_type": "stream",
          "text": [
            "Best parameters for optimal estimator are: \u001b[1m{'selector__threshold': 0.027}\u001b[0m\n",
            "Best mean cross validation score for optimal estimator is \u001b[1m84.31189876774083 %\n"
          ],
          "name": "stdout"
        }
      ]
    },
    {
      "cell_type": "markdown",
      "metadata": {
        "id": "92aYCWC6osPP"
      },
      "source": [
        "#### StandardScaler - PCA - Gaussian Naive Bayes"
      ]
    },
    {
      "cell_type": "code",
      "metadata": {
        "colab": {
          "base_uri": "https://localhost:8080/"
        },
        "id": "BYX6McN-craQ",
        "outputId": "54c61ab7-8bc3-4e6f-bd48-7798e9498d3e"
      },
      "source": [
        "best_param = gridsearch(clf = GaussianNB(),\n",
        "                        scaler = standard_scaler, \n",
        "                        dim_reduct = pca, \n",
        "                        dim_reduct_components = [10,20,30,40],\n",
        "                        scoring_metric = 'f1_macro')"
      ],
      "execution_count": null,
      "outputs": [
        {
          "output_type": "stream",
          "text": [
            "Best parameters for optimal estimator are: \u001b[1m{'dim_reduct__n_components': 10}\u001b[0m\n",
            "Best mean cross validation score for optimal estimator is \u001b[1m78.6395810905464 %\n"
          ],
          "name": "stdout"
        }
      ]
    },
    {
      "cell_type": "markdown",
      "metadata": {
        "id": "JoPDqmBAomjM"
      },
      "source": [
        "#### MinMaxScaler - PCA - Gaussian Naive Bayes"
      ]
    },
    {
      "cell_type": "code",
      "metadata": {
        "colab": {
          "base_uri": "https://localhost:8080/"
        },
        "id": "vhr-aTLlcwaM",
        "outputId": "f5bd7adf-4716-4f56-b26f-aa6709266c73"
      },
      "source": [
        "best_param = gridsearch(clf = GaussianNB(),\n",
        "                        scaler = min_max_scaler, \n",
        "                        dim_reduct = pca, \n",
        "                        dim_reduct_components = [10,20,30,40],\n",
        "                        scoring_metric = 'f1_macro')"
      ],
      "execution_count": null,
      "outputs": [
        {
          "output_type": "stream",
          "text": [
            "Best parameters for optimal estimator are: \u001b[1m{'dim_reduct__n_components': 10}\u001b[0m\n",
            "Best mean cross validation score for optimal estimator is \u001b[1m85.75087868029536 %\n"
          ],
          "name": "stdout"
        }
      ]
    },
    {
      "cell_type": "markdown",
      "metadata": {
        "id": "knpGHydvdtyX"
      },
      "source": [
        "##### Progressive search"
      ]
    },
    {
      "cell_type": "code",
      "metadata": {
        "colab": {
          "base_uri": "https://localhost:8080/"
        },
        "id": "4772xvXCDZmb",
        "outputId": "0140a7bb-460a-49a2-d002-9c8e04b70624"
      },
      "source": [
        "dim = best_param['dim_reduct__n_components']\n",
        "\n",
        "best_param = gridsearch(clf = GaussianNB(),\n",
        "                        scaler = min_max_scaler, \n",
        "                        dim_reduct = pca, \n",
        "                        dim_reduct_components = [dim-6,dim-4,dim-2,dim,min(dim+2,46),min(dim+4,46),min(dim+6,46)],\n",
        "                        scoring_metric = 'f1_macro')"
      ],
      "execution_count": null,
      "outputs": [
        {
          "output_type": "stream",
          "text": [
            "Best parameters for optimal estimator are: \u001b[1m{'dim_reduct__n_components': 8}\u001b[0m\n",
            "Best mean cross validation score for optimal estimator is \u001b[1m86.22661532063363 %\n"
          ],
          "name": "stdout"
        }
      ]
    },
    {
      "cell_type": "markdown",
      "metadata": {
        "id": "KEMQcBq0o7hr"
      },
      "source": [
        "#### VarianceThreshold - StandardScaler - Gaussian Naive Bayes"
      ]
    },
    {
      "cell_type": "code",
      "metadata": {
        "colab": {
          "base_uri": "https://localhost:8080/"
        },
        "id": "Kc4W6KV6c6S9",
        "outputId": "eb23f9ec-6f72-4eea-c55e-cc958f1f7e8b"
      },
      "source": [
        "best_param = gridsearch(clf = GaussianNB(),\n",
        "                        selector = var_selector,\n",
        "                        selector_components = list(np.round(np.linspace(1e-3,1e-1,10),3)),\n",
        "                        scaler = standard_scaler,\n",
        "                        scoring_metric = 'f1_macro')"
      ],
      "execution_count": null,
      "outputs": [
        {
          "output_type": "stream",
          "text": [
            "Best parameters for optimal estimator are: \u001b[1m{'selector__threshold': 0.056}\u001b[0m\n",
            "Best mean cross validation score for optimal estimator is \u001b[1m84.74495935726688 %\n"
          ],
          "name": "stdout"
        }
      ]
    },
    {
      "cell_type": "markdown",
      "metadata": {
        "id": "dFRRBKp6dsph"
      },
      "source": [
        "##### Progressive search"
      ]
    },
    {
      "cell_type": "code",
      "metadata": {
        "colab": {
          "base_uri": "https://localhost:8080/"
        },
        "id": "1nVzUl9GDqZv",
        "outputId": "a06bf929-9be4-4672-b710-c40e89b2f37e"
      },
      "source": [
        "thresh = best_param['selector__threshold']\n",
        "\n",
        "best_param = gridsearch(clf = GaussianNB(),\n",
        "                        selector = var_selector,\n",
        "                        selector_components = list(np.round(np.arange(max(thresh-10*thresh,0.004),thresh+10*thresh+thresh,thresh),3)),\n",
        "                        scaler = standard_scaler,\n",
        "                        scoring_metric = 'f1_macro')"
      ],
      "execution_count": null,
      "outputs": [
        {
          "output_type": "stream",
          "text": [
            "Best parameters for optimal estimator are: \u001b[1m{'selector__threshold': 0.06}\u001b[0m\n",
            "Best mean cross validation score for optimal estimator is \u001b[1m84.73706349340085 %\n"
          ],
          "name": "stdout"
        }
      ]
    },
    {
      "cell_type": "markdown",
      "metadata": {
        "id": "utAAm0PoqbmY"
      },
      "source": [
        "#### MinMaxScaler- VarianceThreshold  - Gaussian Naive Bayes"
      ]
    },
    {
      "cell_type": "code",
      "metadata": {
        "colab": {
          "base_uri": "https://localhost:8080/"
        },
        "id": "U_0urCo9c_iT",
        "outputId": "1fdd1631-8379-4254-b0bc-bf1aed3255c7"
      },
      "source": [
        "best_param = gridsearch(clf = GaussianNB(),\n",
        "                         selector = var_selector,\n",
        "                         selector_components = list(np.round(np.linspace(1e-3,1e-1,10),3)),\n",
        "                         scaler = min_max_scaler, \n",
        "                         scoring_metric = 'f1_macro')"
      ],
      "execution_count": null,
      "outputs": [
        {
          "output_type": "stream",
          "text": [
            "Best parameters for optimal estimator are: \u001b[1m{'selector__threshold': 0.067}\u001b[0m\n",
            "Best mean cross validation score for optimal estimator is \u001b[1m86.91634623497526 %\n"
          ],
          "name": "stdout"
        }
      ]
    },
    {
      "cell_type": "markdown",
      "metadata": {
        "id": "8kT8NsoXdrrz"
      },
      "source": [
        "##### Progressive search"
      ]
    },
    {
      "cell_type": "code",
      "metadata": {
        "colab": {
          "base_uri": "https://localhost:8080/"
        },
        "id": "kSPLhuWAD4XN",
        "outputId": "26d7b0d4-4157-47d1-bcd5-6cd31dba0f84"
      },
      "source": [
        "thresh = best_param['selector__threshold']\n",
        "\n",
        "best_param = gridsearch(clf = GaussianNB(),\n",
        "                         selector = var_selector,\n",
        "                         selector_components = list(np.round(np.arange(max(thresh-10*thresh,0.004),thresh+10*thresh+thresh,thresh),3)),\n",
        "                         scaler = min_max_scaler, \n",
        "                         scoring_metric = 'f1_macro')"
      ],
      "execution_count": null,
      "outputs": [
        {
          "output_type": "stream",
          "text": [
            "Best parameters for optimal estimator are: \u001b[1m{'selector__threshold': 0.071}\u001b[0m\n",
            "Best mean cross validation score for optimal estimator is \u001b[1m86.38252466216822 %\n"
          ],
          "name": "stdout"
        }
      ]
    },
    {
      "cell_type": "markdown",
      "metadata": {
        "id": "jPukpGdLoVwG"
      },
      "source": [
        "#### VarianceThreshold - StandardScaler - PCA - Gaussian Naive Bayes"
      ]
    },
    {
      "cell_type": "code",
      "metadata": {
        "colab": {
          "base_uri": "https://localhost:8080/"
        },
        "id": "vxwVscRBdD39",
        "outputId": "21f616d3-a025-48f4-eee2-16f36e5546c2"
      },
      "source": [
        "best_param = gridsearch(clf = GaussianNB(),\n",
        "                        selector = var_selector,\n",
        "                        selector_components = list(np.round(np.linspace(1e-3,1e-1,10),3)),\n",
        "                        scaler = standard_scaler, \n",
        "                        dim_reduct = pca, \n",
        "                        dim_reduct_components = [10,20,30,40],\n",
        "                        scoring_metric = 'f1_macro')"
      ],
      "execution_count": null,
      "outputs": [
        {
          "output_type": "stream",
          "text": [
            "Best parameters for optimal estimator are: \u001b[1m{'dim_reduct__n_components': 10, 'selector__threshold': 0.067}\u001b[0m\n",
            "Best mean cross validation score for optimal estimator is \u001b[1m84.42833368598232 %\n"
          ],
          "name": "stdout"
        }
      ]
    },
    {
      "cell_type": "markdown",
      "metadata": {
        "id": "fZLrTwdFdq0I"
      },
      "source": [
        "##### Progressive search"
      ]
    },
    {
      "cell_type": "code",
      "metadata": {
        "colab": {
          "base_uri": "https://localhost:8080/"
        },
        "id": "HtStiu59ESfQ",
        "outputId": "e4e8866a-8460-4530-c061-61692fe1e1f4"
      },
      "source": [
        "dim = best_param['dim_reduct__n_components']\n",
        "thresh = best_param['selector__threshold']\n",
        "\n",
        "best_param = gridsearch(clf = GaussianNB(),\n",
        "                        selector = var_selector,\n",
        "                        selector_components = list(np.round(np.arange(max(thresh-10*thresh,0.004),thresh+10*thresh+thresh,thresh),3)),\n",
        "                        scaler = standard_scaler, \n",
        "                        dim_reduct = pca, \n",
        "                        dim_reduct_components = [dim-6,dim-4,dim-2,dim,min(dim+2,46),min(dim+4,46),min(dim+6,46)],\n",
        "                        scoring_metric = 'f1_macro')"
      ],
      "execution_count": null,
      "outputs": [
        {
          "output_type": "stream",
          "text": [
            "Best parameters for optimal estimator are: \u001b[1m{'dim_reduct__n_components': 6, 'selector__threshold': 0.205}\u001b[0m\n",
            "Best mean cross validation score for optimal estimator is \u001b[1m84.20665321013374 %\n"
          ],
          "name": "stdout"
        }
      ]
    },
    {
      "cell_type": "markdown",
      "metadata": {
        "id": "WNRV_kbFofII"
      },
      "source": [
        "#### MinMaxScaler- VarianceThreshold - PCA - Gaussian Naive Bayes"
      ]
    },
    {
      "cell_type": "code",
      "metadata": {
        "colab": {
          "base_uri": "https://localhost:8080/"
        },
        "id": "Z7SF_HywcNFL",
        "outputId": "84102438-495e-42c1-b33f-15fc80107c8b"
      },
      "source": [
        "best_param = gridsearch(clf = GaussianNB(),\n",
        "                         selector = var_selector,\n",
        "                         selector_components = list(np.round(np.linspace(1e-3,1e-1,10),3)),\n",
        "                         scaler = min_max_scaler, \n",
        "                         dim_reduct = pca, \n",
        "                         dim_reduct_components = [10,20,30,40],\n",
        "                         scoring_metric = 'f1_macro')"
      ],
      "execution_count": null,
      "outputs": [
        {
          "output_type": "stream",
          "text": [
            "Best parameters for optimal estimator are: \u001b[1m{'dim_reduct__n_components': 10, 'selector__threshold': 0.067}\u001b[0m\n",
            "Best mean cross validation score for optimal estimator is \u001b[1m85.78142052232114 %\n"
          ],
          "name": "stdout"
        }
      ]
    },
    {
      "cell_type": "markdown",
      "metadata": {
        "id": "z-HM0o4Fdm6J"
      },
      "source": [
        "##### Progressive search"
      ]
    },
    {
      "cell_type": "code",
      "metadata": {
        "colab": {
          "base_uri": "https://localhost:8080/"
        },
        "id": "xnK5qxCsEgTA",
        "outputId": "c62ba5b4-a228-4265-c07e-6134912737bc"
      },
      "source": [
        "dim = best_param['dim_reduct__n_components']\n",
        "thresh = best_param['selector__threshold']\n",
        "\n",
        "best_param = gridsearch(clf = GaussianNB(),\n",
        "                         selector = var_selector,\n",
        "                         selector_components = list(np.round(np.arange(max(thresh-10*thresh,0.004),thresh+10*thresh+thresh,thresh),3)),\n",
        "                         scaler = min_max_scaler, \n",
        "                         dim_reduct = pca, \n",
        "                         dim_reduct_components = [dim-6,dim-4,dim-2,dim,min(dim+2,46),min(dim+4,46),min(dim+6,46)],\n",
        "                         scoring_metric = 'f1_macro')"
      ],
      "execution_count": null,
      "outputs": [
        {
          "output_type": "stream",
          "text": [
            "Best parameters for optimal estimator are: \u001b[1m{'dim_reduct__n_components': 8, 'selector__threshold': 0.004}\u001b[0m\n",
            "Best mean cross validation score for optimal estimator is \u001b[1m86.22661532063363 %\n"
          ],
          "name": "stdout"
        }
      ]
    },
    {
      "cell_type": "markdown",
      "metadata": {
        "id": "XylEuvsZWSOc"
      },
      "source": [
        "#### Επιλογή βέλτιστου ταξινομητή"
      ]
    },
    {
      "cell_type": "code",
      "metadata": {
        "colab": {
          "base_uri": "https://localhost:8080/"
        },
        "id": "YWyogDUlWVs8",
        "outputId": "82063655-e2c2-4968-d126-c5435414db4b"
      },
      "source": [
        "best_f1_macro = max(f1_scores.values())          \n",
        "best_gnb_f1_macro_pipelines = [pipe for pipe,score in f1_scores.items() if score == best_f1_macro]                          # getting all pipelines containing the maximum score\n",
        "print(\"The best pipeline/pipelines with \\033[1mf1_macro average {}% \\033[0mis/are:\\033[1m\\n\".format(best_f1_macro)) \n",
        "for pipeline in best_gnb_f1_macro_pipelines:\n",
        "    best_gnb_f1_macro_parameters.append(best_parameters[pipeline])\n",
        "    print(pipeline,\"\\033[0mwith parameters:\\033[1m\",best_parameters[pipeline])"
      ],
      "execution_count": null,
      "outputs": [
        {
          "output_type": "stream",
          "text": [
            "The best pipeline/pipelines with \u001b[1mf1_macro average 86.38252466216822% \u001b[0mis/are:\u001b[1m\n",
            "\n",
            "MinMaxScaler-VarianceThreshold-GaussianNB \u001b[0mwith parameters:\u001b[1m {'selector__threshold': 0.071}\n"
          ],
          "name": "stdout"
        }
      ]
    },
    {
      "cell_type": "markdown",
      "metadata": {
        "id": "R1d2_W2DRGdb"
      },
      "source": [
        "## 3) **kNN**"
      ]
    },
    {
      "cell_type": "markdown",
      "metadata": {
        "id": "DIHnQmI3_Ep5"
      },
      "source": [
        "### Βελτιστοποίηση ταξινομητή με βάση τη μετρική F1-micro average"
      ]
    },
    {
      "cell_type": "code",
      "metadata": {
        "id": "RkzVDktDGR9v"
      },
      "source": [
        "f1_scores = {}\n",
        "best_parameters = {}\n",
        "best_knn_f1_micro_parameters = []"
      ],
      "execution_count": null,
      "outputs": []
    },
    {
      "cell_type": "markdown",
      "metadata": {
        "id": "B0dHz7drwJZI"
      },
      "source": [
        "#### kNN"
      ]
    },
    {
      "cell_type": "code",
      "metadata": {
        "colab": {
          "base_uri": "https://localhost:8080/"
        },
        "id": "VRQI99KXwMX6",
        "outputId": "9cbc1778-1333-40f3-f9d0-265e9cb24bcc"
      },
      "source": [
        "best_param = gridsearch(clf = KNeighborsClassifier(),\n",
        "                        n_neighbors_components = list(range(1,54,4)),\n",
        "                        scoring_metric = 'f1_micro')"
      ],
      "execution_count": null,
      "outputs": [
        {
          "output_type": "stream",
          "text": [
            "Best parameters for optimal estimator are: \u001b[1m{'clf__n_neighbors': 5}\u001b[0m\n",
            "Best mean cross validation score for optimal estimator is \u001b[1m68.02975326560232 %\n"
          ],
          "name": "stdout"
        }
      ]
    },
    {
      "cell_type": "markdown",
      "metadata": {
        "id": "6P3DWA4pqIBH"
      },
      "source": [
        "#### StandardScaler - kNN"
      ]
    },
    {
      "cell_type": "code",
      "metadata": {
        "colab": {
          "base_uri": "https://localhost:8080/"
        },
        "id": "RtSpJ-q4qKNT",
        "outputId": "696f1566-1cb5-4045-e965-e01e1257f11f"
      },
      "source": [
        "best_param = gridsearch(clf = KNeighborsClassifier(),\n",
        "                        scaler = standard_scaler, \n",
        "                        n_neighbors_components = list(range(1,54,4)),\n",
        "                        scoring_metric = 'f1_micro')"
      ],
      "execution_count": null,
      "outputs": [
        {
          "output_type": "stream",
          "text": [
            "Best parameters for optimal estimator are: \u001b[1m{'clf__n_neighbors': 33}\u001b[0m\n",
            "Best mean cross validation score for optimal estimator is \u001b[1m86.20827285921627 %\n"
          ],
          "name": "stdout"
        }
      ]
    },
    {
      "cell_type": "markdown",
      "metadata": {
        "id": "fE1qEVoIzGSI"
      },
      "source": [
        "##### Progressive search"
      ]
    },
    {
      "cell_type": "code",
      "metadata": {
        "colab": {
          "base_uri": "https://localhost:8080/"
        },
        "id": "I3Ej9lkozIl_",
        "outputId": "02b9a5b9-ca6b-40fe-e81e-cf41fdb18224"
      },
      "source": [
        "n = best_param['clf__n_neighbors']\n",
        "\n",
        "best_param = gridsearch(clf = KNeighborsClassifier(),\n",
        "                        scaler = standard_scaler, \n",
        "                        n_neighbors_components = list(dict.fromkeys([max(n-6,1),max(n-4,1),max(n-2,1),n,n+2,n+4,n+6])),\n",
        "                        scoring_metric = 'f1_micro')"
      ],
      "execution_count": null,
      "outputs": [
        {
          "output_type": "stream",
          "text": [
            "Best parameters for optimal estimator are: \u001b[1m{'clf__n_neighbors': 33}\u001b[0m\n",
            "Best mean cross validation score for optimal estimator is \u001b[1m86.20827285921627 %\n"
          ],
          "name": "stdout"
        }
      ]
    },
    {
      "cell_type": "markdown",
      "metadata": {
        "id": "qi-vrL4hqU9q"
      },
      "source": [
        "#### MinMaxScaler - kNN"
      ]
    },
    {
      "cell_type": "code",
      "metadata": {
        "colab": {
          "base_uri": "https://localhost:8080/"
        },
        "id": "zlLyc-iiqRkS",
        "outputId": "17c20fba-5193-4309-d9e9-eab3e070e140"
      },
      "source": [
        "best_param = gridsearch(clf = KNeighborsClassifier(),\n",
        "                        scaler = min_max_scaler, \n",
        "                        n_neighbors_components = list(range(1,54,4)),\n",
        "                        scoring_metric = 'f1_micro')"
      ],
      "execution_count": null,
      "outputs": [
        {
          "output_type": "stream",
          "text": [
            "Best parameters for optimal estimator are: \u001b[1m{'clf__n_neighbors': 9}\u001b[0m\n",
            "Best mean cross validation score for optimal estimator is \u001b[1m87.55805515239476 %\n"
          ],
          "name": "stdout"
        }
      ]
    },
    {
      "cell_type": "markdown",
      "metadata": {
        "id": "X8EbE6qgurXk"
      },
      "source": [
        "##### Progressive search"
      ]
    },
    {
      "cell_type": "code",
      "metadata": {
        "colab": {
          "base_uri": "https://localhost:8080/"
        },
        "id": "fAW7jue3vCRU",
        "outputId": "bed2b8e5-c2ab-40b0-8a38-ffa1c317df6c"
      },
      "source": [
        "n = best_param['clf__n_neighbors']\n",
        "\n",
        "best_param = gridsearch(clf = KNeighborsClassifier(),\n",
        "                        scaler = min_max_scaler, \n",
        "                        n_neighbors_components = list(dict.fromkeys([max(n-6,1),max(n-4,1),max(n-2,1),n,n+2,n+4,n+6])),\n",
        "                        scoring_metric = 'f1_micro')"
      ],
      "execution_count": null,
      "outputs": [
        {
          "output_type": "stream",
          "text": [
            "Best parameters for optimal estimator are: \u001b[1m{'clf__n_neighbors': 9}\u001b[0m\n",
            "Best mean cross validation score for optimal estimator is \u001b[1m87.55805515239476 %\n"
          ],
          "name": "stdout"
        }
      ]
    },
    {
      "cell_type": "markdown",
      "metadata": {
        "id": "RLbs86W7vl2e"
      },
      "source": [
        "#### VarianceThreshold - kNN"
      ]
    },
    {
      "cell_type": "code",
      "metadata": {
        "colab": {
          "base_uri": "https://localhost:8080/"
        },
        "id": "Y_XzfDGzqnJQ",
        "outputId": "54ad11ae-8013-47db-f752-8604e94b535d"
      },
      "source": [
        "best_param = gridsearch(clf = KNeighborsClassifier(),\n",
        "                        selector = var_selector,\n",
        "                        selector_components = list(np.round(np.linspace(1e-3,1e-1,10),3)),\n",
        "                        n_neighbors_components = list(range(1,54,4)),\n",
        "                        scoring_metric = 'f1_micro')"
      ],
      "execution_count": null,
      "outputs": [
        {
          "output_type": "stream",
          "text": [
            "Best parameters for optimal estimator are: \u001b[1m{'clf__n_neighbors': 5, 'selector__threshold': 0.001}\u001b[0m\n",
            "Best mean cross validation score for optimal estimator is \u001b[1m68.02975326560232 %\n"
          ],
          "name": "stdout"
        }
      ]
    },
    {
      "cell_type": "markdown",
      "metadata": {
        "id": "H9IkJw6D-4lx"
      },
      "source": [
        "#### StandardScaler - PCA - kNN"
      ]
    },
    {
      "cell_type": "code",
      "metadata": {
        "colab": {
          "base_uri": "https://localhost:8080/"
        },
        "id": "KQesgB63qvK9",
        "outputId": "d600583a-0e50-4fe9-c804-27116affbf85"
      },
      "source": [
        "best_param = gridsearch(clf = KNeighborsClassifier(),\n",
        "                        scaler = standard_scaler, \n",
        "                        dim_reduct = pca, \n",
        "                        dim_reduct_components = [10,20,30,40],\n",
        "                        n_neighbors_components = list(range(1,54,4)),\n",
        "                        scoring_metric = 'f1_micro')"
      ],
      "execution_count": null,
      "outputs": [
        {
          "output_type": "stream",
          "text": [
            "Best parameters for optimal estimator are: \u001b[1m{'clf__n_neighbors': 33, 'dim_reduct__n_components': 30}\u001b[0m\n",
            "Best mean cross validation score for optimal estimator is \u001b[1m86.20827285921627 %\n"
          ],
          "name": "stdout"
        }
      ]
    },
    {
      "cell_type": "markdown",
      "metadata": {
        "id": "TaBnKd_Bvojh"
      },
      "source": [
        "##### Progressive search"
      ]
    },
    {
      "cell_type": "code",
      "metadata": {
        "colab": {
          "base_uri": "https://localhost:8080/"
        },
        "id": "3mQdzXn0vrgH",
        "outputId": "09223da2-8f34-47c6-9e5c-61a2bf1ac842"
      },
      "source": [
        "dim = best_param['dim_reduct__n_components']\n",
        "n = best_param['clf__n_neighbors']\n",
        "\n",
        "best_param = gridsearch(clf = KNeighborsClassifier(),\n",
        "                        scaler = standard_scaler, \n",
        "                        dim_reduct = pca, \n",
        "                        dim_reduct_components = [dim-6,dim-4,dim-2,dim,min(dim+2,46),min(dim+4,46),min(dim+6,46)],\n",
        "                        n_neighbors_components = list(dict.fromkeys([max(n-6,1),max(n-4,1),max(n-2,1),n,n+2,n+4,n+6])),\n",
        "                        scoring_metric = 'f1_micro')"
      ],
      "execution_count": null,
      "outputs": [
        {
          "output_type": "stream",
          "text": [
            "Best parameters for optimal estimator are: \u001b[1m{'clf__n_neighbors': 35, 'dim_reduct__n_components': 28}\u001b[0m\n",
            "Best mean cross validation score for optimal estimator is \u001b[1m86.59288824383165 %\n"
          ],
          "name": "stdout"
        }
      ]
    },
    {
      "cell_type": "markdown",
      "metadata": {
        "id": "n1YCOyA_95it"
      },
      "source": [
        "#### MinMaxScaler - PCA - kNN"
      ]
    },
    {
      "cell_type": "code",
      "metadata": {
        "colab": {
          "base_uri": "https://localhost:8080/"
        },
        "id": "va4zCphyq2Om",
        "outputId": "f534a952-3308-4632-9ca8-72800e9cf589"
      },
      "source": [
        "best_param = gridsearch(clf = KNeighborsClassifier(),\n",
        "                        scaler = min_max_scaler, \n",
        "                        dim_reduct = pca, \n",
        "                        dim_reduct_components = [10,20,30,40],\n",
        "                        n_neighbors_components = list(range(1,54,4)),\n",
        "                        scoring_metric = 'f1_micro')"
      ],
      "execution_count": null,
      "outputs": [
        {
          "output_type": "stream",
          "text": [
            "Best parameters for optimal estimator are: \u001b[1m{'clf__n_neighbors': 5, 'dim_reduct__n_components': 10}\u001b[0m\n",
            "Best mean cross validation score for optimal estimator is \u001b[1m88.1277213352685 %\n"
          ],
          "name": "stdout"
        }
      ]
    },
    {
      "cell_type": "markdown",
      "metadata": {
        "id": "ru1lT07IwU9T"
      },
      "source": [
        "##### Progressive search"
      ]
    },
    {
      "cell_type": "code",
      "metadata": {
        "colab": {
          "base_uri": "https://localhost:8080/"
        },
        "id": "KoCIT2jvwX7z",
        "outputId": "c221424b-87c1-4f51-f6c8-cfedc4b1bd67"
      },
      "source": [
        "dim = best_param['dim_reduct__n_components']\n",
        "n = best_param['clf__n_neighbors']\n",
        "\n",
        "best_param = gridsearch(clf = KNeighborsClassifier(),\n",
        "                        scaler = min_max_scaler, \n",
        "                        dim_reduct = pca, \n",
        "                        dim_reduct_components = [dim-6,dim-4,dim-2,dim,min(dim+2,46),min(dim+4,46),min(dim+6,46)],\n",
        "                        n_neighbors_components = list(dict.fromkeys([max(n-6,1),max(n-4,1),max(n-2,1),n,n+2,n+4,n+6])),\n",
        "                        scoring_metric = 'f1_micro')"
      ],
      "execution_count": null,
      "outputs": [
        {
          "output_type": "stream",
          "text": [
            "Best parameters for optimal estimator are: \u001b[1m{'clf__n_neighbors': 5, 'dim_reduct__n_components': 10}\u001b[0m\n",
            "Best mean cross validation score for optimal estimator is \u001b[1m88.1277213352685 %\n"
          ],
          "name": "stdout"
        }
      ]
    },
    {
      "cell_type": "markdown",
      "metadata": {
        "id": "5JiEVgdt80DQ"
      },
      "source": [
        "#### VarianceThreshold - StandardScaler - kNN"
      ]
    },
    {
      "cell_type": "code",
      "metadata": {
        "colab": {
          "base_uri": "https://localhost:8080/"
        },
        "id": "tvIjzvVhrg6w",
        "outputId": "656c0fa8-bc66-42a6-c9cc-0466236e0c37"
      },
      "source": [
        "best_param = gridsearch(clf = KNeighborsClassifier(),\n",
        "                        selector = var_selector,\n",
        "                        selector_components = list(np.round(np.linspace(1e-3,1e-1,10),3)),\n",
        "                        scaler = standard_scaler, \n",
        "                        n_neighbors_components = list(range(1,54,4)),\n",
        "                        scoring_metric = 'f1_micro')"
      ],
      "execution_count": null,
      "outputs": [
        {
          "output_type": "stream",
          "text": [
            "Best parameters for optimal estimator are: \u001b[1m{'clf__n_neighbors': 41, 'selector__threshold': 0.067}\u001b[0m\n",
            "Best mean cross validation score for optimal estimator is \u001b[1m87.54716981132076 %\n"
          ],
          "name": "stdout"
        }
      ]
    },
    {
      "cell_type": "markdown",
      "metadata": {
        "id": "qfTxC4a-w06F"
      },
      "source": [
        "##### Progressive search"
      ]
    },
    {
      "cell_type": "code",
      "metadata": {
        "colab": {
          "base_uri": "https://localhost:8080/"
        },
        "id": "AeiJC_8Uw3ea",
        "outputId": "4e95d35a-c046-4b10-e84a-4aea2ac8e641"
      },
      "source": [
        "thresh = best_param['selector__threshold']\n",
        "n = best_param['clf__n_neighbors']\n",
        "\n",
        "best_param = gridsearch(clf = KNeighborsClassifier(),\n",
        "                        selector = var_selector,\n",
        "                        selector_components = list(np.round(np.arange(max(thresh-10*thresh,0.004),thresh+10*thresh+thresh,thresh),3)),\n",
        "                        scaler = standard_scaler, \n",
        "                        n_neighbors_components = list(dict.fromkeys([max(n-6,1),max(n-4,1),max(n-2,1),n,n+2,n+4,n+6])),\n",
        "                        scoring_metric = 'f1_micro')"
      ],
      "execution_count": null,
      "outputs": [
        {
          "output_type": "stream",
          "text": [
            "Best parameters for optimal estimator are: \u001b[1m{'clf__n_neighbors': 47, 'selector__threshold': 0.071}\u001b[0m\n",
            "Best mean cross validation score for optimal estimator is \u001b[1m86.97024673439768 %\n"
          ],
          "name": "stdout"
        }
      ]
    },
    {
      "cell_type": "markdown",
      "metadata": {
        "id": "6p_2YkG4udFN"
      },
      "source": [
        "#### MinMaxScaler- VarianceThreshold  - kNN"
      ]
    },
    {
      "cell_type": "code",
      "metadata": {
        "colab": {
          "base_uri": "https://localhost:8080/"
        },
        "id": "VJDppPBwrtpK",
        "outputId": "838a9112-0c16-4a2d-9dd6-ddd80a3b3643"
      },
      "source": [
        "best_param = gridsearch(clf = KNeighborsClassifier(),\n",
        "                        selector = var_selector,\n",
        "                        selector_components = list(np.round(np.linspace(1e-3,1e-1,10),3)),\n",
        "                        scaler = min_max_scaler, \n",
        "                        n_neighbors_components = list(range(1,54,4)),\n",
        "                        scoring_metric = 'f1_micro')"
      ],
      "execution_count": null,
      "outputs": [
        {
          "output_type": "stream",
          "text": [
            "Best parameters for optimal estimator are: \u001b[1m{'clf__n_neighbors': 9, 'selector__threshold': 0.001}\u001b[0m\n",
            "Best mean cross validation score for optimal estimator is \u001b[1m87.55805515239476 %\n"
          ],
          "name": "stdout"
        }
      ]
    },
    {
      "cell_type": "markdown",
      "metadata": {
        "id": "q5JvGHRPxstk"
      },
      "source": [
        "##### Progressive search"
      ]
    },
    {
      "cell_type": "code",
      "metadata": {
        "colab": {
          "base_uri": "https://localhost:8080/"
        },
        "id": "s46-5OSBxxdJ",
        "outputId": "c70cdb44-29ed-4ccc-e5a1-1eb6a8e34a90"
      },
      "source": [
        "thresh = best_param['selector__threshold']\n",
        "n = best_param['clf__n_neighbors']\n",
        "\n",
        "best_param = gridsearch(clf = KNeighborsClassifier(),\n",
        "                        selector = var_selector,\n",
        "                        selector_components = list(np.round(np.arange(max(thresh-10*thresh,0.004),thresh+10*thresh+thresh,thresh),3)),\n",
        "                        scaler = min_max_scaler, \n",
        "                        n_neighbors_components = list(dict.fromkeys([max(n-6,1),max(n-4,1),max(n-2,1),n,n+2,n+4,n+6])),\n",
        "                        scoring_metric = 'f1_micro')"
      ],
      "execution_count": null,
      "outputs": [
        {
          "output_type": "stream",
          "text": [
            "Best parameters for optimal estimator are: \u001b[1m{'clf__n_neighbors': 7, 'selector__threshold': 0.008}\u001b[0m\n",
            "Best mean cross validation score for optimal estimator is \u001b[1m87.94629898403483 %\n"
          ],
          "name": "stdout"
        }
      ]
    },
    {
      "cell_type": "markdown",
      "metadata": {
        "id": "lkpj9tWe7xJZ"
      },
      "source": [
        "#### VarianceThreshold - StandardScaler - PCA - kNN"
      ]
    },
    {
      "cell_type": "code",
      "metadata": {
        "colab": {
          "base_uri": "https://localhost:8080/"
        },
        "id": "z-Vfm0yr_5Ih",
        "outputId": "f3308162-c408-4691-c276-620b78ec0d65"
      },
      "source": [
        "best_param = gridsearch(clf = KNeighborsClassifier(),\n",
        "                        selector = var_selector,\n",
        "                        selector_components = list(np.round(np.linspace(1e-3,1e-1,10),3)),\n",
        "                        scaler = standard_scaler, \n",
        "                        dim_reduct = pca, \n",
        "                        dim_reduct_components = [10,20,30,40],\n",
        "                        n_neighbors_components = list(range(1,54,4)),\n",
        "                        scoring_metric = 'f1_micro')"
      ],
      "execution_count": null,
      "outputs": [
        {
          "output_type": "stream",
          "text": [
            "Best parameters for optimal estimator are: \u001b[1m{'clf__n_neighbors': 25, 'dim_reduct__n_components': 10, 'selector__threshold': 0.089}\u001b[0m\n",
            "Best mean cross validation score for optimal estimator is \u001b[1m87.55079825834544 %\n"
          ],
          "name": "stdout"
        }
      ]
    },
    {
      "cell_type": "markdown",
      "metadata": {
        "id": "6wBMvSyayYdG"
      },
      "source": [
        "##### Progressive search"
      ]
    },
    {
      "cell_type": "code",
      "metadata": {
        "colab": {
          "base_uri": "https://localhost:8080/"
        },
        "id": "w80cjuasyafQ",
        "outputId": "bef8b32d-75f1-47f2-bb3f-1f1b708886fa"
      },
      "source": [
        "thresh = best_param['selector__threshold']\n",
        "dim = best_param['dim_reduct__n_components']\n",
        "n = best_param['clf__n_neighbors']\n",
        "\n",
        "best_param = gridsearch(clf = KNeighborsClassifier(),\n",
        "                        selector = var_selector,\n",
        "                        selector_components = list(np.round(np.arange(max(thresh-10*thresh,0.004),thresh+10*thresh+thresh,thresh),3)),\n",
        "                        scaler = standard_scaler, \n",
        "                        dim_reduct = pca, \n",
        "                        dim_reduct_components = [dim-6,dim-4,dim-2,dim,min(dim+2,46),min(dim+4,46),min(dim+6,46)],\n",
        "                        n_neighbors_components = list(dict.fromkeys([max(n-6,1),max(n-4,1),max(n-2,1),n,n+2,n+4,n+6])),\n",
        "                        scoring_metric = 'f1_micro')"
      ],
      "execution_count": null,
      "outputs": [
        {
          "output_type": "stream",
          "text": [
            "Best parameters for optimal estimator are: \u001b[1m{'clf__n_neighbors': 19, 'dim_reduct__n_components': 16, 'selector__threshold': 0.093}\u001b[0m\n",
            "Best mean cross validation score for optimal estimator is \u001b[1m86.97387518142236 %\n"
          ],
          "name": "stdout"
        }
      ]
    },
    {
      "cell_type": "markdown",
      "metadata": {
        "id": "B7_ULBYUsdST"
      },
      "source": [
        "#### MinMaxScaler- VarianceThreshold - PCA - kNN"
      ]
    },
    {
      "cell_type": "code",
      "metadata": {
        "colab": {
          "base_uri": "https://localhost:8080/"
        },
        "id": "KwtTWeahsmGI",
        "outputId": "6fe245f5-8c98-4939-9df4-c1d16b7fdbfe"
      },
      "source": [
        "best_param = gridsearch(clf = KNeighborsClassifier(),\n",
        "                        selector = var_selector,\n",
        "                        selector_components = list(np.round(np.linspace(1e-3,1e-1,10),3)),\n",
        "                        scaler = min_max_scaler, \n",
        "                        dim_reduct = pca, \n",
        "                        dim_reduct_components = [10,20,30,40],\n",
        "                        n_neighbors_components = list(range(1,54,4)),\n",
        "                        scoring_metric = 'f1_micro')"
      ],
      "execution_count": null,
      "outputs": [
        {
          "output_type": "stream",
          "text": [
            "Best parameters for optimal estimator are: \u001b[1m{'clf__n_neighbors': 5, 'dim_reduct__n_components': 10, 'selector__threshold': 0.001}\u001b[0m\n",
            "Best mean cross validation score for optimal estimator is \u001b[1m88.1277213352685 %\n"
          ],
          "name": "stdout"
        }
      ]
    },
    {
      "cell_type": "markdown",
      "metadata": {
        "id": "yTy-BkaTyty-"
      },
      "source": [
        "##### Progressive search "
      ]
    },
    {
      "cell_type": "code",
      "metadata": {
        "colab": {
          "base_uri": "https://localhost:8080/"
        },
        "id": "AupcZ_xwyw6z",
        "outputId": "880c5803-f93a-4505-e16f-7105d8f8ec2e"
      },
      "source": [
        "thresh = best_param['selector__threshold']\n",
        "dim = best_param['dim_reduct__n_components']\n",
        "n = best_param['clf__n_neighbors']\n",
        "\n",
        "best_param = gridsearch(clf = KNeighborsClassifier(),\n",
        "                        selector = var_selector,\n",
        "                        selector_components = list(np.round(np.arange(max(thresh-10*thresh,0.004),thresh+10*thresh+thresh,thresh),3)),\n",
        "                        scaler = min_max_scaler, \n",
        "                        dim_reduct = pca, \n",
        "                        dim_reduct_components = [dim-6,dim-4,dim-2,dim,min(dim+2,46),min(dim+4,46),min(dim+6,46)],\n",
        "                        n_neighbors_components = list(dict.fromkeys([max(n-6,1),max(n-4,1),max(n-2,1),n,n+2,n+4,n+6])),\n",
        "                        scoring_metric = 'f1_micro')"
      ],
      "execution_count": null,
      "outputs": [
        {
          "output_type": "stream",
          "text": [
            "Best parameters for optimal estimator are: \u001b[1m{'clf__n_neighbors': 5, 'dim_reduct__n_components': 10, 'selector__threshold': 0.004}\u001b[0m\n",
            "Best mean cross validation score for optimal estimator is \u001b[1m88.1277213352685 %\n"
          ],
          "name": "stdout"
        }
      ]
    },
    {
      "cell_type": "markdown",
      "metadata": {
        "id": "xP8A9t-CIzVa"
      },
      "source": [
        "#### Επιλογή βέλτιστου ταξινομητή"
      ]
    },
    {
      "cell_type": "code",
      "metadata": {
        "colab": {
          "base_uri": "https://localhost:8080/"
        },
        "id": "MbaE_uz47slx",
        "outputId": "2f640f62-3010-4cc9-b62d-fdd14f925423"
      },
      "source": [
        "best_f1_micro = max(f1_scores.values())          \n",
        "best_knn_f1_micro_pipelines = [pipe for pipe,score in f1_scores.items() if score == best_f1_micro]                          # getting all pipelines containing the maximum score\n",
        "print(\"The best pipeline/pipelines with \\033[1mf1_micro average {}% \\033[0mis/are:\\033[1m\\n\".format(best_f1_micro)) \n",
        "for pipeline in best_knn_f1_micro_pipelines:\n",
        "    best_knn_f1_micro_parameters.append(best_parameters[pipeline])\n",
        "    print(pipeline,\"\\033[0mwith parameters:\\033[1m\",best_parameters[pipeline])"
      ],
      "execution_count": null,
      "outputs": [
        {
          "output_type": "stream",
          "text": [
            "The best pipeline/pipelines with \u001b[1mf1_micro average 88.1277213352685% \u001b[0mis/are:\u001b[1m\n",
            "\n",
            "MinMaxScaler-PCA-KNeighborsClassifier \u001b[0mwith parameters:\u001b[1m {'clf__n_neighbors': 5, 'dim_reduct__n_components': 10}\n",
            "MinMaxScaler-VarianceThreshold-PCA-KNeighborsClassifier \u001b[0mwith parameters:\u001b[1m {'clf__n_neighbors': 5, 'dim_reduct__n_components': 10, 'selector__threshold': 0.004}\n"
          ],
          "name": "stdout"
        }
      ]
    },
    {
      "cell_type": "markdown",
      "metadata": {
        "id": "WZmFgzNaUCy4"
      },
      "source": [
        "### Βελτιστοποίηση ταξινομητή με βάση τη μετρική F1-macro average"
      ]
    },
    {
      "cell_type": "code",
      "metadata": {
        "id": "Trk8aFw7GsKy"
      },
      "source": [
        "f1_scores = {}\n",
        "best_parameters = {}\n",
        "best_knn_f1_macro_parameters = []"
      ],
      "execution_count": null,
      "outputs": []
    },
    {
      "cell_type": "markdown",
      "metadata": {
        "id": "dWCnXuH_b4qO"
      },
      "source": [
        "#### kNN"
      ]
    },
    {
      "cell_type": "code",
      "metadata": {
        "colab": {
          "base_uri": "https://localhost:8080/"
        },
        "id": "zwwNph3Fblz2",
        "outputId": "e549d047-b636-4cd7-8cdb-c4f63a49a333"
      },
      "source": [
        "best_param = gridsearch(clf = KNeighborsClassifier(),\n",
        "                        n_neighbors_components = list(range(1,54,4)),\n",
        "                        scoring_metric = 'f1_macro')"
      ],
      "execution_count": null,
      "outputs": [
        {
          "output_type": "stream",
          "text": [
            "Best parameters for optimal estimator are: \u001b[1m{'clf__n_neighbors': 5}\u001b[0m\n",
            "Best mean cross validation score for optimal estimator is \u001b[1m66.87321859441685 %\n"
          ],
          "name": "stdout"
        }
      ]
    },
    {
      "cell_type": "markdown",
      "metadata": {
        "id": "JImcQKPwsw9v"
      },
      "source": [
        "#### StandardScaler - kNN"
      ]
    },
    {
      "cell_type": "code",
      "metadata": {
        "colab": {
          "base_uri": "https://localhost:8080/"
        },
        "id": "_PFGvbxwsz82",
        "outputId": "fa4be4c4-be48-422d-eb01-596c2a38a4ab"
      },
      "source": [
        "best_param = gridsearch(clf = KNeighborsClassifier(),\n",
        "                        scaler = standard_scaler, \n",
        "                        n_neighbors_components = list(range(1,54,4)),\n",
        "                        scoring_metric = 'f1_macro')"
      ],
      "execution_count": null,
      "outputs": [
        {
          "output_type": "stream",
          "text": [
            "Best parameters for optimal estimator are: \u001b[1m{'clf__n_neighbors': 33}\u001b[0m\n",
            "Best mean cross validation score for optimal estimator is \u001b[1m85.84112115089823 %\n"
          ],
          "name": "stdout"
        }
      ]
    },
    {
      "cell_type": "markdown",
      "metadata": {
        "id": "5_2j9eDuzqra"
      },
      "source": [
        "##### Progressive search"
      ]
    },
    {
      "cell_type": "code",
      "metadata": {
        "colab": {
          "base_uri": "https://localhost:8080/"
        },
        "id": "Q-6553Mn0FzJ",
        "outputId": "d22e2a45-722b-4089-9186-e1c08a8a413a"
      },
      "source": [
        "n = best_param['clf__n_neighbors']\n",
        "\n",
        "best_param = gridsearch(clf = KNeighborsClassifier(),\n",
        "                        scaler = standard_scaler, \n",
        "                        n_neighbors_components = list(dict.fromkeys([max(n-6,1),max(n-4,1),max(n-2,1),n,n+2,n+4,n+6])),\n",
        "                        scoring_metric = 'f1_macro')"
      ],
      "execution_count": null,
      "outputs": [
        {
          "output_type": "stream",
          "text": [
            "Best parameters for optimal estimator are: \u001b[1m{'clf__n_neighbors': 33}\u001b[0m\n",
            "Best mean cross validation score for optimal estimator is \u001b[1m85.84112115089823 %\n"
          ],
          "name": "stdout"
        }
      ]
    },
    {
      "cell_type": "markdown",
      "metadata": {
        "id": "oMXlKDDXs28o"
      },
      "source": [
        "#### MinMaxScaler - kNN"
      ]
    },
    {
      "cell_type": "code",
      "metadata": {
        "colab": {
          "base_uri": "https://localhost:8080/"
        },
        "id": "dLsxlvR5s6eX",
        "outputId": "a4197cbe-ad8c-4da7-9ce2-b38b4be1486a"
      },
      "source": [
        "best_param = gridsearch(clf = KNeighborsClassifier(),\n",
        "                        scaler = min_max_scaler, \n",
        "                        n_neighbors_components = list(range(1,54,4)),\n",
        "                        scoring_metric = 'f1_macro')"
      ],
      "execution_count": null,
      "outputs": [
        {
          "output_type": "stream",
          "text": [
            "Best parameters for optimal estimator are: \u001b[1m{'clf__n_neighbors': 9}\u001b[0m\n",
            "Best mean cross validation score for optimal estimator is \u001b[1m87.39527187853884 %\n"
          ],
          "name": "stdout"
        }
      ]
    },
    {
      "cell_type": "markdown",
      "metadata": {
        "id": "u2NJ02QlztdE"
      },
      "source": [
        "##### Progressive search"
      ]
    },
    {
      "cell_type": "code",
      "metadata": {
        "colab": {
          "base_uri": "https://localhost:8080/"
        },
        "id": "YgZ-213xz8Hz",
        "outputId": "84d90ac4-4345-4d54-f91a-3c5a48405f44"
      },
      "source": [
        "n = best_param['clf__n_neighbors']\n",
        "\n",
        "best_param = gridsearch(clf = KNeighborsClassifier(),\n",
        "           scaler = min_max_scaler, \n",
        "           n_neighbors_components = list(dict.fromkeys([max(n-6,1),max(n-4,1),max(n-2,1),n,n+2,n+4,n+6])),\n",
        "           scoring_metric = 'f1_macro')"
      ],
      "execution_count": null,
      "outputs": [
        {
          "output_type": "stream",
          "text": [
            "Best parameters for optimal estimator are: \u001b[1m{'clf__n_neighbors': 9}\u001b[0m\n",
            "Best mean cross validation score for optimal estimator is \u001b[1m87.39527187853884 %\n"
          ],
          "name": "stdout"
        }
      ]
    },
    {
      "cell_type": "markdown",
      "metadata": {
        "id": "DNKPgwwts8ye"
      },
      "source": [
        "#### VarianceThreshold - kNN"
      ]
    },
    {
      "cell_type": "code",
      "metadata": {
        "colab": {
          "base_uri": "https://localhost:8080/"
        },
        "id": "h5hrbhDftSwg",
        "outputId": "e3a38564-542b-487a-c3e3-c6d02868668f"
      },
      "source": [
        "best_param = gridsearch(clf = KNeighborsClassifier(),\n",
        "                        selector = var_selector,\n",
        "                        selector_components = list(np.round(np.linspace(1e-3,1e-1,10),3)),\n",
        "                        n_neighbors_components = list(range(1,54,4)),\n",
        "                        scoring_metric = 'f1_macro')"
      ],
      "execution_count": null,
      "outputs": [
        {
          "output_type": "stream",
          "text": [
            "Best parameters for optimal estimator are: \u001b[1m{'clf__n_neighbors': 1, 'selector__threshold': 0.089}\u001b[0m\n",
            "Best mean cross validation score for optimal estimator is \u001b[1m67.17674362462593 %\n"
          ],
          "name": "stdout"
        }
      ]
    },
    {
      "cell_type": "markdown",
      "metadata": {
        "id": "N_HTW9LUs_PR"
      },
      "source": [
        "#### StandardScaler - PCA - kNN"
      ]
    },
    {
      "cell_type": "code",
      "metadata": {
        "id": "6uy5p7YXtXK_",
        "colab": {
          "base_uri": "https://localhost:8080/"
        },
        "outputId": "034bbe10-9594-4210-a0ff-fa8481ab67fc"
      },
      "source": [
        "best_param = gridsearch(clf = KNeighborsClassifier(),\n",
        "                        scaler = standard_scaler, \n",
        "                        dim_reduct = pca, \n",
        "                        dim_reduct_components = [10,20,30,40],\n",
        "                        n_neighbors_components = list(range(1,54,4)),\n",
        "                        scoring_metric = 'f1_macro')"
      ],
      "execution_count": null,
      "outputs": [
        {
          "output_type": "stream",
          "text": [
            "Best parameters for optimal estimator are: \u001b[1m{'clf__n_neighbors': 33, 'dim_reduct__n_components': 30}\u001b[0m\n",
            "Best mean cross validation score for optimal estimator is \u001b[1m85.84112115089823 %\n"
          ],
          "name": "stdout"
        }
      ]
    },
    {
      "cell_type": "markdown",
      "metadata": {
        "id": "QN7dC_07zuzf"
      },
      "source": [
        "##### Progressive search"
      ]
    },
    {
      "cell_type": "code",
      "metadata": {
        "id": "eIvgW9aA0xQ1",
        "colab": {
          "base_uri": "https://localhost:8080/"
        },
        "outputId": "958f3787-ebdf-4458-9eaf-112eab73c671"
      },
      "source": [
        "dim = best_param['dim_reduct__n_components']\n",
        "n = best_param['clf__n_neighbors']\n",
        "\n",
        "best_param = gridsearch(clf = KNeighborsClassifier(),\n",
        "                        scaler = standard_scaler, \n",
        "                        dim_reduct = pca, \n",
        "                        dim_reduct_components = [dim-6,dim-4,dim-2,dim,min(dim+2,46),min(dim+4,46),min(dim+6,46)],\n",
        "                        n_neighbors_components = list(dict.fromkeys([max(n-6,1),max(n-4,1),max(n-2,1),n,n+2,n+4,n+6])),\n",
        "                        scoring_metric = 'f1_macro')"
      ],
      "execution_count": null,
      "outputs": [
        {
          "output_type": "stream",
          "text": [
            "Best parameters for optimal estimator are: \u001b[1m{'clf__n_neighbors': 35, 'dim_reduct__n_components': 28}\u001b[0m\n",
            "Best mean cross validation score for optimal estimator is \u001b[1m86.25641714016447 %\n"
          ],
          "name": "stdout"
        }
      ]
    },
    {
      "cell_type": "markdown",
      "metadata": {
        "id": "_2Q-l0L1tBM7"
      },
      "source": [
        "#### MinMaxScaler - PCA - kNN"
      ]
    },
    {
      "cell_type": "code",
      "metadata": {
        "id": "gUvBWdowtZXi",
        "colab": {
          "base_uri": "https://localhost:8080/"
        },
        "outputId": "2a464411-6163-47b8-fc96-65cc6a6eb895"
      },
      "source": [
        "best_param = gridsearch(clf = KNeighborsClassifier(),\n",
        "                        scaler = min_max_scaler, \n",
        "                        dim_reduct = pca, \n",
        "                        dim_reduct_components = [10,20,30,40],\n",
        "                        n_neighbors_components = list(range(1,54,4)),\n",
        "                        scoring_metric = 'f1_macro')"
      ],
      "execution_count": null,
      "outputs": [
        {
          "output_type": "stream",
          "text": [
            "Best parameters for optimal estimator are: \u001b[1m{'clf__n_neighbors': 5, 'dim_reduct__n_components': 10}\u001b[0m\n",
            "Best mean cross validation score for optimal estimator is \u001b[1m87.99399923130797 %\n"
          ],
          "name": "stdout"
        }
      ]
    },
    {
      "cell_type": "markdown",
      "metadata": {
        "id": "RGW-5ePZzv92"
      },
      "source": [
        "##### Progressive search"
      ]
    },
    {
      "cell_type": "code",
      "metadata": {
        "id": "OjysVa3h0909",
        "colab": {
          "base_uri": "https://localhost:8080/"
        },
        "outputId": "d80908b9-c393-4fc5-9ef2-d84aa2e44e62"
      },
      "source": [
        "dim = best_param['dim_reduct__n_components']\n",
        "n = best_param['clf__n_neighbors']\n",
        "\n",
        "best_param = gridsearch(clf = KNeighborsClassifier(),\n",
        "                        scaler = min_max_scaler, \n",
        "                        dim_reduct = pca, \n",
        "                        dim_reduct_components = [dim-6,dim-4,dim-2,dim,min(dim+2,46),min(dim+4,46),min(dim+6,46)],\n",
        "                        n_neighbors_components = list(dict.fromkeys([max(n-6,1),max(n-4,1),max(n-2,1),n,n+2,n+4,n+6])),\n",
        "                        scoring_metric = 'f1_macro')"
      ],
      "execution_count": null,
      "outputs": [
        {
          "output_type": "stream",
          "text": [
            "Best parameters for optimal estimator are: \u001b[1m{'clf__n_neighbors': 5, 'dim_reduct__n_components': 10}\u001b[0m\n",
            "Best mean cross validation score for optimal estimator is \u001b[1m87.99399923130797 %\n"
          ],
          "name": "stdout"
        }
      ]
    },
    {
      "cell_type": "markdown",
      "metadata": {
        "id": "K18bpjRTtFQm"
      },
      "source": [
        "#### VarianceThreshold - StandardScaler - kNN"
      ]
    },
    {
      "cell_type": "code",
      "metadata": {
        "id": "FLzXPyH2tisl",
        "colab": {
          "base_uri": "https://localhost:8080/"
        },
        "outputId": "170a1f46-efdc-4d4c-c5f3-7a1a698f2879"
      },
      "source": [
        "best_param = gridsearch(clf = KNeighborsClassifier(),\n",
        "                        selector = var_selector,\n",
        "                        selector_components = list(np.round(np.linspace(1e-3,1e-1,10),3)),\n",
        "                        scaler = standard_scaler, \n",
        "                        n_neighbors_components = list(range(1,54,4)),\n",
        "                        scoring_metric = 'f1_macro')"
      ],
      "execution_count": null,
      "outputs": [
        {
          "output_type": "stream",
          "text": [
            "Best parameters for optimal estimator are: \u001b[1m{'clf__n_neighbors': 41, 'selector__threshold': 0.067}\u001b[0m\n",
            "Best mean cross validation score for optimal estimator is \u001b[1m87.28904666698736 %\n"
          ],
          "name": "stdout"
        }
      ]
    },
    {
      "cell_type": "markdown",
      "metadata": {
        "id": "EU86qqOJzx--"
      },
      "source": [
        "##### Progressive search"
      ]
    },
    {
      "cell_type": "code",
      "metadata": {
        "id": "a-UcdFSgNnQY",
        "colab": {
          "base_uri": "https://localhost:8080/"
        },
        "outputId": "ba4d1462-1534-48ad-cc3f-a99544d629b9"
      },
      "source": [
        "thresh = best_param['selector__threshold']\n",
        "n = best_param['clf__n_neighbors']\n",
        "\n",
        "best_param = gridsearch(clf = KNeighborsClassifier(),\n",
        "                        selector = var_selector,\n",
        "                        selector_components = list(np.round(np.arange(max(thresh-10*thresh,0.004),thresh+10*thresh+thresh,thresh),3)),\n",
        "                        scaler = standard_scaler, \n",
        "                        n_neighbors_components = list(dict.fromkeys([max(n-6,1),max(n-4,1),max(n-2,1),n,n+2,n+4,n+6])),\n",
        "                        scoring_metric = 'f1_macro')"
      ],
      "execution_count": null,
      "outputs": [
        {
          "output_type": "stream",
          "text": [
            "Best parameters for optimal estimator are: \u001b[1m{'clf__n_neighbors': 47, 'selector__threshold': 0.071}\u001b[0m\n",
            "Best mean cross validation score for optimal estimator is \u001b[1m86.61014115359824 %\n"
          ],
          "name": "stdout"
        }
      ]
    },
    {
      "cell_type": "markdown",
      "metadata": {
        "id": "CNHt2GGWtHvZ"
      },
      "source": [
        "#### MinMaxScaler- VarianceThreshold  - kNN"
      ]
    },
    {
      "cell_type": "code",
      "metadata": {
        "id": "mFTpwAyHtknG",
        "colab": {
          "base_uri": "https://localhost:8080/"
        },
        "outputId": "2da79da5-aa64-4832-a410-54f9ca7f4ad2"
      },
      "source": [
        "best_param = gridsearch(clf = KNeighborsClassifier(),\n",
        "                        selector = var_selector,\n",
        "                        selector_components = list(np.round(np.linspace(1e-3,1e-1,10),3)),\n",
        "                        scaler = min_max_scaler, \n",
        "                        n_neighbors_components = list(range(1,54,4)),\n",
        "                        scoring_metric = 'f1_macro')"
      ],
      "execution_count": null,
      "outputs": [
        {
          "output_type": "stream",
          "text": [
            "Best parameters for optimal estimator are: \u001b[1m{'clf__n_neighbors': 9, 'selector__threshold': 0.001}\u001b[0m\n",
            "Best mean cross validation score for optimal estimator is \u001b[1m87.39527187853884 %\n"
          ],
          "name": "stdout"
        }
      ]
    },
    {
      "cell_type": "markdown",
      "metadata": {
        "id": "3IU2L_VLzzOO"
      },
      "source": [
        "##### Progressive search"
      ]
    },
    {
      "cell_type": "code",
      "metadata": {
        "id": "qgLXMb_y1NoN",
        "colab": {
          "base_uri": "https://localhost:8080/"
        },
        "outputId": "bc0d4103-bde8-4eaa-e382-85f8c4151de2"
      },
      "source": [
        "thresh = best_param['selector__threshold']\n",
        "n = best_param['clf__n_neighbors']\n",
        "\n",
        "best_param = gridsearch(clf = KNeighborsClassifier(),\n",
        "                        selector = var_selector,\n",
        "                        selector_components = list(np.round(np.arange(max(thresh-10*thresh,0.004),thresh+10*thresh+thresh,thresh),3)),\n",
        "                        scaler = min_max_scaler, \n",
        "                        n_neighbors_components = list(dict.fromkeys([max(n-6,1),max(n-4,1),max(n-2,1),n,n+2,n+4,n+6])),\n",
        "                        scoring_metric = 'f1_macro')"
      ],
      "execution_count": null,
      "outputs": [
        {
          "output_type": "stream",
          "text": [
            "Best parameters for optimal estimator are: \u001b[1m{'clf__n_neighbors': 7, 'selector__threshold': 0.008}\u001b[0m\n",
            "Best mean cross validation score for optimal estimator is \u001b[1m87.7720323260855 %\n"
          ],
          "name": "stdout"
        }
      ]
    },
    {
      "cell_type": "markdown",
      "metadata": {
        "id": "UaXu5j7PtJzf"
      },
      "source": [
        "#### VarianceThreshold - StandardScaler - PCA - kNN"
      ]
    },
    {
      "cell_type": "code",
      "metadata": {
        "id": "xoL8GBNGtmWp",
        "colab": {
          "base_uri": "https://localhost:8080/"
        },
        "outputId": "46c274cc-e67c-4ac0-a3a6-b8d7ba7cdb55"
      },
      "source": [
        "best_param = gridsearch(clf = KNeighborsClassifier(),\n",
        "                        selector = var_selector,\n",
        "                        selector_components = list(np.round(np.linspace(1e-3,1e-1,10),3)),\n",
        "                        scaler = standard_scaler, \n",
        "                        dim_reduct = pca, \n",
        "                        dim_reduct_components = [10,20,30,40],\n",
        "                        n_neighbors_components = list(range(1,54,4)),\n",
        "                        scoring_metric = 'f1_macro')"
      ],
      "execution_count": null,
      "outputs": [
        {
          "output_type": "stream",
          "text": [
            "Best parameters for optimal estimator are: \u001b[1m{'clf__n_neighbors': 21, 'dim_reduct__n_components': 20, 'selector__threshold': 0.067}\u001b[0m\n",
            "Best mean cross validation score for optimal estimator is \u001b[1m87.32271887529663 %\n"
          ],
          "name": "stdout"
        }
      ]
    },
    {
      "cell_type": "markdown",
      "metadata": {
        "id": "IvOH3i7Iz0U-"
      },
      "source": [
        "##### Progressive search"
      ]
    },
    {
      "cell_type": "code",
      "metadata": {
        "id": "N0tvc4Ks1GkN",
        "colab": {
          "base_uri": "https://localhost:8080/"
        },
        "outputId": "1809a585-88f7-4166-e7d0-662cfdf4e014"
      },
      "source": [
        "thresh = best_param['selector__threshold']\n",
        "dim = best_param['dim_reduct__n_components']\n",
        "n = best_param['clf__n_neighbors']\n",
        "\n",
        "best_param = gridsearch(clf = KNeighborsClassifier(),\n",
        "                        selector = var_selector,\n",
        "                        selector_components = list(np.round(np.arange(max(thresh-10*thresh,0.004),thresh+10*thresh+thresh,thresh),3)),\n",
        "                        scaler = standard_scaler, \n",
        "                        dim_reduct = pca, \n",
        "                        dim_reduct_components = [dim-6,dim-4,dim-2,dim,min(dim+2,46),min(dim+4,46),min(dim+6,46)],\n",
        "                        n_neighbors_components = list(dict.fromkeys([max(n-6,1),max(n-4,1),max(n-2,1),n,n+2,n+4,n+6])),\n",
        "                        scoring_metric = 'f1_macro')"
      ],
      "execution_count": null,
      "outputs": [
        {
          "output_type": "stream",
          "text": [
            "Best parameters for optimal estimator are: \u001b[1m{'clf__n_neighbors': 23, 'dim_reduct__n_components': 18, 'selector__threshold': 0.071}\u001b[0m\n",
            "Best mean cross validation score for optimal estimator is \u001b[1m86.71824047262774 %\n"
          ],
          "name": "stdout"
        }
      ]
    },
    {
      "cell_type": "markdown",
      "metadata": {
        "id": "fdsR-K4PtLWU"
      },
      "source": [
        "#### MinMaxScaler- VarianceThreshold - PCA - kNN"
      ]
    },
    {
      "cell_type": "code",
      "metadata": {
        "id": "gwW0n29UtoAB",
        "colab": {
          "base_uri": "https://localhost:8080/"
        },
        "outputId": "15bfdc7a-2ad3-440c-9d1e-2fa2ad6f822d"
      },
      "source": [
        "best_param = gridsearch(clf = KNeighborsClassifier(),\n",
        "                        selector = var_selector,\n",
        "                        selector_components = list(np.round(np.linspace(1e-3,1e-1,10),3)),\n",
        "                        scaler = min_max_scaler, \n",
        "                        dim_reduct = pca, \n",
        "                        dim_reduct_components = [10,20,30,40],\n",
        "                        n_neighbors_components = list(range(1,54,4)),\n",
        "                        scoring_metric = 'f1_macro')"
      ],
      "execution_count": null,
      "outputs": [
        {
          "output_type": "stream",
          "text": [
            "Best parameters for optimal estimator are: \u001b[1m{'clf__n_neighbors': 5, 'dim_reduct__n_components': 10, 'selector__threshold': 0.001}\u001b[0m\n",
            "Best mean cross validation score for optimal estimator is \u001b[1m87.99399923130797 %\n"
          ],
          "name": "stdout"
        }
      ]
    },
    {
      "cell_type": "markdown",
      "metadata": {
        "id": "hFllJTanz1nr"
      },
      "source": [
        "##### Progressive search"
      ]
    },
    {
      "cell_type": "code",
      "metadata": {
        "id": "CZGrSuUrswEr",
        "colab": {
          "base_uri": "https://localhost:8080/"
        },
        "outputId": "6b1a0175-8010-42e1-aac0-fba6c8b491c5"
      },
      "source": [
        "thresh = best_param['selector__threshold']\n",
        "dim = best_param['dim_reduct__n_components']\n",
        "n = best_param['clf__n_neighbors']\n",
        "\n",
        "best_param = gridsearch(clf = KNeighborsClassifier(),\n",
        "                        selector = var_selector,\n",
        "                        selector_components = list(np.round(np.arange(max(thresh-10*thresh,0.004),thresh+10*thresh+thresh,thresh),3)),\n",
        "                        scaler = min_max_scaler, \n",
        "                        dim_reduct = pca, \n",
        "                        dim_reduct_components = [dim-6,dim-4,dim-2,dim,min(dim+2,46),min(dim+4,46),min(dim+6,46)],\n",
        "                        n_neighbors_components = list(dict.fromkeys([max(n-6,1),max(n-4,1),max(n-2,1),n,n+2,n+4,n+6])),\n",
        "                        scoring_metric = 'f1_macro')"
      ],
      "execution_count": null,
      "outputs": [
        {
          "output_type": "stream",
          "text": [
            "Best parameters for optimal estimator are: \u001b[1m{'clf__n_neighbors': 5, 'dim_reduct__n_components': 10, 'selector__threshold': 0.004}\u001b[0m\n",
            "Best mean cross validation score for optimal estimator is \u001b[1m87.99399923130797 %\n"
          ],
          "name": "stdout"
        }
      ]
    },
    {
      "cell_type": "markdown",
      "metadata": {
        "id": "PidEjXrmIgQr"
      },
      "source": [
        "#### Επιλογή βέλτιστου ταξινομητή"
      ]
    },
    {
      "cell_type": "code",
      "metadata": {
        "id": "mscdnExrIfhX",
        "colab": {
          "base_uri": "https://localhost:8080/"
        },
        "outputId": "69a5acfc-e83d-47e7-9202-d89ffd343120"
      },
      "source": [
        "best_f1_macro = max(f1_scores.values())          \n",
        "best_knn_f1_macro_pipelines = [pipe for pipe,score in f1_scores.items() if score == best_f1_macro]                          # getting all pipelines containing the maximum score\n",
        "print(\"The best pipeline/pipelines with \\033[1mf1_macro average {}% \\033[0mis/are:\\033[1m\\n\".format(best_f1_macro)) \n",
        "for pipeline in best_knn_f1_macro_pipelines:\n",
        "    best_knn_f1_macro_parameters.append(best_parameters[pipeline])\n",
        "    print(pipeline,\"\\033[0mwith parameters:\\033[1m\",best_parameters[pipeline])"
      ],
      "execution_count": null,
      "outputs": [
        {
          "output_type": "stream",
          "text": [
            "The best pipeline/pipelines with \u001b[1mf1_macro average 87.99399923130797% \u001b[0mis/are:\u001b[1m\n",
            "\n",
            "MinMaxScaler-PCA-KNeighborsClassifier \u001b[0mwith parameters:\u001b[1m {'clf__n_neighbors': 5, 'dim_reduct__n_components': 10}\n",
            "MinMaxScaler-VarianceThreshold-PCA-KNeighborsClassifier \u001b[0mwith parameters:\u001b[1m {'clf__n_neighbors': 5, 'dim_reduct__n_components': 10, 'selector__threshold': 0.004}\n"
          ],
          "name": "stdout"
        }
      ]
    },
    {
      "cell_type": "markdown",
      "metadata": {
        "id": "q1-GNFzUEu7Z"
      },
      "source": [
        "# Αξιολόγηση βέλτιστων ταξινομητών"
      ]
    },
    {
      "cell_type": "markdown",
      "metadata": {
        "id": "Ef05CwqbsCdZ"
      },
      "source": [
        "Για την αξιολόγηση των βέλτιστων ταξινομητών ορίζουμε την συνάρτηση **evaluate_optimal_clf** η οποία δέχεται για ορίσματα τον ταξινομητή και δύο λίστες με τα καλύτερα pipelines και τις τιμές των υπερπαραμέτρων τους αντίστοιχα (για μία συγκεκριμένη μετρική απόδοσης). Για κάθε βέλτιστο pipeline βρίσκουμε τους μετασχηματιστές και τον ταξινομητή που το αποτελούν. Στη συνέχεια, ορίζουμε κάθε έναν από αυτούς δίνοντας σαν παραμέτρους τις βέλτιστες τιμές που υπολογίσαμε προηγουμένως και αποθηκεύσαμε στην λίστα **best_clf_parameters**. Έπειτα, εφαρμόζουμε διαδοχικά στα δεδομένα μας τους παραπάνω μετασχηματισμούς με την σειρά με την οποία εμφανίζονται στο pipe και εκπαιδεύουμε στα μετασχηματισμένα (αν υπάρχει κάποιο transformation) train δεδομένα τον ταξινομητή με τη μέθοδο **fit**. Σημειώνουμε πως η σειρά των μετασχηματιστών είναι πάντα της μορφής (επιλογή χαρακτηριστικών, κανονικοποίηση, εξαγωγή χαρακτηριστικών, ταξινομητής) εκτός της περίπτωσης εφαρμογής variance threshold και min max scaler όπου πρέπει πρώτα να γίνει κανονικοποίηση και μετά επιλογή χαρακτηριστικών. Με την μέθοδο **predict** παράγουμε τις προβλέψεις για τα (μετασχηματισμένα) δεδομένα ελέγχου, ενώ με την **score** υπολογίζουμε το accuracy του βελτιστοποιημένου πλέον ταξινομητή.\n",
        "Για το τελικό fit του ταξινομητή στο σύνολο του training set και για το predict στο test set φροντίζουμε ώστε να αποθηκεύουμε στα λεξικά **fit_times** και **pred_times** τους αντίστοιχους χρόνους εκτέλεσης.\n",
        "\n",
        "\n",
        "  "
      ]
    },
    {
      "cell_type": "code",
      "metadata": {
        "id": "K61_QrqU7OVm"
      },
      "source": [
        "def evaluate_optimal_clf(clf,best_clf_pipelines, best_clf_parameters):\n",
        "    for i, pipe in enumerate(best_clf_pipelines):\n",
        "        pipeline = list(pipe.split(\"-\"))\n",
        "        must_reverse = False\n",
        "        if 'MinMaxScaler' in pipeline:\n",
        "            scaler = MinMaxScaler()\n",
        "            X_train_scaled = scaler.fit_transform(X_train)\n",
        "            X_test_scaled = scaler.transform(X_test)\n",
        "        elif 'StandardScaler' in pipeline:\n",
        "            scaler = StandardScaler()\n",
        "            if 'VarianceThreshold' in pipeline:\n",
        "                must_reverse = True\n",
        "            else: \n",
        "                X_train_scaled = scaler.fit_transform(X_train)\n",
        "                X_test_scaled = scaler.transform(X_test)\n",
        "        else: \n",
        "            X_train_scaled = X_train\n",
        "            X_test_scaled = X_test\n",
        "\n",
        "        if 'VarianceThreshold' in pipeline:\n",
        "            selector = VarianceThreshold(threshold=best_clf_parameters[i]['selector__threshold'])\n",
        "            if not must_reverse: # MinMaxScaler or no Scaler\n",
        "              X_train_var = selector.fit_transform(X_train_scaled)\n",
        "              X_test_var = selector.transform(X_test_scaled)\n",
        "            else: # StandardScaler\n",
        "              X_train_var = selector.fit_transform(X_train)\n",
        "              X_test_var = selector.transform(X_test)\n",
        "              X_train_var = scaler.fit_transform(X_train_var)\n",
        "              X_test_var = scaler.transform(X_test_var)\n",
        "        else: \n",
        "            X_train_var = X_train_scaled\n",
        "            X_test_var = X_test_scaled\n",
        "\n",
        "        if 'PCA' in pipeline:\n",
        "            dim_reduct = PCA(n_components = best_clf_parameters[i]['dim_reduct__n_components'])\n",
        "            X_train_red = dim_reduct.fit_transform(X_train_var)\n",
        "            X_test_red = dim_reduct.transform(X_test_var)\n",
        "        else: \n",
        "            X_train_red = X_train_var\n",
        "            X_test_red = X_test_var\n",
        "\n",
        "        if clf == \"KNeighborsClassifier\":\n",
        "            clf_ = KNeighborsClassifier(n_neighbors = best_clf_parameters[i]['clf__n_neighbors'])\n",
        "        elif clf == \"GaussianNB\":\n",
        "            clf_ = GaussianNB()\n",
        "        else: raise TypeError(\"Wrong Classifier\")\n",
        "\n",
        "        start_time = time.time()\n",
        "        clf_.fit(X_train_red, y_train)\n",
        "        fit_times[clf] = time.time() - start_time\n",
        "\n",
        "        start_time = time.time()\n",
        "        predictions = clf_.predict(X_test_red)\n",
        "        pred_times[clf] = time.time() - start_time\n",
        "        accuracy = clf_.score(X_test_red, y_test)\n",
        "        return predictions, accuracy"
      ],
      "execution_count": null,
      "outputs": []
    },
    {
      "cell_type": "markdown",
      "metadata": {
        "id": "vI8cPEP28lkQ"
      },
      "source": [
        "## Αξιολόγηση βέλτιστων ταξινομητών που προέκυψαν με βάση την μετρική απόδοσης f1 micro"
      ]
    },
    {
      "cell_type": "markdown",
      "metadata": {
        "id": "g85HPtg5-rHd"
      },
      "source": [
        "Προτού ορίσουμε τα μοντέλα μας, αρχικοποιούμε πέντε λεξικά, τα **accuracies_opt**, **f1_micros_opt**, **f1_macros_opt**, **fit_times** και **pred_times** τα οποία έχουν για κλειδιά τα ονόματα των ταξινομητών που μελετάμε και για τιμές την ακρίβεια, τις μετρικές f1-micro / macro average και τους τελικούς χρόνους fit και predict αντίστοιχα."
      ]
    },
    {
      "cell_type": "code",
      "metadata": {
        "id": "UU3FScXYBxwt"
      },
      "source": [
        "accuracies_opt = {}\n",
        "f1_micros_opt = {}\n",
        "f1_macros_opt = {}\n",
        "fit_times = {}\n",
        "pred_times = {}"
      ],
      "execution_count": null,
      "outputs": []
    },
    {
      "cell_type": "markdown",
      "metadata": {
        "id": "3nause4W1Qmf"
      },
      "source": [
        "### 1) **Dummy Classifier**"
      ]
    },
    {
      "cell_type": "markdown",
      "metadata": {
        "id": "kx8oUekc2Cm7"
      },
      "source": [
        "#### i) Uniform"
      ]
    },
    {
      "cell_type": "code",
      "metadata": {
        "id": "wOrxfAgP1TtB",
        "colab": {
          "base_uri": "https://localhost:8080/"
        },
        "outputId": "33b6ca6f-e720-4249-a723-d07e0896aecf"
      },
      "source": [
        "dc_uniform = DummyClassifier(strategy=\"uniform\")\n",
        "start_time = time.time()\n",
        "dc_uniform.fit(X_train, y_train)\n",
        "fit_times['uniform (random)'] = time.time() - start_time\n",
        "start_time = time.time()\n",
        "predictions = dc_uniform.predict(X_test)\n",
        "pred_times['uniform (random)'] = time.time() - start_time\n",
        "accuracies_opt['uniform (random)'] = dc_uniform.score(X_test,y_test)\n",
        "f1_micros_opt['uniform (random)'] = precision_recall_fscore_support(y_test, predictions, average='micro')[2]\n",
        "f1_macros_opt['uniform (random)'] = precision_recall_fscore_support(y_test, predictions, average='macro')[2]\n",
        "print(\"F1-micro average score is: \\033[1m{} %\\033[0m\".format(f1_micros_opt['uniform (random)']*100))\n",
        "print(\"F1-macro average score is: \\033[1m{} %\\033[0m\".format(f1_macros_opt['uniform (random)']*100))"
      ],
      "execution_count": null,
      "outputs": [
        {
          "output_type": "stream",
          "text": [
            "F1-micro average score is: \u001b[1m58.01526717557252 %\u001b[0m\n",
            "F1-macro average score is: \u001b[1m57.92700729927007 %\u001b[0m\n"
          ],
          "name": "stdout"
        }
      ]
    },
    {
      "cell_type": "code",
      "metadata": {
        "id": "tDB6t_TG1otE",
        "colab": {
          "base_uri": "https://localhost:8080/",
          "height": 297
        },
        "outputId": "9bae40c2-1d61-4e88-a924-a6b96760c791"
      },
      "source": [
        "cnf_matrix = confusion_matrix(y_test, predictions)\n",
        "custom_plot_confusion_matrix(cnf_matrix, [0,1])"
      ],
      "execution_count": null,
      "outputs": [
        {
          "output_type": "display_data",
          "data": {
            "image/png": "[encoded data removed]",
            "text/plain": [
              "<Figure size 432x288 with 2 Axes>"
            ]
          },
          "metadata": {
            "tags": [],
            "needs_background": "light"
          }
        }
      ]
    },
    {
      "cell_type": "code",
      "metadata": {
        "colab": {
          "base_uri": "https://localhost:8080/"
        },
        "id": "-5FT9LaME7Ws",
        "outputId": "0fe26e35-5072-471a-9c76-c4896ca17858"
      },
      "source": [
        "print(classification_report(y_test, predictions, target_names=['0','1']))"
      ],
      "execution_count": null,
      "outputs": [
        {
          "output_type": "stream",
          "text": [
            "              precision    recall  f1-score   support\n",
            "\n",
            "           0       0.54      0.58      0.56        60\n",
            "           1       0.62      0.58      0.60        71\n",
            "\n",
            "    accuracy                           0.58       131\n",
            "   macro avg       0.58      0.58      0.58       131\n",
            "weighted avg       0.58      0.58      0.58       131\n",
            "\n"
          ],
          "name": "stdout"
        }
      ]
    },
    {
      "cell_type": "markdown",
      "metadata": {
        "id": "y82nZn2L2IOx"
      },
      "source": [
        "#### ii) Constant 0"
      ]
    },
    {
      "cell_type": "code",
      "metadata": {
        "id": "gd_EmtEd12hn",
        "colab": {
          "base_uri": "https://localhost:8080/"
        },
        "outputId": "14376cf9-6694-48c1-bd83-12f496fc6d1f"
      },
      "source": [
        "dc_constant_0 = DummyClassifier(strategy=\"constant\", constant=0)\n",
        "start_time = time.time()\n",
        "dc_constant_0.fit(X_train, y_train)\n",
        "fit_times['Constant 0'] = time.time() - start_time\n",
        "start_time = time.time()\n",
        "predictions = dc_constant_0.predict(X_test)\n",
        "pred_times['Constant 0'] = time.time() - start_time\n",
        "accuracies_opt['Constant 0'] = dc_constant_0.score(X_test,y_test)\n",
        "f1_micros_opt['Constant 0'] = precision_recall_fscore_support(y_test, predictions, average='micro')[2]\n",
        "f1_macros_opt['Constant 0'] = precision_recall_fscore_support(y_test, predictions, average='macro')[2]\n",
        "print(\"F1-micro average score is: \\033[1m{} %\\033[0m\".format(f1_micros_opt['Constant 0']*100))\n",
        "print(\"F1-macro average score is: \\033[1m{} %\\033[0m\".format(f1_macros_opt['Constant 0']*100))"
      ],
      "execution_count": null,
      "outputs": [
        {
          "output_type": "stream",
          "text": [
            "F1-micro average score is: \u001b[1m45.80152671755725 %\u001b[0m\n",
            "F1-macro average score is: \u001b[1m31.413612565445025 %\u001b[0m\n"
          ],
          "name": "stdout"
        }
      ]
    },
    {
      "cell_type": "code",
      "metadata": {
        "id": "DSxHzUur1_0K",
        "colab": {
          "base_uri": "https://localhost:8080/",
          "height": 297
        },
        "outputId": "87183b06-f665-4534-a987-643b97416965"
      },
      "source": [
        "cnf_matrix = confusion_matrix(y_test, predictions)\n",
        "custom_plot_confusion_matrix(cnf_matrix, [0,1])"
      ],
      "execution_count": null,
      "outputs": [
        {
          "output_type": "display_data",
          "data": {
            "image/png": "[encoded data removed]",
            "text/plain": [
              "<Figure size 432x288 with 2 Axes>"
            ]
          },
          "metadata": {
            "tags": [],
            "needs_background": "light"
          }
        }
      ]
    },
    {
      "cell_type": "code",
      "metadata": {
        "colab": {
          "base_uri": "https://localhost:8080/"
        },
        "id": "xpLmJ5ZkE8zF",
        "outputId": "ec6ffac6-0dff-416c-9adb-3afe90fc5223"
      },
      "source": [
        "print(classification_report(y_test, predictions, target_names=['0','1']))"
      ],
      "execution_count": null,
      "outputs": [
        {
          "output_type": "stream",
          "text": [
            "              precision    recall  f1-score   support\n",
            "\n",
            "           0       0.46      1.00      0.63        60\n",
            "           1       0.00      0.00      0.00        71\n",
            "\n",
            "    accuracy                           0.46       131\n",
            "   macro avg       0.23      0.50      0.31       131\n",
            "weighted avg       0.21      0.46      0.29       131\n",
            "\n"
          ],
          "name": "stdout"
        }
      ]
    },
    {
      "cell_type": "markdown",
      "metadata": {
        "id": "gt9h-A0I2Klh"
      },
      "source": [
        "#### iii) Constant 1"
      ]
    },
    {
      "cell_type": "code",
      "metadata": {
        "id": "HijY7TnE2WP1",
        "colab": {
          "base_uri": "https://localhost:8080/"
        },
        "outputId": "cacf7fad-c467-49b5-d882-ea927d2b6855"
      },
      "source": [
        "dc_constant_1 = DummyClassifier(strategy=\"constant\", constant=1)\n",
        "start_time = time.time()\n",
        "dc_constant_1.fit(X_train, y_train)\n",
        "fit_times['Constant 1'] = time.time() - start_time\n",
        "start_time = time.time()\n",
        "predictions = dc_constant_1.predict(X_test)\n",
        "pred_times['Constant 1'] = time.time() - start_time\n",
        "accuracies_opt['Constant 1'] = dc_constant_1.score(X_test,y_test)\n",
        "f1_micros_opt['Constant 1'] = precision_recall_fscore_support(y_test, predictions, average='micro')[2]\n",
        "f1_macros_opt['Constant 1'] = precision_recall_fscore_support(y_test, predictions, average='macro')[2]\n",
        "print(\"F1-micro average score is: \\033[1m{} %\\033[0m\".format(f1_micros_opt['Constant 1']*100))\n",
        "print(\"F1-macro average score is: \\033[1m{} %\\033[0m\".format(f1_macros_opt['Constant 1']*100))"
      ],
      "execution_count": null,
      "outputs": [
        {
          "output_type": "stream",
          "text": [
            "F1-micro average score is: \u001b[1m54.19847328244275 %\u001b[0m\n",
            "F1-macro average score is: \u001b[1m35.148514851485146 %\u001b[0m\n"
          ],
          "name": "stdout"
        }
      ]
    },
    {
      "cell_type": "code",
      "metadata": {
        "id": "0W3x0pQF2aGR",
        "colab": {
          "base_uri": "https://localhost:8080/",
          "height": 297
        },
        "outputId": "d243ebbf-50f9-4a9b-b78f-47fe549bff48"
      },
      "source": [
        "cnf_matrix = confusion_matrix(y_test, predictions)\n",
        "custom_plot_confusion_matrix(cnf_matrix, [0,1])"
      ],
      "execution_count": null,
      "outputs": [
        {
          "output_type": "display_data",
          "data": {
            "image/png": "[encoded data removed]",
            "text/plain": [
              "<Figure size 432x288 with 2 Axes>"
            ]
          },
          "metadata": {
            "tags": [],
            "needs_background": "light"
          }
        }
      ]
    },
    {
      "cell_type": "code",
      "metadata": {
        "colab": {
          "base_uri": "https://localhost:8080/"
        },
        "id": "OxHszQsxE-KN",
        "outputId": "32e5f02b-3c7b-4aa7-f3fd-21926f6f7130"
      },
      "source": [
        "print(classification_report(y_test, predictions, target_names=['0','1']))"
      ],
      "execution_count": null,
      "outputs": [
        {
          "output_type": "stream",
          "text": [
            "              precision    recall  f1-score   support\n",
            "\n",
            "           0       0.00      0.00      0.00        60\n",
            "           1       0.54      1.00      0.70        71\n",
            "\n",
            "    accuracy                           0.54       131\n",
            "   macro avg       0.27      0.50      0.35       131\n",
            "weighted avg       0.29      0.54      0.38       131\n",
            "\n"
          ],
          "name": "stdout"
        }
      ]
    },
    {
      "cell_type": "markdown",
      "metadata": {
        "id": "2u66_vof2hOI"
      },
      "source": [
        "#### iv) Most frequent"
      ]
    },
    {
      "cell_type": "code",
      "metadata": {
        "id": "Kx7DyG1D2ldE",
        "colab": {
          "base_uri": "https://localhost:8080/"
        },
        "outputId": "78883528-ffa1-4974-973e-5976e8816c52"
      },
      "source": [
        "dc_most_frequent = DummyClassifier(strategy=\"most_frequent\")\n",
        "start_time = time.time()\n",
        "dc_most_frequent.fit(X_train, y_train)\n",
        "fit_times['Most frequent label'] = time.time() - start_time\n",
        "start_time = time.time()\n",
        "predictions = dc_most_frequent.predict(X_test)\n",
        "pred_times['Most frequent label'] = time.time() - start_time\n",
        "accuracies_opt['Most frequent label'] = dc_most_frequent.score(X_test,y_test)\n",
        "f1_micros_opt['Most frequent label'] = precision_recall_fscore_support(y_test, predictions, average='micro')[2]\n",
        "f1_macros_opt['Most frequent label'] = precision_recall_fscore_support(y_test, predictions, average='macro')[2]\n",
        "print(\"F1-micro average score is: \\033[1m{} %\\033[0m\".format(f1_micros_opt['Most frequent label']*100))\n",
        "print(\"F1-macro average score is: \\033[1m{} %\\033[0m\".format(f1_macros_opt['Most frequent label']*100))"
      ],
      "execution_count": null,
      "outputs": [
        {
          "output_type": "stream",
          "text": [
            "F1-micro average score is: \u001b[1m54.19847328244275 %\u001b[0m\n",
            "F1-macro average score is: \u001b[1m35.148514851485146 %\u001b[0m\n"
          ],
          "name": "stdout"
        }
      ]
    },
    {
      "cell_type": "code",
      "metadata": {
        "id": "Q9fHjFiR2siV",
        "colab": {
          "base_uri": "https://localhost:8080/",
          "height": 297
        },
        "outputId": "0fda1ebb-e3d5-4d12-d914-10e102de6a3e"
      },
      "source": [
        "cnf_matrix = confusion_matrix(y_test, predictions)\n",
        "custom_plot_confusion_matrix(cnf_matrix, [0,1])"
      ],
      "execution_count": null,
      "outputs": [
        {
          "output_type": "display_data",
          "data": {
            "image/png": "[encoded data removed]",
            "text/plain": [
              "<Figure size 432x288 with 2 Axes>"
            ]
          },
          "metadata": {
            "tags": [],
            "needs_background": "light"
          }
        }
      ]
    },
    {
      "cell_type": "code",
      "metadata": {
        "colab": {
          "base_uri": "https://localhost:8080/"
        },
        "id": "w0Br6D4yE_Dm",
        "outputId": "fdb0035b-5733-49de-debe-c8c3219ef68c"
      },
      "source": [
        "print(classification_report(y_test, predictions, target_names=['0','1']))"
      ],
      "execution_count": null,
      "outputs": [
        {
          "output_type": "stream",
          "text": [
            "              precision    recall  f1-score   support\n",
            "\n",
            "           0       0.00      0.00      0.00        60\n",
            "           1       0.54      1.00      0.70        71\n",
            "\n",
            "    accuracy                           0.54       131\n",
            "   macro avg       0.27      0.50      0.35       131\n",
            "weighted avg       0.29      0.54      0.38       131\n",
            "\n"
          ],
          "name": "stdout"
        }
      ]
    },
    {
      "cell_type": "markdown",
      "metadata": {
        "id": "m0EBgzAY22ND"
      },
      "source": [
        "#### v) Stratified"
      ]
    },
    {
      "cell_type": "code",
      "metadata": {
        "id": "es_hUbND25hh",
        "colab": {
          "base_uri": "https://localhost:8080/"
        },
        "outputId": "edfc4c80-9fbe-4859-f70c-77931b073499"
      },
      "source": [
        "dc_stratified = DummyClassifier(strategy=\"stratified\")\n",
        "start_time = time.time()\n",
        "dc_stratified.fit(X_train, y_train)\n",
        "fit_times['Stratified'] = time.time() - start_time\n",
        "start_time = time.time()\n",
        "predictions = dc_stratified.predict(X_test)\n",
        "pred_times['Stratified'] = time.time() - start_time\n",
        "accuracies_opt['Stratified'] = dc_stratified.score(X_test,y_test)\n",
        "f1_micros_opt['Stratified'] = precision_recall_fscore_support(y_test, predictions, average='micro')[2]\n",
        "f1_macros_opt['Stratified'] = precision_recall_fscore_support(y_test, predictions, average='macro')[2]\n",
        "print(\"F1-micro average score is: \\033[1m{} %\\033[0m\".format(f1_micros_opt['Stratified']*100))\n",
        "print(\"F1-macro average score is: \\033[1m{} %\\033[0m\".format(f1_macros_opt['Stratified']*100))"
      ],
      "execution_count": null,
      "outputs": [
        {
          "output_type": "stream",
          "text": [
            "F1-micro average score is: \u001b[1m49.61832061068702 %\u001b[0m\n",
            "F1-macro average score is: \u001b[1m49.11723163841808 %\u001b[0m\n"
          ],
          "name": "stdout"
        }
      ]
    },
    {
      "cell_type": "code",
      "metadata": {
        "id": "1nCd9ivf25vz",
        "colab": {
          "base_uri": "https://localhost:8080/",
          "height": 297
        },
        "outputId": "9346d778-b0b8-438a-e92a-1ccc5567f491"
      },
      "source": [
        "cnf_matrix = confusion_matrix(y_test, predictions)\n",
        "custom_plot_confusion_matrix(cnf_matrix, [0,1])"
      ],
      "execution_count": null,
      "outputs": [
        {
          "output_type": "display_data",
          "data": {
            "image/png": "[encoded data removed]",
            "text/plain": [
              "<Figure size 432x288 with 2 Axes>"
            ]
          },
          "metadata": {
            "tags": [],
            "needs_background": "light"
          }
        }
      ]
    },
    {
      "cell_type": "code",
      "metadata": {
        "colab": {
          "base_uri": "https://localhost:8080/"
        },
        "id": "bL-m2tezFAG-",
        "outputId": "5c253f8c-a220-4a95-8275-707a6d7e0c34"
      },
      "source": [
        "print(classification_report(y_test, predictions, target_names=['0','1']))"
      ],
      "execution_count": null,
      "outputs": [
        {
          "output_type": "stream",
          "text": [
            "              precision    recall  f1-score   support\n",
            "\n",
            "           0       0.45      0.43      0.44        60\n",
            "           1       0.53      0.55      0.54        71\n",
            "\n",
            "    accuracy                           0.50       131\n",
            "   macro avg       0.49      0.49      0.49       131\n",
            "weighted avg       0.49      0.50      0.50       131\n",
            "\n"
          ],
          "name": "stdout"
        }
      ]
    },
    {
      "cell_type": "markdown",
      "metadata": {
        "id": "jCigwLy98kqn"
      },
      "source": [
        "### 2) **Gaussian Naive Bayes Classifier**"
      ]
    },
    {
      "cell_type": "code",
      "metadata": {
        "id": "3yiWSYjZ8Pei",
        "colab": {
          "base_uri": "https://localhost:8080/"
        },
        "outputId": "06da6140-0475-4037-a5a9-12f1eb31c3f8"
      },
      "source": [
        "predictions, accuracy = evaluate_optimal_clf(\"GaussianNB\",best_gnb_f1_micro_pipelines, best_gnb_f1_micro_parameters)\n",
        "accuracies_opt['GaussianNB'] = accuracy\n",
        "f1_micros_opt['GaussianNB'] = precision_recall_fscore_support(y_test, predictions, average='micro')[2]\n",
        "f1_macros_opt['GaussianNB'] = precision_recall_fscore_support(y_test, predictions, average='macro')[2]\n",
        "print(\"F1-micro average score is: \\033[1m{} %\\033[0m\".format(f1_micros_opt['GaussianNB']*100))\n",
        "print(\"F1-macro average score is: \\033[1m{} %\\033[0m\".format(f1_macros_opt['GaussianNB']*100))"
      ],
      "execution_count": null,
      "outputs": [
        {
          "output_type": "stream",
          "text": [
            "F1-micro average score is: \u001b[1m87.02290076335878 %\u001b[0m\n",
            "F1-macro average score is: \u001b[1m86.91308691308691 %\u001b[0m\n"
          ],
          "name": "stdout"
        }
      ]
    },
    {
      "cell_type": "code",
      "metadata": {
        "id": "vMGC8ILvBABi",
        "colab": {
          "base_uri": "https://localhost:8080/",
          "height": 297
        },
        "outputId": "320f6e6a-ff9f-44ab-ed31-ab55177181c3"
      },
      "source": [
        "cnf_matrix = confusion_matrix(y_test, predictions)\n",
        "custom_plot_confusion_matrix(cnf_matrix, [0,1])"
      ],
      "execution_count": null,
      "outputs": [
        {
          "output_type": "display_data",
          "data": {
            "image/png": "[encoded data removed]",
            "text/plain": [
              "<Figure size 432x288 with 2 Axes>"
            ]
          },
          "metadata": {
            "tags": [],
            "needs_background": "light"
          }
        }
      ]
    },
    {
      "cell_type": "code",
      "metadata": {
        "id": "bZyOFAPjBCgV",
        "colab": {
          "base_uri": "https://localhost:8080/"
        },
        "outputId": "365b393f-0058-4b62-9149-aaf26c89aa6d"
      },
      "source": [
        " print(classification_report(y_test, predictions, target_names=['0','1']))"
      ],
      "execution_count": null,
      "outputs": [
        {
          "output_type": "stream",
          "text": [
            "              precision    recall  f1-score   support\n",
            "\n",
            "           0       0.86      0.85      0.86        60\n",
            "           1       0.88      0.89      0.88        71\n",
            "\n",
            "    accuracy                           0.87       131\n",
            "   macro avg       0.87      0.87      0.87       131\n",
            "weighted avg       0.87      0.87      0.87       131\n",
            "\n"
          ],
          "name": "stdout"
        }
      ]
    },
    {
      "cell_type": "markdown",
      "metadata": {
        "id": "KsZMaQLmCeQc"
      },
      "source": [
        "\n",
        "\n",
        "### 3) **kNN Classifier**"
      ]
    },
    {
      "cell_type": "code",
      "metadata": {
        "id": "aC5ILLdjCjrw",
        "colab": {
          "base_uri": "https://localhost:8080/"
        },
        "outputId": "207a90e2-305a-479b-a1d8-495b9876e2e9"
      },
      "source": [
        "predictions, accuracy = evaluate_optimal_clf(\"KNeighborsClassifier\",best_knn_f1_micro_pipelines, best_knn_f1_micro_parameters)\n",
        "accuracies_opt['Knn'] = accuracy\n",
        "f1_micros_opt['Knn'] = precision_recall_fscore_support(y_test, predictions, average='micro')[2]\n",
        "f1_macros_opt['Knn'] = precision_recall_fscore_support(y_test, predictions, average='macro')[2]\n",
        "print(\"F1-micro average score is: \\033[1m{} %\\033[0m\".format(f1_micros_opt['Knn']*100))\n",
        "print(\"F1-macro average score is: \\033[1m{} %\\033[0m\".format(f1_macros_opt['Knn']*100))"
      ],
      "execution_count": null,
      "outputs": [
        {
          "output_type": "stream",
          "text": [
            "F1-micro average score is: \u001b[1m90.83969465648855 %\u001b[0m\n",
            "F1-macro average score is: \u001b[1m90.79625292740047 %\u001b[0m\n"
          ],
          "name": "stdout"
        }
      ]
    },
    {
      "cell_type": "code",
      "metadata": {
        "id": "mG2DPLP5CnML",
        "colab": {
          "base_uri": "https://localhost:8080/",
          "height": 297
        },
        "outputId": "f5515671-1184-426a-d296-667b95634ff0"
      },
      "source": [
        "cnf_matrix = confusion_matrix(y_test, predictions)\n",
        "custom_plot_confusion_matrix(cnf_matrix, [0,1])"
      ],
      "execution_count": null,
      "outputs": [
        {
          "output_type": "display_data",
          "data": {
            "image/png": "[encoded data removed]",
            "text/plain": [
              "<Figure size 432x288 with 2 Axes>"
            ]
          },
          "metadata": {
            "tags": [],
            "needs_background": "light"
          }
        }
      ]
    },
    {
      "cell_type": "code",
      "metadata": {
        "id": "pxA9uwEmCsvO",
        "colab": {
          "base_uri": "https://localhost:8080/"
        },
        "outputId": "c03694f0-33f4-4c7d-a4de-4d1bd48c535c"
      },
      "source": [
        " print(classification_report(y_test, predictions, target_names=['0','1']))"
      ],
      "execution_count": null,
      "outputs": [
        {
          "output_type": "stream",
          "text": [
            "              precision    recall  f1-score   support\n",
            "\n",
            "           0       0.89      0.92      0.90        60\n",
            "           1       0.93      0.90      0.91        71\n",
            "\n",
            "    accuracy                           0.91       131\n",
            "   macro avg       0.91      0.91      0.91       131\n",
            "weighted avg       0.91      0.91      0.91       131\n",
            "\n"
          ],
          "name": "stdout"
        }
      ]
    },
    {
      "cell_type": "markdown",
      "metadata": {
        "id": "JuflzucsnDXq"
      },
      "source": [
        "### Bar plots σύγκρισης βέλτιστων ταξινομητών"
      ]
    },
    {
      "cell_type": "code",
      "metadata": {
        "id": "S4vwfh0OD6Lj",
        "colab": {
          "base_uri": "https://localhost:8080/",
          "height": 513
        },
        "outputId": "b54f2583-9879-4ba0-92a8-c6757fd0210f"
      },
      "source": [
        "classifiers = list(f1_micros_opt.keys())\n",
        "x = np.arange(len(classifiers))\n",
        "width = 0.25\n",
        "\n",
        "fig, ax = plt.subplots(figsize=(12,7))\n",
        "rects1 = ax.bar(x - width/2, list(f1_micros_opt.values()), width, label='f1_micro')\n",
        "rects2 = ax.bar(x + width/2, list(f1_macros_opt.values()), width, label='f1_macro')\n",
        "\n",
        "ax.set_ylabel('Scores',fontsize=12)\n",
        "ax.set_title('Optimal Classifiers score according to f1-micro and f1-macro metric',fontsize=16)\n",
        "ax.set_xticks(x)\n",
        "ax.set_xticklabels(classifiers,fontsize=12)\n",
        "ax.legend(loc='upper left',fontsize=12)\n",
        "\n",
        "fig.tight_layout()\n",
        "plt.show()"
      ],
      "execution_count": null,
      "outputs": [
        {
          "output_type": "display_data",
          "data": {
            "image/png": "[encoded data removed]",
            "text/plain": [
              "<Figure size 864x504 with 1 Axes>"
            ]
          },
          "metadata": {
            "tags": [],
            "needs_background": "light"
          }
        }
      ]
    },
    {
      "cell_type": "markdown",
      "metadata": {
        "id": "nFlUb5BbMGr1"
      },
      "source": [
        "Classifier | F1-micro (%) | F1-macro (%)\r\n",
        "--- | :---: | :--:\r\n",
        "**Knn** | **90.84** | **90.80**\r\n",
        "**GaussianNB** | **87.02** | **86.91**\r\n",
        "Uniform | 58.02 | 57.93\r\n",
        "Most frequent | 54.20 | 35.15\r\n",
        "Constant 1 | 54.20 | 35.15\r\n",
        "Stratified | 49.62 | 49.12\r\n",
        "Constant 0 | 45.80 | 31.41"
      ]
    },
    {
      "cell_type": "markdown",
      "metadata": {
        "id": "qNW8VkORwpNy"
      },
      "source": [
        "Παρατηρούμε ότι το μεγαλύτερο ποσοστό ακρίβειας τόσο για την μετρική f1-micro όσο και για την f1-macro λαμβάνεται με χρήση του ταξινομητή **Knn**. Αυτό επιτυγχάνεται εφαρμόζοντας αρχικά ένα scaling στα δεδομένα (MinMaxScaler) και επακόλουθη μείωση διαστατικότητας σε 10 συνιστώσες (PCA). Αντίστοιχα, μία μικρότερη αύξηση εμφανίζει και ο ταξινομητής **Gaussian Naive Bayes** μετά από scaling (MinMaxScaler) των δεδομένων και εφαρμογή κατάλληλου κατωφλίου Variance Threshold."
      ]
    },
    {
      "cell_type": "code",
      "metadata": {
        "id": "JayIQ64K9KBR",
        "colab": {
          "base_uri": "https://localhost:8080/",
          "height": 513
        },
        "outputId": "7bf0ea49-dd2d-40e4-e597-489f5607ca61"
      },
      "source": [
        "classifiers = list(f1_micros_opt.keys())\n",
        "x = np.arange(len(classifiers))\n",
        "width = 0.25\n",
        "\n",
        "fig, ax = plt.subplots(figsize=(12,7))\n",
        "rects1 = ax.bar(x - width/2, list(f1_micros.values()), width, label='f1_micro')\n",
        "rects2 = ax.bar(x + width/2, list(f1_micros_opt.values()), width, label='f1_micro_opt')\n",
        "\n",
        "ax.set_ylabel('Scores',fontsize=12)\n",
        "ax.set_title('Comparison between optimal and non-optimal classifiers according to f1-micro metric',fontsize=14)\n",
        "ax.set_xticks(x)\n",
        "ax.set_xticklabels(classifiers,fontsize=12)\n",
        "ax.legend(loc='upper left',fontsize=12)\n",
        "\n",
        "fig.tight_layout()\n",
        "plt.show()"
      ],
      "execution_count": null,
      "outputs": [
        {
          "output_type": "display_data",
          "data": {
            "image/png": "[encoded data removed]",
            "text/plain": [
              "<Figure size 864x504 with 1 Axes>"
            ]
          },
          "metadata": {
            "tags": [],
            "needs_background": "light"
          }
        }
      ]
    },
    {
      "cell_type": "code",
      "metadata": {
        "id": "jBn4IokU8fYv",
        "colab": {
          "base_uri": "https://localhost:8080/",
          "height": 513
        },
        "outputId": "b4e8f396-ea67-40ba-96d5-89146aa740ff"
      },
      "source": [
        "classifiers = list(f1_micros_opt.keys())\n",
        "x = np.arange(len(classifiers))\n",
        "width = 0.25\n",
        "\n",
        "fig, ax = plt.subplots(figsize=(12,7))\n",
        "rects1 = ax.bar(x - width/2, list(f1_macros.values()), width, label='f1_macro')\n",
        "rects2 = ax.bar(x + width/2, list(f1_macros_opt.values()), width, label='f1_macro_opt')\n",
        "\n",
        "ax.set_ylabel('Scores',fontsize=12)\n",
        "ax.set_title('Comparison between optimal and non-optimal classifiers according to f1-macro metric',fontsize=14)\n",
        "ax.set_xticks(x)\n",
        "ax.set_xticklabels(classifiers,fontsize=12)\n",
        "ax.legend(loc='upper left',fontsize=12)\n",
        "\n",
        "fig.tight_layout()\n",
        "plt.show()"
      ],
      "execution_count": null,
      "outputs": [
        {
          "output_type": "display_data",
          "data": {
            "image/png": "[encoded data removed]",
            "text/plain": [
              "<Figure size 864x504 with 1 Axes>"
            ]
          },
          "metadata": {
            "tags": [],
            "needs_background": "light"
          }
        }
      ]
    },
    {
      "cell_type": "markdown",
      "metadata": {
        "id": "mPanMIbVb549"
      },
      "source": [
        "### Μεταβολή της επίδοσης των ταξινομητών πριν και μετά τη βελτιστοποίησή τους"
      ]
    },
    {
      "cell_type": "code",
      "metadata": {
        "id": "5PnYw825Zcq3",
        "colab": {
          "base_uri": "https://localhost:8080/"
        },
        "outputId": "972b76c6-3545-4807-aa76-ed570e1274a2"
      },
      "source": [
        "print(\"\\033[1mIncrement of Accuracy between Optimal and Non-Optimal Classifiers:\\n\")\n",
        "print(\"------------------------ accuracy differences ------------------------\\n\")\n",
        "accuracy_diff = {x: accuracies_opt[x] - accuracies[x] for x in accuracies_opt if x in accuracies}\n",
        "sorted_accuracy_diff = [(k, accuracy_diff[k]) for k in sorted(accuracy_diff, key=accuracy_diff.get, reverse=True)]\n",
        "for k, v in sorted_accuracy_diff:\n",
        "    print(\"\\033[1m\",k,\":\\033[0m\",v*100,\"%\")\n",
        "print()"
      ],
      "execution_count": null,
      "outputs": [
        {
          "output_type": "stream",
          "text": [
            "\u001b[1mIncrement of Accuracy between Optimal and Non-Optimal Classifiers:\n",
            "\n",
            "------------------------ accuracy differences ------------------------\n",
            "\n",
            "\u001b[1m Knn :\u001b[0m 22.90076335877862 %\n",
            "\u001b[1m GaussianNB :\u001b[0m 5.343511450381677 %\n",
            "\u001b[1m Constant 0 :\u001b[0m 0.0 %\n",
            "\u001b[1m Constant 1 :\u001b[0m 0.0 %\n",
            "\u001b[1m Most frequent label :\u001b[0m 0.0 %\n",
            "\u001b[1m Stratified :\u001b[0m 0.0 %\n",
            "\u001b[1m uniform (random) :\u001b[0m -6.870229007633583 %\n",
            "\n"
          ],
          "name": "stdout"
        }
      ]
    },
    {
      "cell_type": "markdown",
      "metadata": {
        "id": "5gdvjaAfMrBc"
      },
      "source": [
        "Classifier | Increment of Accuracy (%)\r\n",
        "--- | :---:\r\n",
        "**Knn** | **22.90** \r\n",
        "GaussianNB | 5.34\r\n",
        "Constant 0 | 0.00\r\n",
        "Constant 1 | 0.00\r\n",
        "Most frequent | 0.00\r\n",
        "Stratified | 0.00\r\n",
        "Uniform | -6.87"
      ]
    },
    {
      "cell_type": "markdown",
      "metadata": {
        "id": "APRG9S1wWCjz"
      },
      "source": [
        "Την μεγαλύτερη αύξηση ως προς την ακρίβεια κατηγοριοποίησης εμφανίζει ο ταξινομητής **Knn**. Αυτό ήταν αναμενόμενο εφόσον είναι ο μόνος εκτιμητής με παράμετρο που εξετάστηκε προς βελτιστοποίηση (n_neighbors). Παράλληλα μία μικρή αύξηση παρουσιάζει και ο **GaussianNB** λόγω της χρήσης των μετασχηματιστών που αναφέραμε προηγουμένως. Προφανώς, η μεταβολή του accuracy είναι μηδενική για τους dummy classifiers: Constant 0, Constant 1 και Most Frequent. Ο σχολιασμός των αποτελεσμάτων για τους Stratified και Uniform δεν έχει ιδιαίτερο νόημα αφού εμπεριέχουν ένα σημαντικό βαθμό τυχαιότητας."
      ]
    },
    {
      "cell_type": "markdown",
      "metadata": {
        "id": "HfVUQhC8nTIg"
      },
      "source": [
        "### Σύγκριση χρόνων εκτέλεσης βέλτιστων ταξινομητών για το fit και το predict"
      ]
    },
    {
      "cell_type": "code",
      "metadata": {
        "id": "MqGF20-VIRW4",
        "colab": {
          "base_uri": "https://localhost:8080/"
        },
        "outputId": "10b8e4d1-9710-430e-cd41-c57ba5e73046"
      },
      "source": [
        "print(\"\\033[1mFit and Predict times of Optimal Classifiers in secs:\\n\")\n",
        "print(\"------------------------ fit times ------------------------\\n\")\n",
        "sorted_fit_times = [(k, fit_times[k]) for k in sorted(fit_times, key=fit_times.get, reverse=True)]\n",
        "for k, v in sorted_fit_times:\n",
        "    print(\"\\033[1m\",k,\":\\033[0m\",v)\n",
        "print()\n",
        "print(\"\\033[1m---------------------- predict times ----------------------\\n\")\n",
        "sorted_pred_times = [(k, pred_times[k]) for k in sorted(pred_times, key=pred_times.get, reverse=True)]\n",
        "for m, n in sorted_pred_times:\n",
        "    print(\"\\033[1m\",m,\":\\033[0m\",n)"
      ],
      "execution_count": null,
      "outputs": [
        {
          "output_type": "stream",
          "text": [
            "\u001b[1mFit and Predict times of Optimal Classifiers in secs:\n",
            "\n",
            "------------------------ fit times ------------------------\n",
            "\n",
            "\u001b[1m GaussianNB :\u001b[0m 0.0015218257904052734\n",
            "\u001b[1m KNeighborsClassifier :\u001b[0m 0.0012559890747070312\n",
            "\u001b[1m Constant 0 :\u001b[0m 0.0006327629089355469\n",
            "\u001b[1m Constant 1 :\u001b[0m 0.0005748271942138672\n",
            "\u001b[1m Most frequent label :\u001b[0m 0.0005438327789306641\n",
            "\u001b[1m Stratified :\u001b[0m 0.0005018711090087891\n",
            "\u001b[1m uniform (random) :\u001b[0m 0.0002899169921875\n",
            "\n",
            "\u001b[1m---------------------- predict times ----------------------\n",
            "\n",
            "\u001b[1m KNeighborsClassifier :\u001b[0m 0.007916927337646484\n",
            "\u001b[1m Stratified :\u001b[0m 0.0006506443023681641\n",
            "\u001b[1m GaussianNB :\u001b[0m 0.00040340423583984375\n",
            "\u001b[1m uniform (random) :\u001b[0m 0.0002167224884033203\n",
            "\u001b[1m Constant 1 :\u001b[0m 0.0001747608184814453\n",
            "\u001b[1m Constant 0 :\u001b[0m 0.00017213821411132812\n",
            "\u001b[1m Most frequent label :\u001b[0m 0.0001571178436279297\n"
          ],
          "name": "stdout"
        }
      ]
    },
    {
      "cell_type": "markdown",
      "metadata": {
        "id": "0l2heHzDLT7B"
      },
      "source": [
        "Classifier | Fit times (secs) | Predicts times (secs)\r\n",
        "--- | :---: | :---:\r\n",
        "**GaussianNB** | **0.0015** | 0.0004\r\n",
        "**Knn** | 0.0012 | **0.0079**\r\n",
        "Constant 0 | 0.0006 | 0.0002\r\n",
        "Constant 1 | 0.0006 | 0.0002\r\n",
        "Most frequent | 0.0005 | 0.0002\r\n",
        "Stratified | 0.0005 | 0.0007\r\n",
        "Uniform | 0.0003 | 0.0002"
      ]
    },
    {
      "cell_type": "markdown",
      "metadata": {
        "id": "9HmD7nrk8sRf"
      },
      "source": [
        "Παρατηρούμε ότι οι χρόνοι εκπαίδευσης (fit times) κάθε ταξινομητή, με εξαίρεση τον Knn, είναι μεγαλύτεροι από τους αντίστοιχους χρόνους πρόβλεψης (predict times). Αυτό είναι λογικό, καθώς εφόσον το μοντέλο εκπαιδευτεί πάνω στο μεγαλύτερο μέρος του dataset (train dataset - 70%), η φάση της εκτίμησης διαρκεί πολύ λίγο χρόνο. Τα παραπάνω δεν ισχύουν για τον Knn ο οποίος δεν πραγματοποιεί κάποια διαδικασία εκπαίδευσης αλλά αποθηκεύει απλώς όλα τα train δεδομένα στην μνήμη. Για κάθε νέο δείγμα του test set που πρόκειται να κατηγοριοποιηθεί υπολογίζει την απόστασή του από όλα τα σημεία του train, με αποτέλεσμα η διαδικασία αυτή (predict) να είναι αρκετά χρονοβόρα."
      ]
    },
    {
      "cell_type": "markdown",
      "metadata": {
        "id": "F0GfPY7R8qiZ"
      },
      "source": [
        "## Αξιολόγηση βέλτιστων ταξινομητών που προέκυψαν με βάση την μετρική απόδοσης f1 macro"
      ]
    },
    {
      "cell_type": "markdown",
      "metadata": {
        "id": "5c1vowvf1Aus"
      },
      "source": [
        "### 1) **Dummy Classifier**"
      ]
    },
    {
      "cell_type": "markdown",
      "metadata": {
        "id": "dqq-D9_TMiNG"
      },
      "source": [
        "Επειδή δεν πραγματοποιούμε βελτιστοποίηση στους Dummy Classifiers τα αποτελέσματα είναι αντίστοιχα με αυτά της ενότητας \"Αξιολόγηση βέλτιστων ταξινομητών που προέκυψαν με βάση την μετρική απόδοσης f1 micro\"."
      ]
    },
    {
      "cell_type": "markdown",
      "metadata": {
        "id": "u5ZDzn_DC3UU"
      },
      "source": [
        "### 2) **Gaussian Naive Bayes Classifier**"
      ]
    },
    {
      "cell_type": "code",
      "metadata": {
        "id": "gvsiBS5a8sT8",
        "colab": {
          "base_uri": "https://localhost:8080/"
        },
        "outputId": "12a3ca59-64d6-4e71-b149-d4f0373a02d9"
      },
      "source": [
        "predictions, accuracy = evaluate_optimal_clf(\"GaussianNB\",best_gnb_f1_macro_pipelines, best_gnb_f1_macro_parameters)\n",
        "accuracies_opt['GaussianNB'] = accuracy\n",
        "f1_micros_opt['GaussianNB'] = precision_recall_fscore_support(y_test, predictions, average='micro')[2]\n",
        "f1_macros_opt['GaussianNB'] = precision_recall_fscore_support(y_test, predictions, average='macro')[2]\n",
        "print(\"F1-micro average score is: \\033[1m{} %\\033[0m\".format(f1_micros_opt['GaussianNB']*100))\n",
        "print(\"F1-macro average score is: \\033[1m{} %\\033[0m\".format(f1_macros_opt['GaussianNB']*100))"
      ],
      "execution_count": null,
      "outputs": [
        {
          "output_type": "stream",
          "text": [
            "F1-micro average score is: \u001b[1m87.02290076335878 %\u001b[0m\n",
            "F1-macro average score is: \u001b[1m86.91308691308691 %\u001b[0m\n"
          ],
          "name": "stdout"
        }
      ]
    },
    {
      "cell_type": "code",
      "metadata": {
        "id": "uQTy2_DWC7ET",
        "colab": {
          "base_uri": "https://localhost:8080/",
          "height": 297
        },
        "outputId": "11100f31-73e9-4fd0-8cb9-261d47bcb077"
      },
      "source": [
        "cnf_matrix = confusion_matrix(y_test, predictions)\n",
        "custom_plot_confusion_matrix(cnf_matrix, [0,1])"
      ],
      "execution_count": null,
      "outputs": [
        {
          "output_type": "display_data",
          "data": {
            "image/png": "[encoded data removed]",
            "text/plain": [
              "<Figure size 432x288 with 2 Axes>"
            ]
          },
          "metadata": {
            "tags": [],
            "needs_background": "light"
          }
        }
      ]
    },
    {
      "cell_type": "code",
      "metadata": {
        "id": "sA4FqFN9DXaL",
        "colab": {
          "base_uri": "https://localhost:8080/"
        },
        "outputId": "d888b27e-e38e-4bc7-ab4d-66605cf0247e"
      },
      "source": [
        " print(classification_report(y_test, predictions, target_names=['0','1']))"
      ],
      "execution_count": null,
      "outputs": [
        {
          "output_type": "stream",
          "text": [
            "              precision    recall  f1-score   support\n",
            "\n",
            "           0       0.86      0.85      0.86        60\n",
            "           1       0.88      0.89      0.88        71\n",
            "\n",
            "    accuracy                           0.87       131\n",
            "   macro avg       0.87      0.87      0.87       131\n",
            "weighted avg       0.87      0.87      0.87       131\n",
            "\n"
          ],
          "name": "stdout"
        }
      ]
    },
    {
      "cell_type": "markdown",
      "metadata": {
        "id": "-z8OKgeE83db"
      },
      "source": [
        "### 3) **kNN Classifier**"
      ]
    },
    {
      "cell_type": "code",
      "metadata": {
        "id": "ECIg5up09OOr",
        "colab": {
          "base_uri": "https://localhost:8080/"
        },
        "outputId": "d219f1bf-400b-46cb-f0cc-2014951414b2"
      },
      "source": [
        "predictions, accuracy = evaluate_optimal_clf(\"KNeighborsClassifier\",best_knn_f1_macro_pipelines, best_knn_f1_macro_parameters)\n",
        "accuracies_opt['Knn'] = accuracy\n",
        "f1_micros_opt['Knn'] = precision_recall_fscore_support(y_test, predictions, average='micro')[2]\n",
        "f1_macros_opt['Knn'] = precision_recall_fscore_support(y_test, predictions, average='macro')[2]\n",
        "print(\"F1-micro average score is: \\033[1m{} %\\033[0m\".format(f1_micros_opt['Knn']*100))\n",
        "print(\"F1-macro average score is: \\033[1m{} %\\033[0m\".format(f1_macros_opt['Knn']*100))"
      ],
      "execution_count": null,
      "outputs": [
        {
          "output_type": "stream",
          "text": [
            "F1-micro average score is: \u001b[1m90.83969465648855 %\u001b[0m\n",
            "F1-macro average score is: \u001b[1m90.79625292740047 %\u001b[0m\n"
          ],
          "name": "stdout"
        }
      ]
    },
    {
      "cell_type": "code",
      "metadata": {
        "id": "tVIq9Jh1DA5i",
        "colab": {
          "base_uri": "https://localhost:8080/",
          "height": 297
        },
        "outputId": "773efb3a-6ea6-45f3-f936-4497854ed75d"
      },
      "source": [
        "cnf_matrix = confusion_matrix(y_test, predictions)\n",
        "custom_plot_confusion_matrix(cnf_matrix, [0,1])"
      ],
      "execution_count": null,
      "outputs": [
        {
          "output_type": "display_data",
          "data": {
            "image/png": "[encoded data removed]",
            "text/plain": [
              "<Figure size 432x288 with 2 Axes>"
            ]
          },
          "metadata": {
            "tags": [],
            "needs_background": "light"
          }
        }
      ]
    },
    {
      "cell_type": "code",
      "metadata": {
        "id": "s6Z9mH-QDdVu",
        "colab": {
          "base_uri": "https://localhost:8080/"
        },
        "outputId": "507ee589-7da1-49bc-d446-4a9a50ffbfa6"
      },
      "source": [
        " print(classification_report(y_test, predictions, target_names=['0','1']))"
      ],
      "execution_count": null,
      "outputs": [
        {
          "output_type": "stream",
          "text": [
            "              precision    recall  f1-score   support\n",
            "\n",
            "           0       0.89      0.92      0.90        60\n",
            "           1       0.93      0.90      0.91        71\n",
            "\n",
            "    accuracy                           0.91       131\n",
            "   macro avg       0.91      0.91      0.91       131\n",
            "weighted avg       0.91      0.91      0.91       131\n",
            "\n"
          ],
          "name": "stdout"
        }
      ]
    },
    {
      "cell_type": "markdown",
      "metadata": {
        "id": "nkhZPJYBnHuG"
      },
      "source": [
        "### Bar plots σύγκρισης βέλτιστων ταξινομητών"
      ]
    },
    {
      "cell_type": "code",
      "metadata": {
        "id": "fjj4NC-HEe8G",
        "colab": {
          "base_uri": "https://localhost:8080/",
          "height": 513
        },
        "outputId": "bd6e4b51-88de-4cfa-bd63-510dce71b2f2"
      },
      "source": [
        "classifiers = list(f1_micros_opt.keys())\n",
        "x = np.arange(len(classifiers))\n",
        "width = 0.25\n",
        "\n",
        "fig, ax = plt.subplots(figsize=(12,7))\n",
        "rects1 = ax.bar(x - width/2, list(f1_micros_opt.values()), width, label='f1_micro')\n",
        "rects2 = ax.bar(x + width/2, list(f1_macros_opt.values()), width, label='f1_macro')\n",
        "\n",
        "ax.set_ylabel('Scores',fontsize=12)\n",
        "ax.set_title('Optimal Classifiers score according to f1-micro and f1-macro metric',fontsize=16)\n",
        "ax.set_xticks(x)\n",
        "ax.set_xticklabels(classifiers,fontsize=12)\n",
        "ax.legend(loc='upper left',fontsize=12)\n",
        "\n",
        "fig.tight_layout()\n",
        "plt.show()"
      ],
      "execution_count": null,
      "outputs": [
        {
          "output_type": "display_data",
          "data": {
            "image/png": "[encoded data removed]",
            "text/plain": [
              "<Figure size 864x504 with 1 Axes>"
            ]
          },
          "metadata": {
            "tags": [],
            "needs_background": "light"
          }
        }
      ]
    },
    {
      "cell_type": "markdown",
      "metadata": {
        "id": "UBy3VMw36c-4"
      },
      "source": [
        "Classifier | F1-micro (%) | F1-macro (%)\r\n",
        "--- | :---: | :--:\r\n",
        "**Knn** | **90.84** | **90.80**\r\n",
        "**GaussianNB** | **87.02** | **86.91**\r\n",
        "Uniform | 58.02 | 57.93\r\n",
        "Most frequent | 54.20 | 35.15\r\n",
        "Constant 1 | 54.20 | 35.15\r\n",
        "Stratified | 49.62 | 49.12\r\n",
        "Constant 0 | 45.80 | 31.41\r\n"
      ]
    },
    {
      "cell_type": "markdown",
      "metadata": {
        "id": "HJdMbgSM9OZB"
      },
      "source": [
        "Τα συμπεράσματα που προκύπτουν είναι ανάλογα με αυτά της ενότητας \"Αξιολόγηση βέλτιστων ταξινομητών που προέκυψαν με βάση την μετρική απόδοσης f1 micro\"."
      ]
    },
    {
      "cell_type": "code",
      "metadata": {
        "id": "-1rMRLB7K385",
        "colab": {
          "base_uri": "https://localhost:8080/",
          "height": 513
        },
        "outputId": "17217d6f-5ee7-4b85-d280-21ce2fc53a29"
      },
      "source": [
        "classifiers = list(f1_micros_opt.keys())\n",
        "x = np.arange(len(classifiers))\n",
        "width = 0.25\n",
        "\n",
        "fig, ax = plt.subplots(figsize=(12,7))\n",
        "rects1 = ax.bar(x - width/2, list(f1_micros.values()), width, label='f1_micro')\n",
        "rects2 = ax.bar(x + width/2, list(f1_micros_opt.values()), width, label='f1_micro_opt')\n",
        "\n",
        "ax.set_ylabel('Scores',fontsize=12)\n",
        "ax.set_title('Comparison between optimal and non-optimal classifiers according to f1-micro metric',fontsize=14)\n",
        "ax.set_xticks(x)\n",
        "ax.set_xticklabels(classifiers,fontsize=12)\n",
        "ax.legend(loc='upper left',fontsize=12)\n",
        "\n",
        "fig.tight_layout()\n",
        "plt.show()"
      ],
      "execution_count": null,
      "outputs": [
        {
          "output_type": "display_data",
          "data": {
            "image/png": "[encoded data removed]",
            "text/plain": [
              "<Figure size 864x504 with 1 Axes>"
            ]
          },
          "metadata": {
            "tags": [],
            "needs_background": "light"
          }
        }
      ]
    },
    {
      "cell_type": "code",
      "metadata": {
        "id": "R6uVcGUOK4Us",
        "colab": {
          "base_uri": "https://localhost:8080/",
          "height": 513
        },
        "outputId": "ac502a1b-a10c-4efc-cfca-6aa23ef5057a"
      },
      "source": [
        "classifiers = list(f1_micros_opt.keys())\n",
        "x = np.arange(len(classifiers))\n",
        "width = 0.25\n",
        "\n",
        "fig, ax = plt.subplots(figsize=(12,7))\n",
        "rects1 = ax.bar(x - width/2, list(f1_macros.values()), width, label='f1_macro')\n",
        "rects2 = ax.bar(x + width/2, list(f1_macros_opt.values()), width, label='f1_macro_opt')\n",
        "\n",
        "ax.set_ylabel('Scores',fontsize=12)\n",
        "ax.set_title('Comparison between optimal and non-optimal classifiers according to f1-macro metric',fontsize=14)\n",
        "ax.set_xticks(x)\n",
        "ax.set_xticklabels(classifiers,fontsize=12)\n",
        "ax.legend(loc='upper left',fontsize=12)\n",
        "\n",
        "fig.tight_layout()\n",
        "plt.show()"
      ],
      "execution_count": null,
      "outputs": [
        {
          "output_type": "display_data",
          "data": {
            "image/png": "[encoded data removed]",
            "text/plain": [
              "<Figure size 864x504 with 1 Axes>"
            ]
          },
          "metadata": {
            "tags": [],
            "needs_background": "light"
          }
        }
      ]
    },
    {
      "cell_type": "markdown",
      "metadata": {
        "id": "Z6OYY7SGbrd-"
      },
      "source": [
        "### Μεταβολή της επίδοσης των ταξινομητών πριν και μετά τη βελτιστοποίησή τους"
      ]
    },
    {
      "cell_type": "code",
      "metadata": {
        "id": "mpMo9xujRTEn",
        "colab": {
          "base_uri": "https://localhost:8080/"
        },
        "outputId": "9bd03339-05c2-4dfa-8941-e0dcd76f7473"
      },
      "source": [
        "print(\"\\033[1mIncrement of Accuracy between Optimal and Non-Optimal Classifiers:\\n\")\n",
        "print(\"------------------------ accuracy differences ------------------------\\n\")\n",
        "accuracy_diff = {x: accuracies_opt[x] - accuracies[x] for x in accuracies_opt if x in accuracies}\n",
        "sorted_accuracy_diff = [(k, accuracy_diff[k]) for k in sorted(accuracy_diff, key=accuracy_diff.get, reverse=True)]\n",
        "for k, v in sorted_accuracy_diff:\n",
        "    print(\"\\033[1m\",k,\":\\033[0m\",v*100,\"%\")\n",
        "print()"
      ],
      "execution_count": null,
      "outputs": [
        {
          "output_type": "stream",
          "text": [
            "\u001b[1mIncrement of Accuracy between Optimal and Non-Optimal Classifiers:\n",
            "\n",
            "------------------------ accuracy differences ------------------------\n",
            "\n",
            "\u001b[1m Knn :\u001b[0m 22.90076335877862 %\n",
            "\u001b[1m GaussianNB :\u001b[0m 5.343511450381677 %\n",
            "\u001b[1m Constant 0 :\u001b[0m 0.0 %\n",
            "\u001b[1m Constant 1 :\u001b[0m 0.0 %\n",
            "\u001b[1m Most frequent label :\u001b[0m 0.0 %\n",
            "\u001b[1m Stratified :\u001b[0m 0.0 %\n",
            "\u001b[1m uniform (random) :\u001b[0m -6.870229007633583 %\n",
            "\n"
          ],
          "name": "stdout"
        }
      ]
    },
    {
      "cell_type": "markdown",
      "metadata": {
        "id": "vKU1UXS34XgZ"
      },
      "source": [
        "Classifier | Increment of Accuracy (%)\r\n",
        "--- | :---:\r\n",
        "**Knn** | **22.90** \r\n",
        "GaussianNB | 5.34\r\n",
        "Constant 0 | 0.00\r\n",
        "Constant 1 | 0.00\r\n",
        "Most frequent | 0.00\r\n",
        "Stratified | 0.00\r\n",
        "Uniform | -6.87"
      ]
    },
    {
      "cell_type": "markdown",
      "metadata": {
        "id": "_QL9-1bh96Pv"
      },
      "source": [
        "Τα συμπεράσματα που προκύπτουν είναι ανάλογα με αυτά της ενότητας \"Αξιολόγηση βέλτιστων ταξινομητών που προέκυψαν με βάση την μετρική απόδοσης f1 micro\"."
      ]
    },
    {
      "cell_type": "markdown",
      "metadata": {
        "id": "xq45lS-TnMcu"
      },
      "source": [
        "### Σύγκριση χρόνων εκτέλεσης βέλτιστων ταξινομητών για το fit και το predict"
      ]
    },
    {
      "cell_type": "code",
      "metadata": {
        "id": "l90IjjJ_LV_Q",
        "colab": {
          "base_uri": "https://localhost:8080/"
        },
        "outputId": "04b45526-cf4f-4f0a-f7e4-9193d2a47492"
      },
      "source": [
        "print(\"\\033[1mFit and Predict times of Optimal Classifiers in secs:\\n\")\n",
        "print(\"------------------------ fit times ------------------------\\n\")\n",
        "sorted_fit_times = [(k, fit_times[k]) for k in sorted(fit_times, key=fit_times.get, reverse=True)]\n",
        "for k, v in sorted_fit_times:\n",
        "    print(\"\\033[1m\",k,\":\\033[0m\",v)\n",
        "print()\n",
        "print(\"\\033[1m---------------------- predict times ----------------------\\n\")\n",
        "sorted_pred_times = [(k, pred_times[k]) for k in sorted(pred_times, key=pred_times.get, reverse=True)]\n",
        "for m, n in sorted_pred_times:\n",
        "    print(\"\\033[1m\",m,\":\\033[0m\",n)"
      ],
      "execution_count": null,
      "outputs": [
        {
          "output_type": "stream",
          "text": [
            "\u001b[1mFit and Predict times of Optimal Classifiers in secs:\n",
            "\n",
            "------------------------ fit times ------------------------\n",
            "\n",
            "\u001b[1m GaussianNB :\u001b[0m 0.00787663459777832\n",
            "\u001b[1m KNeighborsClassifier :\u001b[0m 0.0012087821960449219\n",
            "\u001b[1m Constant 0 :\u001b[0m 0.0006327629089355469\n",
            "\u001b[1m Constant 1 :\u001b[0m 0.0005748271942138672\n",
            "\u001b[1m Most frequent label :\u001b[0m 0.0005438327789306641\n",
            "\u001b[1m Stratified :\u001b[0m 0.0005018711090087891\n",
            "\u001b[1m uniform (random) :\u001b[0m 0.0002899169921875\n",
            "\n",
            "\u001b[1m---------------------- predict times ----------------------\n",
            "\n",
            "\u001b[1m KNeighborsClassifier :\u001b[0m 0.008014917373657227\n",
            "\u001b[1m Stratified :\u001b[0m 0.0006506443023681641\n",
            "\u001b[1m GaussianNB :\u001b[0m 0.0006096363067626953\n",
            "\u001b[1m uniform (random) :\u001b[0m 0.0002167224884033203\n",
            "\u001b[1m Constant 1 :\u001b[0m 0.0001747608184814453\n",
            "\u001b[1m Constant 0 :\u001b[0m 0.00017213821411132812\n",
            "\u001b[1m Most frequent label :\u001b[0m 0.0001571178436279297\n"
          ],
          "name": "stdout"
        }
      ]
    },
    {
      "cell_type": "markdown",
      "metadata": {
        "id": "gpzfYw9J4yCq"
      },
      "source": [
        "Classifier | Fit times (secs) | Predicts times (secs)\r\n",
        "--- | :---: | :---:\r\n",
        "**GaussianNB** | **0.0079** | 0.0006\r\n",
        "**Knn** | 0.0012 | **0.0080**\r\n",
        "Constant 0 | 0.0006 | 0.0002\r\n",
        "Constant 1 | 0.0006 | 0.0002\r\n",
        "Most frequent | 0.0005 | 0.0002\r\n",
        "Stratified | 0.0005 | 0.0007\r\n",
        "Uniform | 0.0003 | 0.0002"
      ]
    },
    {
      "cell_type": "markdown",
      "metadata": {
        "id": "VQJfDDKI9HDA"
      },
      "source": [
        "Τα συμπεράσματα που προκύπτουν είναι ανάλογα με αυτά της ενότητας \"Αξιολόγηση βέλτιστων ταξινομητών που προέκυψαν με βάση την μετρική απόδοσης f1 micro\"."
      ]
    },
    {
      "cell_type": "markdown",
      "metadata": {
        "id": "LJ9Rrh8IoImE"
      },
      "source": [
        "**Σημείωση**: Επειδή δεν προσδιορίσαμε κάποιο **random_state** κατά την κλήση της συνάρτησης **train_test_split** τα αποτελέσματα που παρουσιάζονται στο τρέχον notebook αφορούν έναν **τυχαίο διαμοιρασμό του αρχικού dataset** και ενδέχεται να διαφέρουν από εκτέλεση σε εκτέλεση."
      ]
    }
  ]
}