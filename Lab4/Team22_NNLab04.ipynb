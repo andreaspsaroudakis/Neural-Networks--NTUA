{
  "nbformat": 4,
  "nbformat_minor": 0,
  "metadata": {
    "kernelspec": {
      "name": "python3",
      "display_name": "Python 3",
      "language": "python"
    },
    "language_info": {
      "name": "python",
      "version": "3.7.9",
      "mimetype": "text/x-python",
      "codemirror_mode": {
        "name": "ipython",
        "version": 3
      },
      "pygments_lexer": "ipython3",
      "nbconvert_exporter": "python",
      "file_extension": ".py"
    },
    "colab": {
      "name": "Team22_NNLab04.ipynb",
      "provenance": [],
      "collapsed_sections": [
        "IWoEn2zgsvk0",
        "fTGf3dZMsvk1",
        "1VA8yMNOsvk1",
        "2wcOWqWSsvk2",
        "cWZX8Xrksvk4",
        "JqDTTaHTsvk5",
        "2dHx-RKesvk6",
        "_kj2zM9jsvk6",
        "7VMJeXeysvk7",
        "Ei5_7RQ4svk8",
        "JRJ6BXlUsvk9",
        "QMUV4OFYsvk_",
        "1MrqZdCtsvlA",
        "lbTyLikTsvlA",
        "Gf_zj_DHsvlB",
        "aqYanx_UsvlC",
        "jcHX1kxdsvlD",
        "K50NzC_IsvlE",
        "JGkILM9GsvlF",
        "bpuC-4kmsvlG",
        "wVxs5JHMsvlH",
        "YJoJaI1XsvlI",
        "gocTox_ottjB",
        "REDUAI44ttjD",
        "u1i7GvCcttjD",
        "LLIVQoCRttjE",
        "nZOnbT5WttjG",
        "pPgv7YGWttjH",
        "Mgo2cM_BttjI",
        "w80Dqw_0ttjI",
        "WVb00TemttjJ",
        "svaKmtd4ttjK",
        "jWf3sEGJttjL"
      ]
    }
  },
  "cells": [
    {
      "cell_type": "markdown",
      "metadata": {
        "id": "64BWSLSBrcHU"
      },
      "source": [
        "# Στοιχεία ομάδας"
      ]
    },
    {
      "cell_type": "markdown",
      "metadata": {
        "id": "0tvQcsVWrhY1"
      },
      "source": [
        "**Αριθμός ομάδας**: 22\n",
        "\n",
        "**Πρώτο μέλος**:  \n",
        "Ονοματεπώνυμο: Ψαρουδάκης Ανδρέας <br>\n",
        "Αριθμός μητρώου: 03116001 <br>\n",
        "Email:  andreaspsaroudakis@gmail.com <br>\n",
        "\n",
        "**Δεύτερο μέλος**: <br>\n",
        "Ονοματεπώνυμο: Τζε Χριστίνα-Ουρανία <br>\n",
        "Αριθμός μητρώου: 03116079 <br>\n",
        "Email: xristina.rania.tze@gmail.com"
      ]
    },
    {
      "cell_type": "markdown",
      "metadata": {
        "id": "kuPB4fo1svke"
      },
      "source": [
        "# Παίζοντας Atari με βαθιά ενισχυτική μάθηση"
      ]
    },
    {
      "cell_type": "markdown",
      "metadata": {
        "id": "n0yWimaSsvkj"
      },
      "source": [
        "## Εγκατάσταση βιβλιοθήκης και gym"
      ]
    },
    {
      "cell_type": "code",
      "metadata": {
        "trusted": true,
        "id": "Ak1PEPaAsvkk"
      },
      "source": [
        "!pip install --upgrade pip\n",
        "!pip install --upgrade stable_baselines3[extra]\n",
        "# we need a specific version of gym because of this issue: https://github.com/DLR-RM/stable-baselines3/issues/294\n",
        "!pip install gym==0.17.3"
      ],
      "execution_count": null,
      "outputs": []
    },
    {
      "cell_type": "markdown",
      "metadata": {
        "id": "sectcfaisvkl"
      },
      "source": [
        "## Ορισμός παιχνιδιού\n",
        "\n",
        "Βάλτε εδώ το string που αντιστοιχεί στο παιχνίδι σας. Για την ονοματολογία των περιβαλλόντων:\n",
        "- v0 vs v4: v0 has repeat_action_probability of 0.25 (meaning 25% of the time the previous action will be used instead of the new action), while v4 has 0 (always follow your issued action)\n",
        "- Deterministic: a fixed frameskip of 4, while for the env without Deterministic, frameskip is sampled from [2,4]\n",
        "- There is also NoFrameskip-v4 with no frame skip and no action repeat stochasticity.\n",
        "\n",
        "Αναλυτικότερα στην εκφώνηση της άσκησης."
      ]
    },
    {
      "cell_type": "markdown",
      "metadata": {
        "id": "fV4xRfadsvky"
      },
      "source": [
        "# Deterministic"
      ]
    },
    {
      "cell_type": "markdown",
      "metadata": {
        "id": "qzbqa8Kcsvkz"
      },
      "source": [
        "## Δημιουργία περιβάλλοντος"
      ]
    },
    {
      "cell_type": "code",
      "metadata": {
        "trusted": true,
        "id": "KvvNUe4jsvkz"
      },
      "source": [
        "atari_env_name='DemonAttackDeterministic-v4'"
      ],
      "execution_count": null,
      "outputs": []
    },
    {
      "cell_type": "code",
      "metadata": {
        "trusted": true,
        "id": "LRiQDrsWsvkz"
      },
      "source": [
        "# Here we are also multi-worker training (n_envs=4 => 4 environments), The model must support Multi Processing. To DQN δεν επιτρέπει multi envs\n",
        "env = make_atari_env(atari_env_name, n_envs=4)\n",
        "# Frame-stacking with 4 frames\n",
        "# με ένα frame έχουμε τη θέση, με δύο την ταχύτητα, με τρία την επιτάχυνση και με τέσσερα τον ρυθμό μεταβολής της επιτάχυνσης (jerk)\n",
        "env = VecFrameStack(env, n_stack=4)\n",
        "# Test environment must be unique\n",
        "test_env = make_atari_env(atari_env_name, n_envs=1)\n",
        "# Frame-stacking with 4 frames\n",
        "test_env = VecFrameStack(test_env, n_stack=4)"
      ],
      "execution_count": null,
      "outputs": []
    },
    {
      "cell_type": "markdown",
      "metadata": {
        "id": "LYRxzq0-svk0"
      },
      "source": [
        "## Εκτίμηση απόδοσης"
      ]
    },
    {
      "cell_type": "markdown",
      "metadata": {
        "id": "IWoEn2zgsvk0"
      },
      "source": [
        "## Random agent"
      ]
    },
    {
      "cell_type": "code",
      "metadata": {
        "trusted": true,
        "id": "ianOWyShsvk0",
        "outputId": "4fb5ff45-fce7-4122-c483-a28e7a56abdb"
      },
      "source": [
        "a2c_model = A2C('MlpPolicy', env, verbose=1)"
      ],
      "execution_count": null,
      "outputs": [
        {
          "output_type": "stream",
          "text": [
            "Using cuda device\n",
            "Wrapping the env in a VecTransposeImage.\n"
          ],
          "name": "stdout"
        }
      ]
    },
    {
      "cell_type": "code",
      "metadata": {
        "trusted": true,
        "id": "LCqJUumwsvk0",
        "outputId": "6e7139fa-a170-4f24-dd68-d9d3b87ddec9"
      },
      "source": [
        "mean_reward, std_reward = evaluate_policy(a2c_model, test_env, n_eval_episodes=10)\n",
        "print(f\"Eval reward: {mean_reward} (+/-{std_reward})\")"
      ],
      "execution_count": null,
      "outputs": [
        {
          "output_type": "stream",
          "text": [
            "Eval reward: 69.0 (+/-33.60059523282288)\n"
          ],
          "name": "stdout"
        }
      ]
    },
    {
      "cell_type": "markdown",
      "metadata": {
        "id": "fTGf3dZMsvk1"
      },
      "source": [
        "## Mlp Policy"
      ]
    },
    {
      "cell_type": "markdown",
      "metadata": {
        "id": "1VA8yMNOsvk1"
      },
      "source": [
        "### DQN"
      ]
    },
    {
      "cell_type": "code",
      "metadata": {
        "trusted": true,
        "id": "N1L9xliusvk1"
      },
      "source": [
        "!wget --no-check-certificate 'https://www.dropbox.com/s/0721q6alm4qvkgw/dqn_deterministic_v4_mlp.zip?dl=1' -O dqn_deterministic_v4_mlp.zip"
      ],
      "execution_count": null,
      "outputs": []
    },
    {
      "cell_type": "code",
      "metadata": {
        "trusted": true,
        "id": "v2dKour8svk2"
      },
      "source": [
        "dqn_deterministic_v4_mlp_model = DQN.load(\"dqn_deterministic_v4_mlp\", verbose=1)"
      ],
      "execution_count": null,
      "outputs": []
    },
    {
      "cell_type": "code",
      "metadata": {
        "trusted": true,
        "id": "dKi1ckdEsvk2",
        "outputId": "8e4e3805-5c74-4e0e-dde6-7870b755b8c0"
      },
      "source": [
        "mean_reward, std_reward = evaluate_policy(dqn_deterministic_v4_mlp_model, test_env, n_eval_episodes=10)\n",
        "print(f\"Eval reward: {mean_reward} (+/-{std_reward})\")"
      ],
      "execution_count": null,
      "outputs": [
        {
          "output_type": "stream",
          "text": [
            "Eval reward: 1151.5 (+/-493.97393655941)\n"
          ],
          "name": "stdout"
        }
      ]
    },
    {
      "cell_type": "markdown",
      "metadata": {
        "id": "2wcOWqWSsvk2"
      },
      "source": [
        "### QR-DQN"
      ]
    },
    {
      "cell_type": "code",
      "metadata": {
        "trusted": true,
        "id": "oX3GIcftsvk3"
      },
      "source": [
        "!wget --no-check-certificate 'https://www.dropbox.com/s/nhl8jcut27yqgpg/qrdqn_deterministic_v4_mlp.zip?dl=1' -O qrdqn_deterministic_v4_mlp.zip"
      ],
      "execution_count": null,
      "outputs": []
    },
    {
      "cell_type": "code",
      "metadata": {
        "id": "fusKAsAxu256"
      },
      "source": [
        "!pip install sb3-contrib"
      ],
      "execution_count": null,
      "outputs": []
    },
    {
      "cell_type": "code",
      "metadata": {
        "trusted": true,
        "id": "4vD3ipQVsvk3"
      },
      "source": [
        "qrdqn_deterministic_v4_mlp_model = QRDQN.load(\"qrdqn_deterministic_v4_mlp\", verbose=1)"
      ],
      "execution_count": null,
      "outputs": []
    },
    {
      "cell_type": "code",
      "metadata": {
        "trusted": true,
        "id": "jH2zTqCXsvk3",
        "outputId": "a26cd9b0-309d-4f7a-deb3-581b23e8b797"
      },
      "source": [
        "mean_reward, std_reward = evaluate_policy(qrdqn_deterministic_v4_mlp_model, test_env, n_eval_episodes=10)\n",
        "print(f\"Eval reward: {mean_reward} (+/-{std_reward})\")"
      ],
      "execution_count": null,
      "outputs": [
        {
          "output_type": "stream",
          "text": [
            "Eval reward: 2729.0 (+/-1324.6731672378662)\n"
          ],
          "name": "stdout"
        }
      ]
    },
    {
      "cell_type": "markdown",
      "metadata": {
        "id": "cWZX8Xrksvk4"
      },
      "source": [
        "### A2C"
      ]
    },
    {
      "cell_type": "code",
      "metadata": {
        "trusted": true,
        "id": "QW7ShDCHsvk4"
      },
      "source": [
        "!wget --no-check-certificate 'https://www.dropbox.com/s/9m1i2ypmbbb8jtd/a2c_deterministic_v4_mlp.zip?dl=1' -O a2c_deterministic_v4_mlp.zip"
      ],
      "execution_count": null,
      "outputs": []
    },
    {
      "cell_type": "code",
      "metadata": {
        "trusted": true,
        "id": "RfhDIfvHsvk4"
      },
      "source": [
        "a2c_deterministic_v4_mlp_model = A2C.load(\"a2c_deterministic_v4_mlp\", verbose=1)"
      ],
      "execution_count": null,
      "outputs": []
    },
    {
      "cell_type": "code",
      "metadata": {
        "trusted": true,
        "id": "RrRhZV8xsvk4",
        "outputId": "1214534c-edbf-46cc-cc44-3070a4480813"
      },
      "source": [
        "mean_reward, std_reward = evaluate_policy(a2c_deterministic_v4_mlp_model, test_env, n_eval_episodes=10)\n",
        "print(f\"Eval reward: {mean_reward} (+/-{std_reward})\")"
      ],
      "execution_count": null,
      "outputs": [
        {
          "output_type": "stream",
          "text": [
            "Eval reward: 830.0 (+/-501.55258946595023)\n"
          ],
          "name": "stdout"
        }
      ]
    },
    {
      "cell_type": "markdown",
      "metadata": {
        "id": "JqDTTaHTsvk5"
      },
      "source": [
        "### PPO"
      ]
    },
    {
      "cell_type": "code",
      "metadata": {
        "trusted": true,
        "id": "dNMnhBy4svk5"
      },
      "source": [
        "!wget --no-check-certificate 'https://www.dropbox.com/s/ldcncsn97jf40bu/ppo_deterministic_v4_mlp.zip?dl=1' -O ppo_deterministic_v4_mlp.zip"
      ],
      "execution_count": null,
      "outputs": []
    },
    {
      "cell_type": "code",
      "metadata": {
        "trusted": true,
        "id": "9_nce43Wsvk5"
      },
      "source": [
        "ppo_deterministic_v4_mlp_model = PPO.load(\"ppo_deterministic_v4_mlp\", verbose=1)"
      ],
      "execution_count": null,
      "outputs": []
    },
    {
      "cell_type": "code",
      "metadata": {
        "trusted": true,
        "id": "O4P3ZYnJsvk5",
        "outputId": "752b07a0-a38e-479e-fd4b-71021ee53a9c"
      },
      "source": [
        "mean_reward, std_reward = evaluate_policy(ppo_deterministic_v4_mlp_model, test_env, n_eval_episodes=10)\n",
        "print(f\"Eval reward: {mean_reward} (+/-{std_reward})\")"
      ],
      "execution_count": null,
      "outputs": [
        {
          "output_type": "stream",
          "text": [
            "Eval reward: 694.5 (+/-376.4800791542628)\n"
          ],
          "name": "stdout"
        }
      ]
    },
    {
      "cell_type": "markdown",
      "metadata": {
        "id": "2dHx-RKesvk6"
      },
      "source": [
        "## Cnn Policy"
      ]
    },
    {
      "cell_type": "markdown",
      "metadata": {
        "id": "_kj2zM9jsvk6"
      },
      "source": [
        "### DQN"
      ]
    },
    {
      "cell_type": "code",
      "metadata": {
        "trusted": true,
        "id": "tsldhO-Bsvk6"
      },
      "source": [
        "!wget --no-check-certificate 'https://www.dropbox.com/s/n32di6e9gvyb4sc/dqn_deterministic_v4_cnn.zip?dl=1' -O dqn_deterministic_v4_cnn.zip"
      ],
      "execution_count": null,
      "outputs": []
    },
    {
      "cell_type": "code",
      "metadata": {
        "trusted": true,
        "id": "Gj0OFKq2svk6"
      },
      "source": [
        "dqn_deterministic_v4_cnn_model = DQN.load(\"dqn_deterministic_v4_cnn\", verbose=1)"
      ],
      "execution_count": null,
      "outputs": []
    },
    {
      "cell_type": "code",
      "metadata": {
        "trusted": true,
        "id": "1vC7pHn_svk7",
        "outputId": "9ea30dc6-30d3-4a13-d34e-5dd56f5f3312"
      },
      "source": [
        "mean_reward, std_reward = evaluate_policy(dqn_deterministic_v4_cnn_model, test_env, n_eval_episodes=10)\n",
        "print(f\"Eval reward: {mean_reward} (+/-{std_reward})\")"
      ],
      "execution_count": null,
      "outputs": [
        {
          "output_type": "stream",
          "text": [
            "Eval reward: 5445.5 (+/-2064.2122589501305)\n"
          ],
          "name": "stdout"
        }
      ]
    },
    {
      "cell_type": "markdown",
      "metadata": {
        "id": "7VMJeXeysvk7"
      },
      "source": [
        "### QR-DQN"
      ]
    },
    {
      "cell_type": "code",
      "metadata": {
        "trusted": true,
        "id": "gqA9Hl5Msvk7"
      },
      "source": [
        "!wget --no-check-certificate 'https://www.dropbox.com/s/4zvzqit15gat149/qrdqn_deterministic_v4_cnn.zip?dl=1' -O qrdqn_deterministic_v4_cnn.zip"
      ],
      "execution_count": null,
      "outputs": []
    },
    {
      "cell_type": "code",
      "metadata": {
        "trusted": true,
        "id": "1YoRERmTsvk7"
      },
      "source": [
        "qrdqn_deterministic_v4_cnn_model = QRDQN.load(\"qrdqn_deterministic_v4_cnn\", verbose=1)"
      ],
      "execution_count": null,
      "outputs": []
    },
    {
      "cell_type": "code",
      "metadata": {
        "trusted": true,
        "id": "KeFcBcNasvk8",
        "outputId": "155b8799-6242-45b5-f1d3-520e643b0388"
      },
      "source": [
        "mean_reward, std_reward = evaluate_policy(qrdqn_deterministic_v4_cnn_model, test_env, n_eval_episodes=10)\n",
        "print(f\"Eval reward: {mean_reward} (+/-{std_reward})\")"
      ],
      "execution_count": null,
      "outputs": [
        {
          "output_type": "stream",
          "text": [
            "Eval reward: 18436.5 (+/-7934.384679986218)\n"
          ],
          "name": "stdout"
        }
      ]
    },
    {
      "cell_type": "markdown",
      "metadata": {
        "id": "Ei5_7RQ4svk8"
      },
      "source": [
        "### A2C"
      ]
    },
    {
      "cell_type": "code",
      "metadata": {
        "trusted": true,
        "id": "w8qS0XJGsvk8"
      },
      "source": [
        "!wget --no-check-certificate 'https://www.dropbox.com/s/l7bdew3bhultrvw/a2c_deterministic_v4_cnn.zip?dl=1' -O a2c_deterministic_v4_cnn.zip"
      ],
      "execution_count": null,
      "outputs": []
    },
    {
      "cell_type": "code",
      "metadata": {
        "trusted": true,
        "id": "2ERnPoUJsvk8"
      },
      "source": [
        "a2c_deterministic_v4_cnn_model = A2C.load(\"a2c_deterministic_v4_cnn\", verbose=1)"
      ],
      "execution_count": null,
      "outputs": []
    },
    {
      "cell_type": "code",
      "metadata": {
        "trusted": true,
        "id": "5iy0ekcEsvk9",
        "outputId": "82006e9e-6f79-4537-8289-a8918a14caa3"
      },
      "source": [
        "mean_reward, std_reward = evaluate_policy(a2c_deterministic_v4_cnn_model, test_env, n_eval_episodes=10)\n",
        "print(f\"Eval reward: {mean_reward} (+/-{std_reward})\")"
      ],
      "execution_count": null,
      "outputs": [
        {
          "output_type": "stream",
          "text": [
            "Eval reward: 2788.5 (+/-2240.322577219629)\n"
          ],
          "name": "stdout"
        }
      ]
    },
    {
      "cell_type": "markdown",
      "metadata": {
        "id": "JRJ6BXlUsvk9"
      },
      "source": [
        "### PPO"
      ]
    },
    {
      "cell_type": "code",
      "metadata": {
        "trusted": true,
        "id": "vcymC6PKsvk-"
      },
      "source": [
        "!wget --no-check-certificate 'https://www.dropbox.com/s/zy52trxe8a4b6ee/ppo_deterministic_v4_cnn.zip?dl=1' -O ppo_deterministic_v4_cnn.zip"
      ],
      "execution_count": null,
      "outputs": []
    },
    {
      "cell_type": "code",
      "metadata": {
        "trusted": true,
        "id": "eLjZMQHMsvk-"
      },
      "source": [
        "ppo_deterministic_v4_cnn_model = PPO.load(\"ppo_deterministic_v4_cnn\", verbose=1)"
      ],
      "execution_count": null,
      "outputs": []
    },
    {
      "cell_type": "code",
      "metadata": {
        "trusted": true,
        "id": "hj3wbxzksvk-",
        "outputId": "0c990890-08c5-46ce-d728-18053395bc7f"
      },
      "source": [
        "mean_reward, std_reward = evaluate_policy(ppo_deterministic_v4_cnn_model, test_env, n_eval_episodes=10)\n",
        "print(f\"Eval reward: {mean_reward} (+/-{std_reward})\")"
      ],
      "execution_count": null,
      "outputs": [
        {
          "output_type": "stream",
          "text": [
            "Eval reward: 205.5 (+/-104.46171547509643)\n"
          ],
          "name": "stdout"
        }
      ]
    },
    {
      "cell_type": "markdown",
      "metadata": {
        "id": "CknsjwPRsvk-"
      },
      "source": [
        "# Simple"
      ]
    },
    {
      "cell_type": "markdown",
      "metadata": {
        "id": "az-UiZ-_svk_"
      },
      "source": [
        "## Δημιουργία περιβάλλοντος"
      ]
    },
    {
      "cell_type": "code",
      "metadata": {
        "trusted": true,
        "id": "Hsh1kktLsvk_"
      },
      "source": [
        "atari_env_name='DemonAttack-v4'"
      ],
      "execution_count": null,
      "outputs": []
    },
    {
      "cell_type": "code",
      "metadata": {
        "trusted": true,
        "id": "9aAEhoh7svk_"
      },
      "source": [
        "# Here we are also multi-worker training (n_envs=4 => 4 environments), The model must support Multi Processing. To DQN δεν επιτρέπει multi envs\n",
        "env = make_atari_env(atari_env_name, n_envs=4)\n",
        "# Frame-stacking with 4 frames\n",
        "# με ένα frame έχουμε τη θέση, με δύο την ταχύτητα, με τρία την επιτάχυνση και με τέσσερα τον ρυθμό μεταβολής της επιτάχυνσης (jerk)\n",
        "env = VecFrameStack(env, n_stack=4)\n",
        "# Test environment must be unique\n",
        "test_env = make_atari_env(atari_env_name, n_envs=1)\n",
        "# Frame-stacking with 4 frames\n",
        "test_env = VecFrameStack(test_env, n_stack=4)"
      ],
      "execution_count": null,
      "outputs": []
    },
    {
      "cell_type": "markdown",
      "metadata": {
        "id": "idtMubv1svk_"
      },
      "source": [
        "## Εκτίμηση απόδοσης"
      ]
    },
    {
      "cell_type": "markdown",
      "metadata": {
        "id": "QMUV4OFYsvk_"
      },
      "source": [
        "## Random agent"
      ]
    },
    {
      "cell_type": "code",
      "metadata": {
        "trusted": true,
        "id": "b4T7t_CqsvlA",
        "outputId": "49ff819f-0156-4426-9c27-d58f04bf8192"
      },
      "source": [
        "a2c_model = A2C('MlpPolicy', env, verbose=1)"
      ],
      "execution_count": null,
      "outputs": [
        {
          "output_type": "stream",
          "text": [
            "Using cuda device\n",
            "Wrapping the env in a VecTransposeImage.\n"
          ],
          "name": "stdout"
        }
      ]
    },
    {
      "cell_type": "code",
      "metadata": {
        "trusted": true,
        "id": "KwtxzQBUsvlA",
        "outputId": "44943dea-e32e-4302-854b-ba22cd9ec9b7"
      },
      "source": [
        "mean_reward, std_reward = evaluate_policy(a2c_model, test_env, n_eval_episodes=10)\n",
        "print(f\"Eval reward: {mean_reward} (+/-{std_reward})\")"
      ],
      "execution_count": null,
      "outputs": [
        {
          "output_type": "stream",
          "text": [
            "Eval reward: 200.0 (+/-129.4990347454374)\n"
          ],
          "name": "stdout"
        }
      ]
    },
    {
      "cell_type": "markdown",
      "metadata": {
        "id": "1MrqZdCtsvlA"
      },
      "source": [
        "## Mlp Policy"
      ]
    },
    {
      "cell_type": "markdown",
      "metadata": {
        "id": "lbTyLikTsvlA"
      },
      "source": [
        "### DQN"
      ]
    },
    {
      "cell_type": "code",
      "metadata": {
        "trusted": true,
        "id": "OXgEFB8hsvlB"
      },
      "source": [
        "!wget --no-check-certificate 'https://www.dropbox.com/s/v7cox9vj8pcrqie/dqn_v4_mlp.zip?dl=1' -O dqn_v4_mlp.zip"
      ],
      "execution_count": null,
      "outputs": []
    },
    {
      "cell_type": "code",
      "metadata": {
        "trusted": true,
        "id": "kvcJRdy8svlB"
      },
      "source": [
        "dqn_v4_mlp_model = DQN.load(\"dqn_v4_mlp\", verbose=1)"
      ],
      "execution_count": null,
      "outputs": []
    },
    {
      "cell_type": "code",
      "metadata": {
        "trusted": true,
        "id": "JOCmldizsvlB",
        "outputId": "c26df895-12f1-4ab3-b1a9-b41a74804385"
      },
      "source": [
        "mean_reward, std_reward = evaluate_policy(dqn_v4_mlp_model, test_env, n_eval_episodes=10)\n",
        "print(f\"Eval reward: {mean_reward} (+/-{std_reward})\")"
      ],
      "execution_count": null,
      "outputs": [
        {
          "output_type": "stream",
          "text": [
            "Eval reward: 1273.5 (+/-1040.584090787477)\n"
          ],
          "name": "stdout"
        }
      ]
    },
    {
      "cell_type": "markdown",
      "metadata": {
        "id": "Gf_zj_DHsvlB"
      },
      "source": [
        "### QR-DQN"
      ]
    },
    {
      "cell_type": "code",
      "metadata": {
        "trusted": true,
        "id": "T14_x3ZpsvlB"
      },
      "source": [
        "!wget --no-check-certificate 'https://www.dropbox.com/s/87npmy3yrcwxzh4/qrdqn_v4_mlp.zip?dl=1' -O qrdqn_v4_mlp.zip"
      ],
      "execution_count": null,
      "outputs": []
    },
    {
      "cell_type": "code",
      "metadata": {
        "trusted": true,
        "id": "PlFNZjeHsvlC"
      },
      "source": [
        "qrdqn_v4_mlp_model = QRDQN.load(\"qrdqn_v4_mlp\", verbose=1)"
      ],
      "execution_count": null,
      "outputs": []
    },
    {
      "cell_type": "code",
      "metadata": {
        "trusted": true,
        "id": "h6scvU6AsvlC",
        "outputId": "84621dba-24a5-426d-9df8-8a06cd1d9b8a"
      },
      "source": [
        "mean_reward, std_reward = evaluate_policy(qrdqn_v4_mlp_model, test_env, n_eval_episodes=10)\n",
        "print(f\"Eval reward: {mean_reward} (+/-{std_reward})\")"
      ],
      "execution_count": null,
      "outputs": [
        {
          "output_type": "stream",
          "text": [
            "Eval reward: 890.0 (+/-631.9177161624764)\n"
          ],
          "name": "stdout"
        }
      ]
    },
    {
      "cell_type": "markdown",
      "metadata": {
        "id": "aqYanx_UsvlC"
      },
      "source": [
        "### A2C"
      ]
    },
    {
      "cell_type": "code",
      "metadata": {
        "trusted": true,
        "id": "URRA8cYTsvlD"
      },
      "source": [
        "!wget --no-check-certificate 'https://www.dropbox.com/s/r3lzgvgsaq57u1e/a2c_v4_mlp.zip?dl=1' -O a2c_v4_mlp.zip"
      ],
      "execution_count": null,
      "outputs": []
    },
    {
      "cell_type": "code",
      "metadata": {
        "trusted": true,
        "id": "YW1ahmtgsvlD"
      },
      "source": [
        "a2c_v4_mlp_model = A2C.load(\"a2c_v4_mlp\", verbose=1)"
      ],
      "execution_count": null,
      "outputs": []
    },
    {
      "cell_type": "code",
      "metadata": {
        "trusted": true,
        "id": "ZlnP8nW4svlD",
        "outputId": "50265ed6-31f2-48e9-bd27-14928c09a833"
      },
      "source": [
        "mean_reward, std_reward = evaluate_policy(a2c_v4_mlp_model, test_env, n_eval_episodes=10)\n",
        "print(f\"Eval reward: {mean_reward} (+/-{std_reward})\")"
      ],
      "execution_count": null,
      "outputs": [
        {
          "output_type": "stream",
          "text": [
            "Eval reward: 85.0 (+/-32.63433774416144)\n"
          ],
          "name": "stdout"
        }
      ]
    },
    {
      "cell_type": "markdown",
      "metadata": {
        "id": "jcHX1kxdsvlD"
      },
      "source": [
        "### PPO"
      ]
    },
    {
      "cell_type": "code",
      "metadata": {
        "trusted": true,
        "id": "KlC_uaMzsvlE"
      },
      "source": [
        "!wget --no-check-certificate 'https://www.dropbox.com/s/zxkvbquk4h56158/ppo_v4_mlp.zip?dl=1' -O ppo_v4_mlp.zip"
      ],
      "execution_count": null,
      "outputs": []
    },
    {
      "cell_type": "code",
      "metadata": {
        "trusted": true,
        "id": "BWBRTnRgsvlE"
      },
      "source": [
        "ppo_v4_mlp_model = PPO.load(\"ppo_v4_mlp\", verbose=1)"
      ],
      "execution_count": null,
      "outputs": []
    },
    {
      "cell_type": "code",
      "metadata": {
        "trusted": true,
        "id": "r57oBbAssvlE",
        "outputId": "176a9f3f-1038-4b03-8cb2-a9cf6f823488"
      },
      "source": [
        "mean_reward, std_reward = evaluate_policy(ppo_v4_mlp_model, test_env, n_eval_episodes=10)\n",
        "print(f\"Eval reward: {mean_reward} (+/-{std_reward})\")"
      ],
      "execution_count": null,
      "outputs": [
        {
          "output_type": "stream",
          "text": [
            "Eval reward: 414.5 (+/-367.75977213392986)\n"
          ],
          "name": "stdout"
        }
      ]
    },
    {
      "cell_type": "markdown",
      "metadata": {
        "id": "K50NzC_IsvlE"
      },
      "source": [
        "## Cnn Policy"
      ]
    },
    {
      "cell_type": "markdown",
      "metadata": {
        "id": "JGkILM9GsvlF"
      },
      "source": [
        "### DQN"
      ]
    },
    {
      "cell_type": "code",
      "metadata": {
        "trusted": true,
        "id": "3mQzQcxdsvlF"
      },
      "source": [
        "!wget --no-check-certificate 'https://www.dropbox.com/s/rzg4filwyylwr1y/dqn_v4_cnn.zip?dl=1' -O dqn_v4_cnn.zip"
      ],
      "execution_count": null,
      "outputs": []
    },
    {
      "cell_type": "code",
      "metadata": {
        "trusted": true,
        "id": "yOGBdpMvsvlF"
      },
      "source": [
        "dqn_v4_cnn_model = DQN.load(\"dqn_v4_cnn\", verbose=1)"
      ],
      "execution_count": null,
      "outputs": []
    },
    {
      "cell_type": "code",
      "metadata": {
        "trusted": true,
        "id": "m_SFYf6GsvlF",
        "outputId": "b7c9ee90-c1fe-4c51-c027-602b47028fc6"
      },
      "source": [
        "mean_reward, std_reward = evaluate_policy(dqn_v4_cnn_model, test_env, n_eval_episodes=10)\n",
        "print(f\"Eval reward: {mean_reward} (+/-{std_reward})\")"
      ],
      "execution_count": null,
      "outputs": [
        {
          "output_type": "stream",
          "text": [
            "Eval reward: 5230.5 (+/-2210.2176928981453)\n"
          ],
          "name": "stdout"
        }
      ]
    },
    {
      "cell_type": "markdown",
      "metadata": {
        "id": "bpuC-4kmsvlG"
      },
      "source": [
        "### QR-DQN"
      ]
    },
    {
      "cell_type": "code",
      "metadata": {
        "trusted": true,
        "id": "VBOu4hR_svlG"
      },
      "source": [
        "!wget --no-check-certificate 'https://www.dropbox.com/s/xzqvqdy1sgofoq2/qrdqn_v4_cnn.zip?dl=1' -O qrdqn_v4_cnn.zip"
      ],
      "execution_count": null,
      "outputs": []
    },
    {
      "cell_type": "code",
      "metadata": {
        "trusted": true,
        "id": "hOmNlCIVsvlG"
      },
      "source": [
        "qrdqn_v4_cnn_model = QRDQN.load(\"qrdqn_v4_cnn\", verbose=1)"
      ],
      "execution_count": null,
      "outputs": []
    },
    {
      "cell_type": "code",
      "metadata": {
        "trusted": true,
        "id": "rE6YRpQGsvlG",
        "outputId": "320359eb-6ed3-4fb8-8cb1-3783c906b036"
      },
      "source": [
        "mean_reward, std_reward = evaluate_policy(qrdqn_v4_cnn_model, test_env, n_eval_episodes=10)\n",
        "print(f\"Eval reward: {mean_reward} (+/-{std_reward})\")"
      ],
      "execution_count": null,
      "outputs": [
        {
          "output_type": "stream",
          "text": [
            "Eval reward: 9727.0 (+/-5295.047780709821)\n"
          ],
          "name": "stdout"
        }
      ]
    },
    {
      "cell_type": "markdown",
      "metadata": {
        "id": "wVxs5JHMsvlH"
      },
      "source": [
        "### A2C"
      ]
    },
    {
      "cell_type": "code",
      "metadata": {
        "trusted": true,
        "id": "kM2imYatsvlH"
      },
      "source": [
        "!wget --no-check-certificate 'https://www.dropbox.com/s/lpwn8pzxhw6cim7/a2c_v4_cnn.zip?dl=1' -O a2c_v4_cnn.zip"
      ],
      "execution_count": null,
      "outputs": []
    },
    {
      "cell_type": "code",
      "metadata": {
        "trusted": true,
        "id": "WZYOwgHUsvlH"
      },
      "source": [
        "a2c_v4_cnn_model = A2C.load(\"a2c_v4_cnn\", verbose=1)"
      ],
      "execution_count": null,
      "outputs": []
    },
    {
      "cell_type": "code",
      "metadata": {
        "trusted": true,
        "id": "PpFvDoEUsvlH",
        "outputId": "2a9c8cb1-c486-4fd7-92da-22b1690796c5"
      },
      "source": [
        "mean_reward, std_reward = evaluate_policy(a2c_v4_cnn_model, test_env, n_eval_episodes=10)\n",
        "print(f\"Eval reward: {mean_reward} (+/-{std_reward})\")"
      ],
      "execution_count": null,
      "outputs": [
        {
          "output_type": "stream",
          "text": [
            "Eval reward: 1999.5 (+/-893.0662069522058)\n"
          ],
          "name": "stdout"
        }
      ]
    },
    {
      "cell_type": "markdown",
      "metadata": {
        "id": "YJoJaI1XsvlI"
      },
      "source": [
        "### PPO"
      ]
    },
    {
      "cell_type": "code",
      "metadata": {
        "trusted": true,
        "id": "so9BshEusvlI"
      },
      "source": [
        "!wget --no-check-certificate 'https://www.dropbox.com/s/s7bevcpxk0vglhj/ppo_v4_cnn.zip?dl=1' -O ppo_v4_cnn.zip"
      ],
      "execution_count": null,
      "outputs": []
    },
    {
      "cell_type": "code",
      "metadata": {
        "trusted": true,
        "id": "n6EXE0-KsvlI"
      },
      "source": [
        "ppo_v4_cnn_model = PPO.load(\"ppo_v4_cnn\", verbose=1)"
      ],
      "execution_count": null,
      "outputs": []
    },
    {
      "cell_type": "code",
      "metadata": {
        "trusted": true,
        "id": "UfWwdh3xsvlI",
        "outputId": "5339305e-83b7-4e27-8c20-3d63c47259c2"
      },
      "source": [
        "mean_reward, std_reward = evaluate_policy(ppo_v4_cnn_model, test_env, n_eval_episodes=10)\n",
        "print(f\"Eval reward: {mean_reward} (+/-{std_reward})\")"
      ],
      "execution_count": null,
      "outputs": [
        {
          "output_type": "stream",
          "text": [
            "Eval reward: 187.5 (+/-97.57689275643081)\n"
          ],
          "name": "stdout"
        }
      ]
    },
    {
      "cell_type": "markdown",
      "metadata": {
        "id": "5v-Exwwvtti_"
      },
      "source": [
        "# NoFrameskip"
      ]
    },
    {
      "cell_type": "markdown",
      "metadata": {
        "id": "9750kz-mttjA"
      },
      "source": [
        "## Δημιουργία περιβάλλοντος"
      ]
    },
    {
      "cell_type": "code",
      "metadata": {
        "trusted": true,
        "scrolled": false,
        "id": "MViqhAtZttjA"
      },
      "source": [
        "atari_env_name='DemonAttackNoFrameskip-v4'"
      ],
      "execution_count": null,
      "outputs": []
    },
    {
      "cell_type": "markdown",
      "metadata": {
        "id": "laLRsM7TttjA"
      },
      "source": [
        "## Εκτίμηση απόδοσης"
      ]
    },
    {
      "cell_type": "code",
      "metadata": {
        "trusted": true,
        "id": "vSsaAB3wttjB"
      },
      "source": [
        "from stable_baselines3.common.env_util import make_atari_env\n",
        "from stable_baselines3.common.vec_env import VecFrameStack\n",
        "\n",
        "# Here we are also multi-worker training (n_envs=4 => 4 environments), The model must support Multi Processing. To DQN δεν επιτρέπει multi envs\n",
        "env = make_atari_env(atari_env_name, n_envs=4)\n",
        "# Frame-stacking with 4 frames\n",
        "# με ένα frame έχουμε τη θέση, με δύο την ταχύτητα, με τρία την επιτάχυνση και με τέσσερα τον ρυθμό μεταβολής της επιτάχυνσης (jerk)\n",
        "env = VecFrameStack(env, n_stack=4)\n",
        "# Test environment must be unique\n",
        "test_env = make_atari_env(atari_env_name, n_envs=1)\n",
        "# Frame-stacking with 4 frames\n",
        "test_env = VecFrameStack(test_env, n_stack=4)"
      ],
      "execution_count": null,
      "outputs": []
    },
    {
      "cell_type": "code",
      "metadata": {
        "trusted": true,
        "id": "6-5xUK2lttjB"
      },
      "source": [
        "from stable_baselines3.common.evaluation import evaluate_policy"
      ],
      "execution_count": null,
      "outputs": []
    },
    {
      "cell_type": "markdown",
      "metadata": {
        "id": "gocTox_ottjB"
      },
      "source": [
        "## Random agent"
      ]
    },
    {
      "cell_type": "code",
      "metadata": {
        "trusted": true,
        "id": "-K9hEpauttjC",
        "outputId": "1f880d08-d838-42f1-96e9-93940ef01386"
      },
      "source": [
        "from stable_baselines3 import A2C\n",
        "a2c_model = A2C('MlpPolicy', env, verbose=1)"
      ],
      "execution_count": null,
      "outputs": [
        {
          "output_type": "stream",
          "text": [
            "Using cuda device\n",
            "Wrapping the env in a VecTransposeImage.\n"
          ],
          "name": "stdout"
        }
      ]
    },
    {
      "cell_type": "code",
      "metadata": {
        "trusted": true,
        "id": "37LAdZsXttjC",
        "outputId": "f30b682e-788c-4e7f-86f9-4463b601b9d5"
      },
      "source": [
        "mean_reward, std_reward = evaluate_policy(a2c_model, test_env, n_eval_episodes=10)\n",
        "print(f\"Eval reward: {mean_reward} (+/-{std_reward})\")"
      ],
      "execution_count": null,
      "outputs": [
        {
          "output_type": "stream",
          "text": [
            "Eval reward: 77.0 (+/-24.515301344262525)\n"
          ],
          "name": "stdout"
        }
      ]
    },
    {
      "cell_type": "markdown",
      "metadata": {
        "id": "REDUAI44ttjD"
      },
      "source": [
        "## Mlp Policy"
      ]
    },
    {
      "cell_type": "markdown",
      "metadata": {
        "id": "u1i7GvCcttjD"
      },
      "source": [
        "### DQN"
      ]
    },
    {
      "cell_type": "code",
      "metadata": {
        "trusted": true,
        "id": "E0tlr0svttjD"
      },
      "source": [
        "!wget --no-check-certificate 'https://www.dropbox.com/s/pu4w2di472l1d7e/dqn_noframeskip_v4_mlp.zip?dl=1' -O dqn_noframeskip_v4_mlp.zip"
      ],
      "execution_count": null,
      "outputs": []
    },
    {
      "cell_type": "code",
      "metadata": {
        "trusted": true,
        "id": "_9qu3DFattjD"
      },
      "source": [
        "from stable_baselines3 import DQN\n",
        "dqn_noframeskip_v4_mlp_model = DQN.load(\"dqn_noframeskip_v4_mlp\", verbose=1)"
      ],
      "execution_count": null,
      "outputs": []
    },
    {
      "cell_type": "code",
      "metadata": {
        "trusted": true,
        "id": "6vs6t_zuttjE",
        "outputId": "48331fba-0ea6-4f3b-af53-02939c9dd51b"
      },
      "source": [
        "mean_reward, std_reward = evaluate_policy(dqn_noframeskip_v4_mlp_model, test_env, n_eval_episodes=10)\n",
        "print(f\"Eval reward: {mean_reward} (+/-{std_reward})\")"
      ],
      "execution_count": null,
      "outputs": [
        {
          "output_type": "stream",
          "text": [
            "Eval reward: 264.0 (+/-122.83729075488436)\n"
          ],
          "name": "stdout"
        }
      ]
    },
    {
      "cell_type": "markdown",
      "metadata": {
        "id": "LLIVQoCRttjE"
      },
      "source": [
        "### QR-DQN"
      ]
    },
    {
      "cell_type": "code",
      "metadata": {
        "trusted": true,
        "id": "Aw97spbXttjE"
      },
      "source": [
        "!wget --no-check-certificate 'https://www.dropbox.com/s/ri50lgrp7yw8ro2/qrdqn_noframeskip_v4_mlp.zip?dl=1' -O qrdqn_noframeskip_v4_mlp.zip"
      ],
      "execution_count": null,
      "outputs": []
    },
    {
      "cell_type": "code",
      "metadata": {
        "trusted": true,
        "id": "4Nl4i3usttjF"
      },
      "source": [
        "from sb3_contrib import QRDQN\n",
        "qrdqn_noframeskip_v4_mlp_model = QRDQN.load(\"qrdqn_noframeskip_v4_mlp\", verbose=1)"
      ],
      "execution_count": null,
      "outputs": []
    },
    {
      "cell_type": "code",
      "metadata": {
        "trusted": true,
        "id": "AbiM_2MEttjF",
        "outputId": "e97a6b55-87e8-48c7-af20-6e086b2aa358"
      },
      "source": [
        "mean_reward, std_reward = evaluate_policy(qrdqn_noframeskip_v4_mlp_model, test_env, n_eval_episodes=10)\n",
        "print(f\"Eval reward: {mean_reward} (+/-{std_reward})\")"
      ],
      "execution_count": null,
      "outputs": [
        {
          "output_type": "stream",
          "text": [
            "Eval reward: 226.5 (+/-158.6513472996684)\n"
          ],
          "name": "stdout"
        }
      ]
    },
    {
      "cell_type": "markdown",
      "metadata": {
        "id": "nZOnbT5WttjG"
      },
      "source": [
        "### A2C"
      ]
    },
    {
      "cell_type": "code",
      "metadata": {
        "trusted": true,
        "id": "_SMpNgVYttjG"
      },
      "source": [
        "!wget --no-check-certificate 'https://www.dropbox.com/s/57m2jzv1p1a2rid/a2c_noframeskip_v4_mlp.zip?dl=1' -O a2c_noframeskip_v4_mlp.zip"
      ],
      "execution_count": null,
      "outputs": []
    },
    {
      "cell_type": "code",
      "metadata": {
        "trusted": true,
        "id": "iascbSjtttjG"
      },
      "source": [
        "a2c_noframeskip_v4_mlp_model = A2C.load(\"a2c_noframeskip_v4_mlp\", verbose=1)"
      ],
      "execution_count": null,
      "outputs": []
    },
    {
      "cell_type": "code",
      "metadata": {
        "trusted": true,
        "id": "bmf2OKr0ttjG",
        "outputId": "788efb26-3eee-4264-95dd-0ae354fad6de"
      },
      "source": [
        "mean_reward, std_reward = evaluate_policy(a2c_noframeskip_v4_mlp_model, test_env, n_eval_episodes=10)\n",
        "print(f\"Eval reward: {mean_reward} (+/-{std_reward})\")"
      ],
      "execution_count": null,
      "outputs": [
        {
          "output_type": "stream",
          "text": [
            "Eval reward: 76.0 (+/-21.540659228538015)\n"
          ],
          "name": "stdout"
        }
      ]
    },
    {
      "cell_type": "markdown",
      "metadata": {
        "id": "pPgv7YGWttjH"
      },
      "source": [
        "### PPO"
      ]
    },
    {
      "cell_type": "code",
      "metadata": {
        "trusted": true,
        "id": "L61fLGYXttjH"
      },
      "source": [
        "!wget --no-check-certificate 'https://www.dropbox.com/s/w1z7zdxynyvmpo5/ppo_noframeskip_v4_mlp.zip?dl=1' -O ppo_noframeskip_v4_mlp.zip"
      ],
      "execution_count": null,
      "outputs": []
    },
    {
      "cell_type": "code",
      "metadata": {
        "trusted": true,
        "id": "B9xd_M4zttjH"
      },
      "source": [
        "from stable_baselines3 import PPO\n",
        "ppo_noframeskip_v4_mlp_model = PPO.load(\"ppo_noframeskip_v4_mlp\", verbose=1)"
      ],
      "execution_count": null,
      "outputs": []
    },
    {
      "cell_type": "code",
      "metadata": {
        "trusted": true,
        "id": "PzjOk4YGttjH",
        "outputId": "5adf4f62-fce4-4d1d-dbd1-e939a2040f88"
      },
      "source": [
        "mean_reward, std_reward = evaluate_policy(ppo_noframeskip_v4_mlp_model, test_env, n_eval_episodes=10)\n",
        "print(f\"Eval reward: {mean_reward} (+/-{std_reward})\")"
      ],
      "execution_count": null,
      "outputs": [
        {
          "output_type": "stream",
          "text": [
            "Eval reward: 589.5 (+/-383.1282422375046)\n"
          ],
          "name": "stdout"
        }
      ]
    },
    {
      "cell_type": "markdown",
      "metadata": {
        "id": "Mgo2cM_BttjI"
      },
      "source": [
        "## Cnn Policy"
      ]
    },
    {
      "cell_type": "markdown",
      "metadata": {
        "id": "w80Dqw_0ttjI"
      },
      "source": [
        "### DQN"
      ]
    },
    {
      "cell_type": "code",
      "metadata": {
        "trusted": true,
        "id": "SgA58tAkttjI"
      },
      "source": [
        "!wget --no-check-certificate 'https://www.dropbox.com/s/a94hme2qfv8ivz9/dqn_noframeskip_v4_cnn.zip?dl=1' -O dqn_noframeskip_v4_cnn.zip"
      ],
      "execution_count": null,
      "outputs": []
    },
    {
      "cell_type": "code",
      "metadata": {
        "trusted": true,
        "id": "BOh-ABX2ttjI"
      },
      "source": [
        "dqn_noframeskip_v4_cnn_model = DQN.load(\"dqn_noframeskip_v4_cnn\", verbose=1)"
      ],
      "execution_count": null,
      "outputs": []
    },
    {
      "cell_type": "code",
      "metadata": {
        "trusted": true,
        "id": "ibCw7LjzttjJ",
        "outputId": "7c908c85-edd4-45cf-ac7c-ae0471d4955f"
      },
      "source": [
        "mean_reward, std_reward = evaluate_policy(dqn_noframeskip_v4_cnn_model, test_env, n_eval_episodes=10)\n",
        "print(f\"Eval reward: {mean_reward} (+/-{std_reward})\")"
      ],
      "execution_count": null,
      "outputs": [
        {
          "output_type": "stream",
          "text": [
            "Eval reward: 7712.5 (+/-500.4560420256708)\n"
          ],
          "name": "stdout"
        }
      ]
    },
    {
      "cell_type": "markdown",
      "metadata": {
        "id": "WVb00TemttjJ"
      },
      "source": [
        "### QR-DQN"
      ]
    },
    {
      "cell_type": "code",
      "metadata": {
        "trusted": true,
        "id": "yurPUqj3ttjJ"
      },
      "source": [
        "!wget --no-check-certificate 'https://www.dropbox.com/s/uqt35qmz55za8l0/qrdqn_noframeskip_v4_cnn.zip?dl=1' -O qrdqn_noframeskip_v4_cnn.zip"
      ],
      "execution_count": null,
      "outputs": []
    },
    {
      "cell_type": "code",
      "metadata": {
        "trusted": true,
        "id": "3IVxwUFittjJ"
      },
      "source": [
        "qrdqn_noframeskip_v4_cnn_model = QRDQN.load(\"qrdqn_noframeskip_v4_cnn\", verbose=1)"
      ],
      "execution_count": null,
      "outputs": []
    },
    {
      "cell_type": "code",
      "metadata": {
        "trusted": true,
        "id": "-ogabjDSttjJ",
        "outputId": "647ba040-7b06-45b0-c54b-ac683a74ca93"
      },
      "source": [
        "mean_reward, std_reward = evaluate_policy(qrdqn_noframeskip_v4_cnn_model, test_env, n_eval_episodes=10)\n",
        "print(f\"Eval reward: {mean_reward} (+/-{std_reward})\")"
      ],
      "execution_count": null,
      "outputs": [
        {
          "output_type": "stream",
          "text": [
            "Eval reward: 23998.5 (+/-9427.44399346928)\n"
          ],
          "name": "stdout"
        }
      ]
    },
    {
      "cell_type": "markdown",
      "metadata": {
        "id": "svaKmtd4ttjK"
      },
      "source": [
        "### A2C"
      ]
    },
    {
      "cell_type": "code",
      "metadata": {
        "trusted": true,
        "id": "kaLRjdOTttjK"
      },
      "source": [
        "!wget --no-check-certificate 'https://www.dropbox.com/s/ejd2ie8vt0o57rb/a2c_noframeskip_v4_cnn.zip?dl=1' -O a2c_noframeskip_v4_cnn.zip"
      ],
      "execution_count": null,
      "outputs": []
    },
    {
      "cell_type": "code",
      "metadata": {
        "trusted": true,
        "id": "ou05YKCCttjK"
      },
      "source": [
        "a2c_noframeskip_v4_cnn_model = A2C.load(\"a2c_noframeskip_v4_cnn\", verbose=1)"
      ],
      "execution_count": null,
      "outputs": []
    },
    {
      "cell_type": "code",
      "metadata": {
        "trusted": true,
        "id": "ybDT5gx2ttjL",
        "outputId": "90232640-3780-47a5-c4af-4a62501a3f72"
      },
      "source": [
        "mean_reward, std_reward = evaluate_policy(a2c_noframeskip_v4_cnn_model, test_env, n_eval_episodes=10)\n",
        "print(f\"Eval reward: {mean_reward} (+/-{std_reward})\")"
      ],
      "execution_count": null,
      "outputs": [
        {
          "output_type": "stream",
          "text": [
            "Eval reward: 1026.0 (+/-600.4073617136952)\n"
          ],
          "name": "stdout"
        }
      ]
    },
    {
      "cell_type": "markdown",
      "metadata": {
        "id": "jWf3sEGJttjL"
      },
      "source": [
        "### PPO"
      ]
    },
    {
      "cell_type": "code",
      "metadata": {
        "trusted": true,
        "id": "QpnmeRKettjL"
      },
      "source": [
        "!wget --no-check-certificate 'https://www.dropbox.com/s/gcuazad8ezs8eyc/ppo_noframeskip_v4_cnn.zip?dl=1' -O ppo_noframeskip_v4_cnn.zip"
      ],
      "execution_count": null,
      "outputs": []
    },
    {
      "cell_type": "code",
      "metadata": {
        "trusted": true,
        "id": "sUBSAPFQttjL"
      },
      "source": [
        "ppo_noframeskip_v4_cnn_model = PPO.load(\"ppo_noframeskip_v4_cnn\", verbose=1)"
      ],
      "execution_count": null,
      "outputs": []
    },
    {
      "cell_type": "code",
      "metadata": {
        "trusted": true,
        "id": "KzaJtn6jttjM",
        "outputId": "3bc88508-7f47-4a00-91c9-9eca33d41f89"
      },
      "source": [
        "mean_reward, std_reward = evaluate_policy(ppo_noframeskip_v4_cnn_model, test_env, n_eval_episodes=10)\n",
        "print(f\"Eval reward: {mean_reward} (+/-{std_reward})\")"
      ],
      "execution_count": null,
      "outputs": [
        {
          "output_type": "stream",
          "text": [
            "Eval reward: 370.0 (+/-158.38244852255568)\n"
          ],
          "name": "stdout"
        }
      ]
    }
  ]
}